{
 "cells": [
  {
   "cell_type": "markdown",
   "id": "488984e1",
   "metadata": {},
   "source": [
    "## 공공데이터 API\n",
    "\n",
    "- 제공하는 지자체, 정부부처마다 접근 url등이 상이함\n",
    "\n",
    "    - 데이터 별로 필요 내용 확인\n",
    "    - 요청변수 확인\n",
    "    - 요청 url : 신청한 데이터의 상세설명에서 제공하고 있음\n",
    "- data.go.kr"
   ]
  },
  {
   "cell_type": "markdown",
   "id": "78497452",
   "metadata": {},
   "source": [
    "### 국립 중앙의료원 제공 전국 약국 정보 data\n",
    "- 국립중앙의료원_전국 약국 정보 조회 서비스 데이터 사용 요청\n",
    "- 요청변수가 코드가 아닌 실제 지역명 등 한글 이름을 사용해야 함\n",
    "- 한글 엔코딩 처리 : quote()\n",
    "- endpoint : http://apis.data.go.kr/B552657/ErmctInsttInfoInqireService/getParmacyListInfoInqire"
   ]
  },
  {
   "cell_type": "code",
   "execution_count": 19,
   "id": "cff7856a",
   "metadata": {},
   "outputs": [
    {
     "name": "stdout",
     "output_type": "stream",
     "text": [
      "Requirement already satisfied: beautifulsoup4 in c:\\users\\사용자\\appdata\\local\\programs\\python\\python310\\lib\\site-packages (4.12.2)\n",
      "Requirement already satisfied: soupsieve>1.2 in c:\\users\\사용자\\appdata\\local\\programs\\python\\python310\\lib\\site-packages (from beautifulsoup4) (2.4.1)\n"
     ]
    }
   ],
   "source": [
    "!pip install beautifulsoup4"
   ]
  },
  {
   "cell_type": "code",
   "execution_count": 20,
   "id": "18222d4f",
   "metadata": {},
   "outputs": [],
   "source": [
    "from urllib.parse import quote\n",
    "import requests\n",
    "from bs4 import BeautifulSoup"
   ]
  },
  {
   "cell_type": "code",
   "execution_count": 21,
   "id": "c8caa0d1",
   "metadata": {},
   "outputs": [],
   "source": [
    "s_key = '7OB1%2F8OqkciieFgVyHpsOqEzhhhtGwp30loPfSSxv6%2FacTrnLEiVC51oR%2B4qhemtGMmkV095pbnZWBFCXO%2FRJw%3D%3D'\n",
    "endpoint='http://apis.data.go.kr/B552657/ErmctInsttInfoInqireService/getParmacyListInfoInqire'\n",
    "# s_key='azOlzHmE12kpPv/6L9CM1ylcu+fqgba5RR/xip8K1OQuncWE3OGzAW5hiE2oKb6fbaMFwkSf8YGy1sytUI5feA=='"
   ]
  },
  {
   "cell_type": "code",
   "execution_count": 22,
   "id": "7b9663b8",
   "metadata": {},
   "outputs": [
    {
     "name": "stdout",
     "output_type": "stream",
     "text": [
      "b'<OpenAPI_ServiceResponse>\\n\\t<cmmMsgHeader>\\n\\t\\t<errMsg>SERVICE ERROR</errMsg>\\n\\t\\t<returnAuthMsg>SERVICE_KEY_IS_NOT_REGISTERED_ERROR</returnAuthMsg>\\n\\t\\t<returnReasonCode>30</returnReasonCode>\\n\\t</cmmMsgHeader>\\n</OpenAPI_ServiceResponse>'\n"
     ]
    }
   ],
   "source": [
    "# import requests\n",
    "\n",
    "url = 'http://apis.data.go.kr/B552657/ErmctInsttInfoInqireService/getParmacyListInfoInqire'\n",
    "params ={'serviceKey' : s_key, 'Q0' : '서울특별시', 'Q1' : '강남구', 'QT' : '1', 'QN' : '삼성약국', 'ORD' : 'NAME', 'pageNo' : '1', 'numOfRows' : '10' }\n",
    "\n",
    "result = requests.get(url, params=params)\n",
    "print(result.content)"
   ]
  },
  {
   "cell_type": "code",
   "execution_count": 23,
   "id": "258fef00",
   "metadata": {},
   "outputs": [],
   "source": [
    "QT = '1' # 월요일에 여는 약국\n",
    "QN = quote('삼성약국')\n",
    "Q0 = quote('서울특별시') # 광역시도\n",
    "Q1 = quote('강남구') # 시군구\n",
    "ORD = 'NAME' # 정렬기준\n",
    "pageNo = '1'\n",
    "numOfRows = '10'"
   ]
  },
  {
   "cell_type": "code",
   "execution_count": 24,
   "id": "40d00046",
   "metadata": {},
   "outputs": [],
   "source": [
    "paramset = \"?serviceKey=\"+s_key+\"&\"\\\n",
    "          + \"Q0=\"+ Q0 + \"&\" \\\n",
    "          +\"Q1=\"+Q1+\"&\"\\\n",
    "          +\"QT=\"+QT+\"&\"\\\n",
    "          +\"QN=\"+QN+\"&\"\\\n",
    "          +\"ORD=\"+ORD+\"&\" \\\n",
    "          + \"numOfRows=\" + numOfRows "
   ]
  },
  {
   "cell_type": "code",
   "execution_count": 25,
   "id": "50ee043c",
   "metadata": {},
   "outputs": [
    {
     "data": {
      "text/plain": [
       "'?serviceKey=7OB1%2F8OqkciieFgVyHpsOqEzhhhtGwp30loPfSSxv6%2FacTrnLEiVC51oR%2B4qhemtGMmkV095pbnZWBFCXO%2FRJw%3D%3D&Q0=%EC%84%9C%EC%9A%B8%ED%8A%B9%EB%B3%84%EC%8B%9C&Q1=%EA%B0%95%EB%82%A8%EA%B5%AC&QT=1&QN=%EC%82%BC%EC%84%B1%EC%95%BD%EA%B5%AD&ORD=NAME&numOfRows=10'"
      ]
     },
     "execution_count": 25,
     "metadata": {},
     "output_type": "execute_result"
    }
   ],
   "source": [
    "paramset"
   ]
  },
  {
   "cell_type": "code",
   "execution_count": 26,
   "id": "57674623",
   "metadata": {},
   "outputs": [
    {
     "data": {
      "text/plain": [
       "'http://apis.data.go.kr/B552657/ErmctInsttInfoInqireService/getParmacyListInfoInqire?serviceKey=7OB1%2F8OqkciieFgVyHpsOqEzhhhtGwp30loPfSSxv6%2FacTrnLEiVC51oR%2B4qhemtGMmkV095pbnZWBFCXO%2FRJw%3D%3D&Q0=%EC%84%9C%EC%9A%B8%ED%8A%B9%EB%B3%84%EC%8B%9C&Q1=%EA%B0%95%EB%82%A8%EA%B5%AC&QT=1&QN=%EC%82%BC%EC%84%B1%EC%95%BD%EA%B5%AD&ORD=NAME&numOfRows=10'"
      ]
     },
     "execution_count": 26,
     "metadata": {},
     "output_type": "execute_result"
    }
   ],
   "source": [
    "url=endpoint+paramset\n",
    "url"
   ]
  },
  {
   "cell_type": "code",
   "execution_count": 27,
   "id": "b27c7a70",
   "metadata": {},
   "outputs": [],
   "source": [
    "result = requests.get(url)"
   ]
  },
  {
   "cell_type": "code",
   "execution_count": 28,
   "id": "c3ec0768",
   "metadata": {},
   "outputs": [
    {
     "data": {
      "text/plain": [
       "b'<?xml version=\"1.0\" encoding=\"UTF-8\" standalone=\"yes\"?><response><header><resultCode>00</resultCode><resultMsg>NORMAL SERVICE.</resultMsg></header><body><items><item><dutyAddr>\\xec\\x84\\x9c\\xec\\x9a\\xb8\\xed\\x8a\\xb9\\xeb\\xb3\\x84\\xec\\x8b\\x9c \\xea\\xb0\\x95\\xeb\\x82\\xa8\\xea\\xb5\\xac \\xec\\x9d\\xbc\\xec\\x9b\\x90\\xeb\\xa1\\x9c 53 (\\xec\\x9d\\xbc\\xec\\x9b\\x90\\xeb\\x8f\\x99) </dutyAddr><dutyMapimg>\\xec\\x86\\x8c\\xeb\\xa6\\xbc\\xeb\\xb9\\x8c\\xeb\\x94\\xa9 1\\xec\\xb8\\xb5</dutyMapimg><dutyName>E-\\xec\\x82\\xbc\\xec\\x84\\xb1\\xec\\x95\\xbd\\xea\\xb5\\xad</dutyName><dutyTel1>02-3412-1254</dutyTel1><dutyTime1c>1900</dutyTime1c><dutyTime1s>0900</dutyTime1s><dutyTime2c>1900</dutyTime2c><dutyTime2s>0900</dutyTime2s><dutyTime3c>1900</dutyTime3c><dutyTime3s>0900</dutyTime3s><dutyTime4c>1900</dutyTime4c><dutyTime4s>0900</dutyTime4s><dutyTime5c>1900</dutyTime5c><dutyTime5s>0900</dutyTime5s><dutyTime6c>1300</dutyTime6c><dutyTime6s>0900</dutyTime6s><hpid>C1104799</hpid><postCdn1>063</postCdn1><postCdn2>43 </postCdn2><rnum>1</rnum><wgs84Lat>37.48926299528938</wgs84Lat><wgs84Lon>127.08181088280385</wgs84Lon></item><item><dutyAddr>\\xec\\x84\\x9c\\xec\\x9a\\xb8\\xed\\x8a\\xb9\\xeb\\xb3\\x84\\xec\\x8b\\x9c \\xea\\xb0\\x95\\xeb\\x82\\xa8\\xea\\xb5\\xac \\xec\\x9d\\xbc\\xec\\x9b\\x90\\xeb\\xa1\\x9c 45, \\xeb\\x8c\\x80\\xed\\x9b\\x88\\xeb\\xb9\\x8c\\xeb\\x94\\xa9 1\\xec\\xb8\\xb5 (\\xec\\x9d\\xbc\\xec\\x9b\\x90\\xeb\\x8f\\x99)</dutyAddr><dutyMapimg>\\xeb\\x8c\\x80\\xec\\xb2\\xad\\xec\\x97\\xad 4\\xeb\\xb2\\x88\\xec\\xb6\\x9c\\xea\\xb5\\xac\\xec\\x97\\x90\\xec\\x84\\x9c 423m</dutyMapimg><dutyName>\\xeb\\xac\\xb4\\xec\\xa7\\x80\\xea\\xb0\\x9c\\xec\\x82\\xbc\\xec\\x84\\xb1\\xec\\x95\\xbd\\xea\\xb5\\xad</dutyName><dutyTel1>02-2226-5467</dutyTel1><dutyTime1c>1900</dutyTime1c><dutyTime1s>0900</dutyTime1s><dutyTime2c>1900</dutyTime2c><dutyTime2s>0900</dutyTime2s><dutyTime3c>1900</dutyTime3c><dutyTime3s>0900</dutyTime3s><dutyTime4c>1900</dutyTime4c><dutyTime4s>0900</dutyTime4s><dutyTime5c>1900</dutyTime5c><dutyTime5s>0900</dutyTime5s><dutyTime6c>1300</dutyTime6c><dutyTime6s>0900</dutyTime6s><hpid>C1109561</hpid><postCdn1>063</postCdn1><postCdn2>43 </postCdn2><rnum>2</rnum><wgs84Lat>37.489904628125</wgs84Lat><wgs84Lon>127.08151340546</wgs84Lon></item><item><dutyAddr>\\xec\\x84\\x9c\\xec\\x9a\\xb8\\xed\\x8a\\xb9\\xeb\\xb3\\x84\\xec\\x8b\\x9c \\xea\\xb0\\x95\\xeb\\x82\\xa8\\xea\\xb5\\xac \\xea\\xb4\\x91\\xed\\x8f\\x89\\xeb\\xa1\\x9c19\\xea\\xb8\\xb8 10, 101\\xed\\x98\\xb8 (\\xec\\x88\\x98\\xec\\x84\\x9c\\xeb\\x8f\\x99, \\xea\\xb9\\x8c\\xec\\xb9\\x98\\xeb\\xa7\\x88\\xec\\x9d\\x84\\xec\\x95\\x84\\xed\\x8c\\x8c\\xed\\x8a\\xb8\\xec\\x83\\x81\\xea\\xb0\\x80)</dutyAddr><dutyMapimg>\\xec\\x82\\xbc\\xec\\x84\\xb1\\xec\\x9d\\x98\\xeb\\xa3\\x8c\\xec\\x9b\\x9010\\xeb\\xb2\\x88\\xec\\xb6\\x9c\\xea\\xb7\\xbc\\xec\\xb2\\x98/\\xea\\xb9\\x8c\\xec\\xb9\\x98\\xeb\\xa7\\x88\\xec\\x9d\\x84\\xec\\x95\\x84\\xed\\x8c\\x8c\\xed\\x8a\\xb8\\xec\\x83\\x81\\xea\\xb0\\x80 101\\xed\\x98\\xb8</dutyMapimg><dutyName>\\xec\\x82\\xbc\\xec\\x84\\xb1\\xec\\x95\\xbd\\xea\\xb5\\xad</dutyName><dutyTel1>02-451-7281</dutyTel1><dutyTime1c>2030</dutyTime1c><dutyTime1s>0900</dutyTime1s><dutyTime2c>2030</dutyTime2c><dutyTime2s>0900</dutyTime2s><dutyTime3c>2030</dutyTime3c><dutyTime3s>0900</dutyTime3s><dutyTime4c>2030</dutyTime4c><dutyTime4s>0900</dutyTime4s><dutyTime5c>2030</dutyTime5c><dutyTime5s>0900</dutyTime5s><dutyTime6c>2030</dutyTime6c><dutyTime6s>0900</dutyTime6s><hpid>C1101446</hpid><postCdn1>063</postCdn1><postCdn2>54 </postCdn2><rnum>3</rnum><wgs84Lat>37.485485349127</wgs84Lat><wgs84Lon>127.086601738647</wgs84Lon></item><item><dutyAddr>\\xec\\x84\\x9c\\xec\\x9a\\xb8\\xed\\x8a\\xb9\\xeb\\xb3\\x84\\xec\\x8b\\x9c \\xea\\xb0\\x95\\xeb\\x82\\xa8\\xea\\xb5\\xac \\xec\\x9d\\xbc\\xec\\x9b\\x90\\xeb\\xa1\\x9c 53, 1\\xec\\xb8\\xb5 (\\xec\\x9d\\xbc\\xec\\x9b\\x90\\xeb\\x8f\\x99, \\xec\\x86\\x8c\\xeb\\xa6\\xbc\\xeb\\xb9\\x8c\\xeb\\x94\\xa9)</dutyAddr><dutyName>\\xec\\x9d\\xb4\\xec\\x82\\xbc\\xec\\x84\\xb1\\xec\\x95\\xbd\\xea\\xb5\\xad</dutyName><dutyTel1>02-3412-1254</dutyTel1><dutyTime1c>1900</dutyTime1c><dutyTime1s>0900</dutyTime1s><dutyTime2c>1900</dutyTime2c><dutyTime2s>0900</dutyTime2s><dutyTime3c>1900</dutyTime3c><dutyTime3s>0900</dutyTime3s><dutyTime4c>1900</dutyTime4c><dutyTime4s>0900</dutyTime4s><dutyTime5c>1900</dutyTime5c><dutyTime5s>0900</dutyTime5s><dutyTime6c>1300</dutyTime6c><dutyTime6s>0900</dutyTime6s><hpid>C1109216</hpid><postCdn1>063</postCdn1><postCdn2>43 </postCdn2><rnum>4</rnum><wgs84Lat>37.4892626357407</wgs84Lat><wgs84Lon>127.081809638604</wgs84Lon></item></items><numOfRows>10</numOfRows><pageNo>1</pageNo><totalCount>4</totalCount></body></response>'"
      ]
     },
     "execution_count": 28,
     "metadata": {},
     "output_type": "execute_result"
    }
   ],
   "source": [
    "result.content"
   ]
  },
  {
   "cell_type": "code",
   "execution_count": 29,
   "id": "36bdd807",
   "metadata": {},
   "outputs": [
    {
     "name": "stdout",
     "output_type": "stream",
     "text": [
      "Requirement already satisfied: lxml in c:\\users\\사용자\\appdata\\local\\programs\\python\\python310\\lib\\site-packages (4.9.3)\n"
     ]
    }
   ],
   "source": [
    "!pip install lxml"
   ]
  },
  {
   "cell_type": "code",
   "execution_count": 30,
   "id": "88f5c832",
   "metadata": {},
   "outputs": [],
   "source": [
    "bs_obj=BeautifulSoup(result.content, features=\"xml\")"
   ]
  },
  {
   "cell_type": "code",
   "execution_count": 31,
   "id": "81ba252e",
   "metadata": {},
   "outputs": [
    {
     "data": {
      "text/plain": [
       "<?xml version=\"1.0\" encoding=\"utf-8\"?>\n",
       "<response><header><resultCode>00</resultCode><resultMsg>NORMAL SERVICE.</resultMsg></header><body><items><item><dutyAddr>서울특별시 강남구 일원로 53 (일원동) </dutyAddr><dutyMapimg>소림빌딩 1층</dutyMapimg><dutyName>E-삼성약국</dutyName><dutyTel1>02-3412-1254</dutyTel1><dutyTime1c>1900</dutyTime1c><dutyTime1s>0900</dutyTime1s><dutyTime2c>1900</dutyTime2c><dutyTime2s>0900</dutyTime2s><dutyTime3c>1900</dutyTime3c><dutyTime3s>0900</dutyTime3s><dutyTime4c>1900</dutyTime4c><dutyTime4s>0900</dutyTime4s><dutyTime5c>1900</dutyTime5c><dutyTime5s>0900</dutyTime5s><dutyTime6c>1300</dutyTime6c><dutyTime6s>0900</dutyTime6s><hpid>C1104799</hpid><postCdn1>063</postCdn1><postCdn2>43 </postCdn2><rnum>1</rnum><wgs84Lat>37.48926299528938</wgs84Lat><wgs84Lon>127.08181088280385</wgs84Lon></item><item><dutyAddr>서울특별시 강남구 일원로 45, 대훈빌딩 1층 (일원동)</dutyAddr><dutyMapimg>대청역 4번출구에서 423m</dutyMapimg><dutyName>무지개삼성약국</dutyName><dutyTel1>02-2226-5467</dutyTel1><dutyTime1c>1900</dutyTime1c><dutyTime1s>0900</dutyTime1s><dutyTime2c>1900</dutyTime2c><dutyTime2s>0900</dutyTime2s><dutyTime3c>1900</dutyTime3c><dutyTime3s>0900</dutyTime3s><dutyTime4c>1900</dutyTime4c><dutyTime4s>0900</dutyTime4s><dutyTime5c>1900</dutyTime5c><dutyTime5s>0900</dutyTime5s><dutyTime6c>1300</dutyTime6c><dutyTime6s>0900</dutyTime6s><hpid>C1109561</hpid><postCdn1>063</postCdn1><postCdn2>43 </postCdn2><rnum>2</rnum><wgs84Lat>37.489904628125</wgs84Lat><wgs84Lon>127.08151340546</wgs84Lon></item><item><dutyAddr>서울특별시 강남구 광평로19길 10, 101호 (수서동, 까치마을아파트상가)</dutyAddr><dutyMapimg>삼성의료원10번출근처/까치마을아파트상가 101호</dutyMapimg><dutyName>삼성약국</dutyName><dutyTel1>02-451-7281</dutyTel1><dutyTime1c>2030</dutyTime1c><dutyTime1s>0900</dutyTime1s><dutyTime2c>2030</dutyTime2c><dutyTime2s>0900</dutyTime2s><dutyTime3c>2030</dutyTime3c><dutyTime3s>0900</dutyTime3s><dutyTime4c>2030</dutyTime4c><dutyTime4s>0900</dutyTime4s><dutyTime5c>2030</dutyTime5c><dutyTime5s>0900</dutyTime5s><dutyTime6c>2030</dutyTime6c><dutyTime6s>0900</dutyTime6s><hpid>C1101446</hpid><postCdn1>063</postCdn1><postCdn2>54 </postCdn2><rnum>3</rnum><wgs84Lat>37.485485349127</wgs84Lat><wgs84Lon>127.086601738647</wgs84Lon></item><item><dutyAddr>서울특별시 강남구 일원로 53, 1층 (일원동, 소림빌딩)</dutyAddr><dutyName>이삼성약국</dutyName><dutyTel1>02-3412-1254</dutyTel1><dutyTime1c>1900</dutyTime1c><dutyTime1s>0900</dutyTime1s><dutyTime2c>1900</dutyTime2c><dutyTime2s>0900</dutyTime2s><dutyTime3c>1900</dutyTime3c><dutyTime3s>0900</dutyTime3s><dutyTime4c>1900</dutyTime4c><dutyTime4s>0900</dutyTime4s><dutyTime5c>1900</dutyTime5c><dutyTime5s>0900</dutyTime5s><dutyTime6c>1300</dutyTime6c><dutyTime6s>0900</dutyTime6s><hpid>C1109216</hpid><postCdn1>063</postCdn1><postCdn2>43 </postCdn2><rnum>4</rnum><wgs84Lat>37.4892626357407</wgs84Lat><wgs84Lon>127.081809638604</wgs84Lon></item></items><numOfRows>10</numOfRows><pageNo>1</pageNo><totalCount>4</totalCount></body></response>"
      ]
     },
     "execution_count": 31,
     "metadata": {},
     "output_type": "execute_result"
    }
   ],
   "source": [
    "bs_obj"
   ]
  },
  {
   "cell_type": "code",
   "execution_count": 32,
   "id": "b23eb4c1",
   "metadata": {},
   "outputs": [
    {
     "data": {
      "text/plain": [
       "4"
      ]
     },
     "execution_count": 32,
     "metadata": {},
     "output_type": "execute_result"
    }
   ],
   "source": [
    "len(bs_obj.findAll('item'))"
   ]
  },
  {
   "cell_type": "code",
   "execution_count": 33,
   "id": "bf7275e9",
   "metadata": {},
   "outputs": [
    {
     "name": "stdout",
     "output_type": "stream",
     "text": [
      "E-삼성약국\n",
      "무지개삼성약국\n",
      "삼성약국\n",
      "이삼성약국\n"
     ]
    }
   ],
   "source": [
    "for item in bs_obj.findAll('item') :\n",
    "    print(item.find('dutyName').text)"
   ]
  },
  {
   "cell_type": "markdown",
   "id": "554505f5",
   "metadata": {},
   "source": [
    "### 서울시 강남구의 모든 약국 정보 추출"
   ]
  },
  {
   "cell_type": "code",
   "execution_count": 34,
   "id": "e086a0a4",
   "metadata": {},
   "outputs": [],
   "source": [
    "# QT = '1' # 월요일에 여는 약국\n",
    "# QN = quote('삼성약국')\n",
    "Q0 = quote('서울특별시') # 광역시도\n",
    "Q1 = quote('강남구') # 시군구\n",
    "ORD = 'NAME' # 정렬기준\n",
    "pageNo = '1'\n",
    "numOfRows = '1000'"
   ]
  },
  {
   "cell_type": "code",
   "execution_count": 35,
   "id": "06dde0d3",
   "metadata": {},
   "outputs": [],
   "source": [
    "paramset = \"?serviceKey=\"+s_key+\"&\"\\\n",
    "          + \"Q0=\"+ Q0 + \"&\" \\\n",
    "          +\"Q1=\"+Q1+\"&\"\\\n",
    "          +\"ORD=\"+ORD+\"&\" \\\n",
    "          + \"numOfRows=\" + numOfRows "
   ]
  },
  {
   "cell_type": "code",
   "execution_count": 36,
   "id": "7ec2a0fb",
   "metadata": {},
   "outputs": [
    {
     "data": {
      "text/plain": [
       "'http://apis.data.go.kr/B552657/ErmctInsttInfoInqireService/getParmacyListInfoInqire?serviceKey=7OB1%2F8OqkciieFgVyHpsOqEzhhhtGwp30loPfSSxv6%2FacTrnLEiVC51oR%2B4qhemtGMmkV095pbnZWBFCXO%2FRJw%3D%3D&Q0=%EC%84%9C%EC%9A%B8%ED%8A%B9%EB%B3%84%EC%8B%9C&Q1=%EA%B0%95%EB%82%A8%EA%B5%AC&ORD=NAME&numOfRows=1000'"
      ]
     },
     "execution_count": 36,
     "metadata": {},
     "output_type": "execute_result"
    }
   ],
   "source": [
    "url=endpoint+paramset\n",
    "url"
   ]
  },
  {
   "cell_type": "code",
   "execution_count": 37,
   "id": "65fb16b3",
   "metadata": {},
   "outputs": [],
   "source": [
    "params ={'serviceKey' : s_key, 'Q0' : '서울특별시', 'Q1' : '강남구',  'ORD' : 'NAME', 'pageNo' : '1', 'numOfRows' : '1000' }\n",
    "result = requests.get(url, params=params)"
   ]
  },
  {
   "cell_type": "code",
   "execution_count": 38,
   "id": "eb0974be",
   "metadata": {},
   "outputs": [],
   "source": [
    "result = requests.get(url)"
   ]
  },
  {
   "cell_type": "code",
   "execution_count": 39,
   "id": "5263687d",
   "metadata": {},
   "outputs": [
    {
     "name": "stderr",
     "output_type": "stream",
     "text": [
      "C:\\Users\\사용자\\AppData\\Local\\Programs\\Python\\Python310\\lib\\site-packages\\bs4\\builder\\__init__.py:545: XMLParsedAsHTMLWarning: It looks like you're parsing an XML document using an HTML parser. If this really is an HTML document (maybe it's XHTML?), you can ignore or filter this warning. If it's XML, you should know that using an XML parser will be more reliable. To parse this document as XML, make sure you have the lxml package installed, and pass the keyword argument `features=\"xml\"` into the BeautifulSoup constructor.\n",
      "  warnings.warn(\n"
     ]
    }
   ],
   "source": [
    "bs_obj = BeautifulSoup(result.content,'html.parser')"
   ]
  },
  {
   "cell_type": "code",
   "execution_count": 40,
   "id": "5c149b77",
   "metadata": {},
   "outputs": [
    {
     "data": {
      "text/plain": [
       "492"
      ]
     },
     "execution_count": 40,
     "metadata": {},
     "output_type": "execute_result"
    }
   ],
   "source": [
    "items = bs_obj.findAll('item')\n",
    "len(items)"
   ]
  },
  {
   "cell_type": "markdown",
   "id": "529be252",
   "metadata": {},
   "source": [
    "### 강남구 약국 정보 df 생성"
   ]
  },
  {
   "cell_type": "code",
   "execution_count": 41,
   "id": "335b23d6",
   "metadata": {},
   "outputs": [],
   "source": [
    "import pandas as pd\n",
    "name = [item.find('dutyname').text for item in items ]\n",
    "addr = [item.dutyaddr.text for item in items ]\n",
    "tel =  [item.dutytel1.text for item in items ]"
   ]
  },
  {
   "cell_type": "code",
   "execution_count": 42,
   "id": "536e55e6",
   "metadata": {},
   "outputs": [
    {
     "data": {
      "text/html": [
       "<div>\n",
       "<style scoped>\n",
       "    .dataframe tbody tr th:only-of-type {\n",
       "        vertical-align: middle;\n",
       "    }\n",
       "\n",
       "    .dataframe tbody tr th {\n",
       "        vertical-align: top;\n",
       "    }\n",
       "\n",
       "    .dataframe thead th {\n",
       "        text-align: right;\n",
       "    }\n",
       "</style>\n",
       "<table border=\"1\" class=\"dataframe\">\n",
       "  <thead>\n",
       "    <tr style=\"text-align: right;\">\n",
       "      <th></th>\n",
       "      <th>약국명</th>\n",
       "      <th>주소</th>\n",
       "      <th>전화번호</th>\n",
       "    </tr>\n",
       "  </thead>\n",
       "  <tbody>\n",
       "    <tr>\n",
       "      <th>487</th>\n",
       "      <td>호원약국</td>\n",
       "      <td>서울특별시 강남구 언주로108길 15  (역삼동)</td>\n",
       "      <td>02-567-5534</td>\n",
       "    </tr>\n",
       "    <tr>\n",
       "      <th>488</th>\n",
       "      <td>화인약국</td>\n",
       "      <td>서울특별시 강남구 강남대로 372, 5층일부 (역삼동)</td>\n",
       "      <td>02-501-7712</td>\n",
       "    </tr>\n",
       "    <tr>\n",
       "      <th>489</th>\n",
       "      <td>희망약국</td>\n",
       "      <td>서울특별시 강남구 일원로 95, 신영프라자 111호 (일원동)</td>\n",
       "      <td>02-2226-2256</td>\n",
       "    </tr>\n",
       "    <tr>\n",
       "      <th>490</th>\n",
       "      <td>희병약국</td>\n",
       "      <td>서울특별시 강남구 봉은사로43길 8  (논현동)</td>\n",
       "      <td>02-545-0429</td>\n",
       "    </tr>\n",
       "    <tr>\n",
       "      <th>491</th>\n",
       "      <td>희영온누리약국</td>\n",
       "      <td>서울특별시 강남구 봉은사로 471 (삼성동)</td>\n",
       "      <td>02-547-1950</td>\n",
       "    </tr>\n",
       "  </tbody>\n",
       "</table>\n",
       "</div>"
      ],
      "text/plain": [
       "         약국명                                  주소          전화번호\n",
       "487     호원약국         서울특별시 강남구 언주로108길 15  (역삼동)   02-567-5534\n",
       "488     화인약국      서울특별시 강남구 강남대로 372, 5층일부 (역삼동)   02-501-7712\n",
       "489     희망약국  서울특별시 강남구 일원로 95, 신영프라자 111호 (일원동)  02-2226-2256\n",
       "490     희병약국          서울특별시 강남구 봉은사로43길 8  (논현동)   02-545-0429\n",
       "491  희영온누리약국           서울특별시 강남구 봉은사로 471 (삼성동)    02-547-1950"
      ]
     },
     "execution_count": 42,
     "metadata": {},
     "output_type": "execute_result"
    }
   ],
   "source": [
    "df=pd.DataFrame({'약국명':name, '주소':addr,'전화번호':tel})\n",
    "df.tail()"
   ]
  },
  {
   "cell_type": "markdown",
   "id": "1bf950bb",
   "metadata": {},
   "source": [
    "### 강남구에서 월요일에 심야영업(9시 이후)을 하는 약국 정보 추출"
   ]
  },
  {
   "cell_type": "code",
   "execution_count": 43,
   "id": "210714f9",
   "metadata": {},
   "outputs": [
    {
     "data": {
      "text/plain": [
       "False"
      ]
     },
     "execution_count": 43,
     "metadata": {},
     "output_type": "execute_result"
    }
   ],
   "source": [
    "# 강남구 약국 data는 위에서 추출함\n",
    "int(bs_obj.findAll('item')[0].find('dutytime1c').text) > 2100"
   ]
  },
  {
   "cell_type": "code",
   "execution_count": 44,
   "id": "4f1e77ec",
   "metadata": {},
   "outputs": [],
   "source": [
    "name = []\n",
    "addr = []\n",
    "tel = []"
   ]
  },
  {
   "cell_type": "code",
   "execution_count": 45,
   "id": "c6452141",
   "metadata": {},
   "outputs": [],
   "source": [
    "for item in items :\n",
    "    t_item = item.find('dutytime1c')\n",
    "    if t_item != None :\n",
    "        c_time = int(t_item.text)\n",
    "        if c_time > 2100 :\n",
    "            name.append(item.find('dutyname').text)\n",
    "            addr.append(item.find('dutyaddr').text)\n",
    "            tel.append(item.find('dutytel1').text)"
   ]
  },
  {
   "cell_type": "code",
   "execution_count": 46,
   "id": "b4491f17",
   "metadata": {},
   "outputs": [
    {
     "data": {
      "text/plain": [
       "(78, 78, 78)"
      ]
     },
     "execution_count": 46,
     "metadata": {},
     "output_type": "execute_result"
    }
   ],
   "source": [
    "len(name),len(addr),len(tel)"
   ]
  },
  {
   "cell_type": "code",
   "execution_count": 47,
   "id": "32b421dc",
   "metadata": {},
   "outputs": [],
   "source": [
    "df_mon_night = pd.DataFrame({'약국명':name, '주소':addr,'전화번호':tel})\n",
    "df_mon_night.to_csv('./crawl_data/월요일심야영업약국정보.csv')"
   ]
  },
  {
   "cell_type": "markdown",
   "id": "14734147",
   "metadata": {},
   "source": [
    "### 연습문제\n",
    "- 코드 제출하세요\n",
    "- 서울시에서 토요일에 영업하는 약국의 수를 출력\n",
    "- 서울시 각 구별로 약국의 수를 비교하는 그래프 시각화 작업"
   ]
  }
 ],
 "metadata": {
  "kernelspec": {
   "display_name": "Python 3 (ipykernel)",
   "language": "python",
   "name": "python3"
  },
  "language_info": {
   "codemirror_mode": {
    "name": "ipython",
    "version": 3
   },
   "file_extension": ".py",
   "mimetype": "text/x-python",
   "name": "python",
   "nbconvert_exporter": "python",
   "pygments_lexer": "ipython3",
   "version": "3.10.10"
  }
 },
 "nbformat": 4,
 "nbformat_minor": 5
}
