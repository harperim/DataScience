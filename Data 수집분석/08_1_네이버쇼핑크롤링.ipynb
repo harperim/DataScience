{
 "cells": [
  {
   "cell_type": "code",
   "execution_count": 1,
   "id": "543aec46",
   "metadata": {},
   "outputs": [
    {
     "name": "stdout",
     "output_type": "stream",
     "text": [
      "Requirement already satisfied: selenium in c:\\users\\사용자\\appdata\\local\\programs\\python\\python310\\lib\\site-packages (4.11.2)\n",
      "Requirement already satisfied: urllib3[socks]<3,>=1.26 in c:\\users\\사용자\\appdata\\local\\programs\\python\\python310\\lib\\site-packages (from selenium) (1.26.15)\n",
      "Requirement already satisfied: trio~=0.17 in c:\\users\\사용자\\appdata\\local\\programs\\python\\python310\\lib\\site-packages (from selenium) (0.22.2)\n",
      "Requirement already satisfied: trio-websocket~=0.9 in c:\\users\\사용자\\appdata\\local\\programs\\python\\python310\\lib\\site-packages (from selenium) (0.10.3)\n",
      "Requirement already satisfied: certifi>=2021.10.8 in c:\\users\\사용자\\appdata\\local\\programs\\python\\python310\\lib\\site-packages (from selenium) (2022.12.7)\n",
      "Requirement already satisfied: attrs>=20.1.0 in c:\\users\\사용자\\appdata\\local\\programs\\python\\python310\\lib\\site-packages (from trio~=0.17->selenium) (23.1.0)\n",
      "Requirement already satisfied: sortedcontainers in c:\\users\\사용자\\appdata\\local\\programs\\python\\python310\\lib\\site-packages (from trio~=0.17->selenium) (2.4.0)\n",
      "Requirement already satisfied: idna in c:\\users\\사용자\\appdata\\local\\programs\\python\\python310\\lib\\site-packages (from trio~=0.17->selenium) (3.4)\n",
      "Requirement already satisfied: outcome in c:\\users\\사용자\\appdata\\local\\programs\\python\\python310\\lib\\site-packages (from trio~=0.17->selenium) (1.2.0)\n",
      "Requirement already satisfied: sniffio in c:\\users\\사용자\\appdata\\local\\programs\\python\\python310\\lib\\site-packages (from trio~=0.17->selenium) (1.3.0)\n",
      "Requirement already satisfied: cffi>=1.14 in c:\\users\\사용자\\appdata\\local\\programs\\python\\python310\\lib\\site-packages (from trio~=0.17->selenium) (1.15.1)\n",
      "Requirement already satisfied: exceptiongroup>=1.0.0rc9 in c:\\users\\사용자\\appdata\\local\\programs\\python\\python310\\lib\\site-packages (from trio~=0.17->selenium) (1.1.2)\n",
      "Requirement already satisfied: wsproto>=0.14 in c:\\users\\사용자\\appdata\\local\\programs\\python\\python310\\lib\\site-packages (from trio-websocket~=0.9->selenium) (1.2.0)\n",
      "Requirement already satisfied: PySocks!=1.5.7,<2.0,>=1.5.6 in c:\\users\\사용자\\appdata\\local\\programs\\python\\python310\\lib\\site-packages (from urllib3[socks]<3,>=1.26->selenium) (1.7.1)\n",
      "Requirement already satisfied: pycparser in c:\\users\\사용자\\appdata\\local\\programs\\python\\python310\\lib\\site-packages (from cffi>=1.14->trio~=0.17->selenium) (2.21)\n",
      "Requirement already satisfied: h11<1,>=0.9.0 in c:\\users\\사용자\\appdata\\local\\programs\\python\\python310\\lib\\site-packages (from wsproto>=0.14->trio-websocket~=0.9->selenium) (0.14.0)\n"
     ]
    }
   ],
   "source": [
    "!pip install selenium\n",
    "\n",
    "from selenium import webdriver\n",
    "from selenium.webdriver.common.keys import Keys\n",
    "import time\n",
    "import selenium\n",
    "from selenium import webdriver\n",
    "import pandas as pd\n",
    "import numpy as np\n",
    "from bs4 import BeautifulSoup\n",
    "from selenium.webdriver.common.by import By # 셀레니움 4.0부터 포함된 함수(필수)\n",
    "from selenium.webdriver.chrome.service import Service"
   ]
  },
  {
   "cell_type": "code",
   "execution_count": 10,
   "id": "c260f339",
   "metadata": {},
   "outputs": [
    {
     "data": {
      "text/plain": [
       "selenium.webdriver.chrome.webdriver.WebDriver"
      ]
     },
     "execution_count": 10,
     "metadata": {},
     "output_type": "execute_result"
    }
   ],
   "source": [
    "driver = webdriver.Chrome\n",
    "driver"
   ]
  },
  {
   "cell_type": "code",
   "execution_count": 11,
   "id": "9ef85945",
   "metadata": {},
   "outputs": [],
   "source": [
    "service = Service()\n",
    "options = webdriver.ChromeOptions()\n",
    "browser = webdriver.Chrome(service=service, options=options)"
   ]
  },
  {
   "cell_type": "code",
   "execution_count": 12,
   "id": "cf25d8a1",
   "metadata": {},
   "outputs": [],
   "source": [
    "# 웹사이트 열기\n",
    "browser.get(\"https://www.naver.com\")\n",
    "browser.implicitly_wait(10)  # 로딩이 끝날 때까지 10초 기다리기"
   ]
  },
  {
   "cell_type": "code",
   "execution_count": 13,
   "id": "ac8df98a",
   "metadata": {},
   "outputs": [],
   "source": [
    "# 창 크기 변경\n",
    "browser.maximize_window()  # 윈도우에 꽉 찬 브라우저 생성"
   ]
  },
  {
   "cell_type": "markdown",
   "id": "e1e79bc4",
   "metadata": {},
   "source": [
    "### 주의사항\n",
    "- 창 크기에 따라 elem의 배치가 달라짐 (태그 속성값도 달라짐)\n",
    "    - 특정 창 크기에 맞는 코드 생성 후 창 크기를 변경 시킨 후 수집\n",
    "- 진행 중 탭이 하나 생성되면 명시적으로 사용할 탭을 결정해줘야 함(코드로 생성해야 함)"
   ]
  },
  {
   "cell_type": "code",
   "execution_count": 14,
   "id": "c3446e72",
   "metadata": {},
   "outputs": [],
   "source": [
    "# 가장 큰 창을 기준으로 수집 진행\n",
    "# 쇼핑 탭으로 이동하는 코드 작성"
   ]
  },
  {
   "cell_type": "code",
   "execution_count": 15,
   "id": "438fb60b",
   "metadata": {},
   "outputs": [],
   "source": [
    "# elem 찾은 후 클릭 이벤트 전달\n",
    "# 쇼핑 메뉴 버튼 찾아 클릭\n",
    "sel = \"#shortcutArea > ul > li:nth-child(4) > a\"\n",
    "browser.find_element(By.CSS_SELECTOR, sel)\n",
    "time.sleep(2)"
   ]
  },
  {
   "cell_type": "code",
   "execution_count": 16,
   "id": "2ccf04ea",
   "metadata": {},
   "outputs": [
    {
     "name": "stdout",
     "output_type": "stream",
     "text": [
      "['3C30C82FD16607211F70BE2B07D0DF73']\n"
     ]
    }
   ],
   "source": [
    "# 브라우저에 1개 이상의 탭이 있으면 각 탭의 관리번호 확인 가능\n",
    "print(browser.window_handles)"
   ]
  },
  {
   "cell_type": "code",
   "execution_count": 19,
   "id": "99d2e0cd",
   "metadata": {},
   "outputs": [
    {
     "ename": "IndexError",
     "evalue": "list index out of range",
     "output_type": "error",
     "traceback": [
      "\u001b[1;31m---------------------------------------------------------------------------\u001b[0m",
      "\u001b[1;31mIndexError\u001b[0m                                Traceback (most recent call last)",
      "Cell \u001b[1;32mIn[19], line 2\u001b[0m\n\u001b[0;32m      1\u001b[0m \u001b[38;5;66;03m# 쇼핑몰 탭이 나중에 생성되었고 현재 탭은 첫번째 탭이므로 탭을 변경해야 함\u001b[39;00m\n\u001b[1;32m----> 2\u001b[0m browser\u001b[38;5;241m.\u001b[39mswitch_to\u001b[38;5;241m.\u001b[39mwindow(\u001b[43mbrowser\u001b[49m\u001b[38;5;241;43m.\u001b[39;49m\u001b[43mwindow_handles\u001b[49m\u001b[43m[\u001b[49m\u001b[38;5;241;43m1\u001b[39;49m\u001b[43m]\u001b[49m)\n",
      "\u001b[1;31mIndexError\u001b[0m: list index out of range"
     ]
    }
   ],
   "source": [
    "# 쇼핑몰 탭이 나중에 생성되었고 현재 탭은 첫번째 탭이므로 탭을 변경해야 함\n",
    "browser.switch_to.window(browser.window_handles[1])"
   ]
  },
  {
   "cell_type": "markdown",
   "id": "19f1f98c",
   "metadata": {},
   "source": [
    "### 쇼핑몰의 검색창 이용 검색어를 전달하고 검색된 결과의 제품명, 가격 크롤링"
   ]
  },
  {
   "cell_type": "code",
   "execution_count": 20,
   "id": "5bc7c633",
   "metadata": {},
   "outputs": [],
   "source": [
    "# 검색창 찾기\n",
    "sel = ''  # headerarea\n",
    "sel2 = '._gnbSearch_inner_2Zksb > div > input'"
   ]
  },
  {
   "cell_type": "code",
   "execution_count": 21,
   "id": "7d96124f",
   "metadata": {},
   "outputs": [
    {
     "ename": "NoSuchElementException",
     "evalue": "Message: no such element: Unable to locate element: {\"method\":\"css selector\",\"selector\":\"._gnbSearch_inner_2Zksb > div > input\"}\n  (Session info: chrome=115.0.5790.171); For documentation on this error, please visit: https://www.selenium.dev/documentation/webdriver/troubleshooting/errors#no-such-element-exception\nStacktrace:\nBacktrace:\n\tGetHandleVerifier [0x00007FF6F1204A62+57106]\n\t(No symbol) [0x00007FF6F117CF52]\n\t(No symbol) [0x00007FF6F104E2CB]\n\t(No symbol) [0x00007FF6F108786E]\n\t(No symbol) [0x00007FF6F108795C]\n\t(No symbol) [0x00007FF6F10C0477]\n\t(No symbol) [0x00007FF6F10A69FF]\n\t(No symbol) [0x00007FF6F10BE522]\n\t(No symbol) [0x00007FF6F10A6793]\n\t(No symbol) [0x00007FF6F107CE81]\n\t(No symbol) [0x00007FF6F107E064]\n\tGetHandleVerifier [0x00007FF6F14B4222+2873042]\n\tGetHandleVerifier [0x00007FF6F1506590+3209792]\n\tGetHandleVerifier [0x00007FF6F14FF3AF+3180639]\n\tGetHandleVerifier [0x00007FF6F1295F25+652245]\n\t(No symbol) [0x00007FF6F1188618]\n\t(No symbol) [0x00007FF6F11847C4]\n\t(No symbol) [0x00007FF6F11848BC]\n\t(No symbol) [0x00007FF6F1174C33]\n\tBaseThreadInitThunk [0x00007FFBEABA26AD+29]\n\tRtlUserThreadStart [0x00007FFBEC1EAA68+40]\n",
     "output_type": "error",
     "traceback": [
      "\u001b[1;31m---------------------------------------------------------------------------\u001b[0m",
      "\u001b[1;31mNoSuchElementException\u001b[0m                    Traceback (most recent call last)",
      "Cell \u001b[1;32mIn[21], line 1\u001b[0m\n\u001b[1;32m----> 1\u001b[0m search \u001b[38;5;241m=\u001b[39m \u001b[43mbrowser\u001b[49m\u001b[38;5;241;43m.\u001b[39;49m\u001b[43mfind_element\u001b[49m\u001b[43m(\u001b[49m\u001b[43mBy\u001b[49m\u001b[38;5;241;43m.\u001b[39;49m\u001b[43mCSS_SELECTOR\u001b[49m\u001b[43m,\u001b[49m\u001b[43m \u001b[49m\u001b[43msel2\u001b[49m\u001b[43m)\u001b[49m\n\u001b[0;32m      2\u001b[0m search\u001b[38;5;241m.\u001b[39mclear()  \u001b[38;5;66;03m# 기존 값 지우기\u001b[39;00m\n\u001b[0;32m      3\u001b[0m search\u001b[38;5;241m.\u001b[39msend_keys(\u001b[38;5;124m'\u001b[39m\u001b[38;5;124m아이폰13\u001b[39m\u001b[38;5;124m'\u001b[39m)  \u001b[38;5;66;03m# 해당 값 elem에 전송\u001b[39;00m\n",
      "File \u001b[1;32m~\\AppData\\Local\\Programs\\Python\\Python310\\lib\\site-packages\\selenium\\webdriver\\remote\\webdriver.py:739\u001b[0m, in \u001b[0;36mWebDriver.find_element\u001b[1;34m(self, by, value)\u001b[0m\n\u001b[0;32m    736\u001b[0m     by \u001b[38;5;241m=\u001b[39m By\u001b[38;5;241m.\u001b[39mCSS_SELECTOR\n\u001b[0;32m    737\u001b[0m     value \u001b[38;5;241m=\u001b[39m \u001b[38;5;124mf\u001b[39m\u001b[38;5;124m'\u001b[39m\u001b[38;5;124m[name=\u001b[39m\u001b[38;5;124m\"\u001b[39m\u001b[38;5;132;01m{\u001b[39;00mvalue\u001b[38;5;132;01m}\u001b[39;00m\u001b[38;5;124m\"\u001b[39m\u001b[38;5;124m]\u001b[39m\u001b[38;5;124m'\u001b[39m\n\u001b[1;32m--> 739\u001b[0m \u001b[38;5;28;01mreturn\u001b[39;00m \u001b[38;5;28;43mself\u001b[39;49m\u001b[38;5;241;43m.\u001b[39;49m\u001b[43mexecute\u001b[49m\u001b[43m(\u001b[49m\u001b[43mCommand\u001b[49m\u001b[38;5;241;43m.\u001b[39;49m\u001b[43mFIND_ELEMENT\u001b[49m\u001b[43m,\u001b[49m\u001b[43m \u001b[49m\u001b[43m{\u001b[49m\u001b[38;5;124;43m\"\u001b[39;49m\u001b[38;5;124;43musing\u001b[39;49m\u001b[38;5;124;43m\"\u001b[39;49m\u001b[43m:\u001b[49m\u001b[43m \u001b[49m\u001b[43mby\u001b[49m\u001b[43m,\u001b[49m\u001b[43m \u001b[49m\u001b[38;5;124;43m\"\u001b[39;49m\u001b[38;5;124;43mvalue\u001b[39;49m\u001b[38;5;124;43m\"\u001b[39;49m\u001b[43m:\u001b[49m\u001b[43m \u001b[49m\u001b[43mvalue\u001b[49m\u001b[43m}\u001b[49m\u001b[43m)\u001b[49m[\u001b[38;5;124m\"\u001b[39m\u001b[38;5;124mvalue\u001b[39m\u001b[38;5;124m\"\u001b[39m]\n",
      "File \u001b[1;32m~\\AppData\\Local\\Programs\\Python\\Python310\\lib\\site-packages\\selenium\\webdriver\\remote\\webdriver.py:345\u001b[0m, in \u001b[0;36mWebDriver.execute\u001b[1;34m(self, driver_command, params)\u001b[0m\n\u001b[0;32m    343\u001b[0m response \u001b[38;5;241m=\u001b[39m \u001b[38;5;28mself\u001b[39m\u001b[38;5;241m.\u001b[39mcommand_executor\u001b[38;5;241m.\u001b[39mexecute(driver_command, params)\n\u001b[0;32m    344\u001b[0m \u001b[38;5;28;01mif\u001b[39;00m response:\n\u001b[1;32m--> 345\u001b[0m     \u001b[38;5;28;43mself\u001b[39;49m\u001b[38;5;241;43m.\u001b[39;49m\u001b[43merror_handler\u001b[49m\u001b[38;5;241;43m.\u001b[39;49m\u001b[43mcheck_response\u001b[49m\u001b[43m(\u001b[49m\u001b[43mresponse\u001b[49m\u001b[43m)\u001b[49m\n\u001b[0;32m    346\u001b[0m     response[\u001b[38;5;124m\"\u001b[39m\u001b[38;5;124mvalue\u001b[39m\u001b[38;5;124m\"\u001b[39m] \u001b[38;5;241m=\u001b[39m \u001b[38;5;28mself\u001b[39m\u001b[38;5;241m.\u001b[39m_unwrap_value(response\u001b[38;5;241m.\u001b[39mget(\u001b[38;5;124m\"\u001b[39m\u001b[38;5;124mvalue\u001b[39m\u001b[38;5;124m\"\u001b[39m, \u001b[38;5;28;01mNone\u001b[39;00m))\n\u001b[0;32m    347\u001b[0m     \u001b[38;5;28;01mreturn\u001b[39;00m response\n",
      "File \u001b[1;32m~\\AppData\\Local\\Programs\\Python\\Python310\\lib\\site-packages\\selenium\\webdriver\\remote\\errorhandler.py:229\u001b[0m, in \u001b[0;36mErrorHandler.check_response\u001b[1;34m(self, response)\u001b[0m\n\u001b[0;32m    227\u001b[0m         alert_text \u001b[38;5;241m=\u001b[39m value[\u001b[38;5;124m\"\u001b[39m\u001b[38;5;124malert\u001b[39m\u001b[38;5;124m\"\u001b[39m]\u001b[38;5;241m.\u001b[39mget(\u001b[38;5;124m\"\u001b[39m\u001b[38;5;124mtext\u001b[39m\u001b[38;5;124m\"\u001b[39m)\n\u001b[0;32m    228\u001b[0m     \u001b[38;5;28;01mraise\u001b[39;00m exception_class(message, screen, stacktrace, alert_text)  \u001b[38;5;66;03m# type: ignore[call-arg]  # mypy is not smart enough here\u001b[39;00m\n\u001b[1;32m--> 229\u001b[0m \u001b[38;5;28;01mraise\u001b[39;00m exception_class(message, screen, stacktrace)\n",
      "\u001b[1;31mNoSuchElementException\u001b[0m: Message: no such element: Unable to locate element: {\"method\":\"css selector\",\"selector\":\"._gnbSearch_inner_2Zksb > div > input\"}\n  (Session info: chrome=115.0.5790.171); For documentation on this error, please visit: https://www.selenium.dev/documentation/webdriver/troubleshooting/errors#no-such-element-exception\nStacktrace:\nBacktrace:\n\tGetHandleVerifier [0x00007FF6F1204A62+57106]\n\t(No symbol) [0x00007FF6F117CF52]\n\t(No symbol) [0x00007FF6F104E2CB]\n\t(No symbol) [0x00007FF6F108786E]\n\t(No symbol) [0x00007FF6F108795C]\n\t(No symbol) [0x00007FF6F10C0477]\n\t(No symbol) [0x00007FF6F10A69FF]\n\t(No symbol) [0x00007FF6F10BE522]\n\t(No symbol) [0x00007FF6F10A6793]\n\t(No symbol) [0x00007FF6F107CE81]\n\t(No symbol) [0x00007FF6F107E064]\n\tGetHandleVerifier [0x00007FF6F14B4222+2873042]\n\tGetHandleVerifier [0x00007FF6F1506590+3209792]\n\tGetHandleVerifier [0x00007FF6F14FF3AF+3180639]\n\tGetHandleVerifier [0x00007FF6F1295F25+652245]\n\t(No symbol) [0x00007FF6F1188618]\n\t(No symbol) [0x00007FF6F11847C4]\n\t(No symbol) [0x00007FF6F11848BC]\n\t(No symbol) [0x00007FF6F1174C33]\n\tBaseThreadInitThunk [0x00007FFBEABA26AD+29]\n\tRtlUserThreadStart [0x00007FFBEC1EAA68+40]\n"
     ]
    }
   ],
   "source": [
    "search = browser.find_element(By.CSS_SELECTOR, sel2)\n",
    "search.clear()  # 기존 값 지우기\n",
    "search.send_keys('아이폰13')  # 해당 값 elem에 전송"
   ]
  },
  {
   "cell_type": "code",
   "execution_count": 22,
   "id": "adfeafd2",
   "metadata": {},
   "outputs": [
    {
     "ename": "NameError",
     "evalue": "name 'search' is not defined",
     "output_type": "error",
     "traceback": [
      "\u001b[1;31m---------------------------------------------------------------------------\u001b[0m",
      "\u001b[1;31mNameError\u001b[0m                                 Traceback (most recent call last)",
      "Cell \u001b[1;32mIn[22], line 1\u001b[0m\n\u001b[1;32m----> 1\u001b[0m \u001b[43msearch\u001b[49m\u001b[38;5;241m.\u001b[39msend_keys(Keys\u001b[38;5;241m.\u001b[39mENTER)  \u001b[38;5;66;03m# 검색 결과\u001b[39;00m\n",
      "\u001b[1;31mNameError\u001b[0m: name 'search' is not defined"
     ]
    }
   ],
   "source": [
    "search.send_keys(Keys.ENTER)  # 검색 결과"
   ]
  },
  {
   "cell_type": "code",
   "execution_count": null,
   "id": "3f0129e1",
   "metadata": {},
   "outputs": [],
   "source": [
    "# 스크롤 진행 전 스크롤바 높이 (javascript 명령어 실행)\n",
    "# 스크롤바는 window 객체가 포함하고 있음\n",
    "before_h = browser.execute_script(\"return window.scrollY\")\n",
    "before_h"
   ]
  },
  {
   "cell_type": "code",
   "execution_count": null,
   "id": "35a233be",
   "metadata": {},
   "outputs": [],
   "source": [
    "# 현재 페이지의 마지막 제품이 다 표현될때까지 end키 전송\n",
    "# 무한 스크롤\n",
    "while True:\n",
    "    # 맨 아래로 스크롤 내리기\n",
    "    browser.find_element(By.CSS_SELECTOR, \"body\").send_keys(Keys.END)  # body 태그 찾아서 맨 아래로 이동하기\n",
    "    # 스크롤 사이 로딩시간 추가\n",
    "    time.sleep(1)\n",
    "    # 스크롤 후 높이\n",
    "    after_h = browser.execute_script(\"return window.scrollY\")\n",
    "    print(after_h)\n",
    "    # 스크롤 후 높이가 스크롤 하기 전 높이와 같으면 종료\n",
    "    if after_h == before_h:\n",
    "        break\n",
    "    # 같지 않으면 스크롤 후 높이를 이전 높이로 설정하고 다시 end키로 전송\n",
    "    before_h = after_h\n",
    "    \n",
    "# 현재 스크롤의 높이 계속 변화\n",
    "# 같은 값 계속 나오면 종료된 것"
   ]
  },
  {
   "cell_type": "code",
   "execution_count": null,
   "id": "0305bac4",
   "metadata": {},
   "outputs": [],
   "source": [
    "# 무한 스크롤 2\n",
    "interval = 2\n",
    "prev_height = browser.execute_script(\"return document.body.scrollHeight\")\n",
    "\n",
    "while True:\n",
    "    # 화면 가장 아래로 스크롤 내리기\n",
    "    browser.execute_script(\"window.scrollTo(0, document.body.scrollHeight)\")\n",
    "    time.sleep(interval)\n",
    "    \n",
    "    curr_height = browser.execute_script(\"return document.body.scrollHeight\")\n",
    "    if curr_height -- prev_height:\n",
    "        break\n",
    "        \n",
    "    prev_height = curr_height"
   ]
  },
  {
   "cell_type": "code",
   "execution_count": null,
   "id": "619e7bf7",
   "metadata": {},
   "outputs": [],
   "source": [
    "# 전체 상품 정보 태그 속성 확인\n",
    "sel = \"div.basicList_list_basis__uNBZx > div > div\""
   ]
  },
  {
   "cell_type": "code",
   "execution_count": null,
   "id": "60948eb6",
   "metadata": {},
   "outputs": [],
   "source": [
    "items = browser.find_elements(By.CSS_SELECTOR, sel)\n",
    "len(items)"
   ]
  },
  {
   "cell_type": "code",
   "execution_count": null,
   "id": "384310ab",
   "metadata": {},
   "outputs": [],
   "source": [
    "# 상품명\n",
    "sel = \".product_title__Mmw2K\"\n",
    "items[3].find_element(By.CSS_SELECTOR, sel).text  # 4번째부터 일반 제품 (3번 제품까지는 광고)"
   ]
  },
  {
   "cell_type": "code",
   "execution_count": null,
   "id": "5c030df9",
   "metadata": {},
   "outputs": [],
   "source": [
    "# 가격\n",
    "sel = \"span.price_num__S2p_v > em\"\n",
    "items[3].find_element(By.CSS_SELECTOR, sel).text"
   ]
  },
  {
   "cell_type": "code",
   "execution_count": null,
   "id": "e9197741",
   "metadata": {},
   "outputs": [],
   "source": [
    "# 제품 상세페이지 링크\n",
    "sel = \".product_title__Mmw2K > a\"  # div의 자식 a 태그\n",
    "items[3].find_element(By.CSS_SELECTOR, sel).text.get_attribute(\"href\")  # 링크주소"
   ]
  },
  {
   "cell_type": "code",
   "execution_count": null,
   "id": "aa547777",
   "metadata": {},
   "outputs": [],
   "source": [
    "# 모든 제품 정보 출력\n",
    "# 단, 광고 제품은 제외\n",
    "sel_t = \".product_title__Mmw2K\"\n",
    "sel_p = \"span.price_num__S2p_v > em\"\n",
    "sel_1 = \".product_title__Mmw2K > a\"\n",
    "\n",
    "for item in items:\n",
    "    try :\n",
    "        name = item.find_element(By.CSS_SELECTOR, sel_t).text\n",
    "        price = item.find_element(By.CSS_SELECTOR, sel_p).text\n",
    "        link = item.find_element(By.CSS_SELECTOR, sel_l).text.get_attribute(\"href\")\n",
    "    except :\n",
    "        name=price=link='광고'\n",
    "    print(name, price, link)"
   ]
  },
  {
   "cell_type": "code",
   "execution_count": null,
   "id": "9bcc68bc",
   "metadata": {},
   "outputs": [],
   "source": [
    "# df 생성 및 저장"
   ]
  },
  {
   "cell_type": "code",
   "execution_count": null,
   "id": "e8717e34",
   "metadata": {},
   "outputs": [],
   "source": [
    "name = []\n",
    "price = []\n",
    "link = []"
   ]
  },
  {
   "cell_type": "code",
   "execution_count": null,
   "id": "bd5f640d",
   "metadata": {},
   "outputs": [],
   "source": [
    "sel = \"div.basicList\"\n",
    "items = "
   ]
  },
  {
   "cell_type": "code",
   "execution_count": null,
   "id": "0e6ed838",
   "metadata": {},
   "outputs": [],
   "source": [
    "# 모든 제품 정보 출력\n",
    "# 단, 광고 제품은 제외\n",
    "sel_t = \".product_title__Mmw2K\"\n",
    "sel_p = \"span.price_num__S2p_v > em\"\n",
    "sel_1 = \".product_title__Mmw2K > a\"\n",
    "\n",
    "for item in items:\n",
    "    try :\n",
    "        name.append = item.find_element(By.CSS_SELECTOR, sel_t).text\n",
    "        price.append = item.find_element(By.CSS_SELECTOR, sel_p).text\n",
    "        link.append = item.find_element(By.CSS_SELECTOR, sel_l).text.get_attribute(\"href\")\n",
    "    except :\n",
    "        continue"
   ]
  },
  {
   "cell_type": "code",
   "execution_count": null,
   "id": "71d6a958",
   "metadata": {},
   "outputs": [],
   "source": [
    "naver_shop = pd.DataFrame({'품명': name, '가격': price, '링크': link})"
   ]
  },
  {
   "cell_type": "code",
   "execution_count": null,
   "id": "3a38a4d4",
   "metadata": {},
   "outputs": [],
   "source": [
    "naver_shop.to_csv('/crawl_data/naver_shop.csv')"
   ]
  }
 ],
 "metadata": {
  "kernelspec": {
   "display_name": "Python 3 (ipykernel)",
   "language": "python",
   "name": "python3"
  },
  "language_info": {
   "codemirror_mode": {
    "name": "ipython",
    "version": 3
   },
   "file_extension": ".py",
   "mimetype": "text/x-python",
   "name": "python",
   "nbconvert_exporter": "python",
   "pygments_lexer": "ipython3",
   "version": "3.10.10"
  }
 },
 "nbformat": 4,
 "nbformat_minor": 5
}
