{
 "cells": [
  {
   "cell_type": "code",
   "execution_count": 36,
   "id": "39d7b46f",
   "metadata": {},
   "outputs": [],
   "source": [
    "from urllib.request import urlopen\n",
    "from bs4 import BeautifulSoup\n",
    "import requests\n",
    "import pandas as pd\n",
    "import numpy as np\n",
    "import ssl"
   ]
  },
  {
   "cell_type": "markdown",
   "id": "ae618fbb",
   "metadata": {},
   "source": [
    "## DBMS 코드에서 연결 사용\n",
    "- DBMS 각각에 맞는 패키지가 설치되어야 함\n",
    "- MySQL(MriadDB)은 pymysql 패키지 필요 (설치해야 됨)"
   ]
  },
  {
   "cell_type": "code",
   "execution_count": 37,
   "id": "f2d3e21c",
   "metadata": {},
   "outputs": [
    {
     "name": "stdout",
     "output_type": "stream",
     "text": [
      "Requirement already satisfied: pymysql in c:\\users\\사용자\\appdata\\local\\programs\\python\\python310\\lib\\site-packages (1.1.0)\n"
     ]
    }
   ],
   "source": [
    "!pip install pymysql"
   ]
  },
  {
   "cell_type": "code",
   "execution_count": 39,
   "id": "0797aadd",
   "metadata": {},
   "outputs": [],
   "source": [
    "import pymysql"
   ]
  },
  {
   "cell_type": "markdown",
   "id": "7df26b71",
   "metadata": {},
   "source": [
    "### pymysql 사용법\n",
    "1. dbms 연결\n",
    "    - pymysql.connect(host='서버주소(ip주소)', port=3306, user='userid', passwd='userpass', charset='utf8')\n",
    "    - port : 서버주소를 이용해서 서버 컴퓨터의 입구까지 연결\n",
    "        - port를 이용해서 각 프로그램의 방으로 연결\n",
    "        \n",
    "2. 1번에서 연결한 정보(객체)를 이용해서 cursor 객체 생성\n",
    "    - connect.cursor()\n",
    "    - cursor객체 : dbms와 통로 역할을 함\n",
    "        - sql문의 명령을 dbms로 전달\n",
    "        - 실행된 sql문의 결과 반환\n",
    "        \n",
    "3. sql 문 작성\n",
    "    - 저장소(table) 관련 sql 문 : create, alter, drop 으로 시작되는 sql문\n",
    "    - 데이터 저장 관련 sql 문 : table 데이터 삽입 삭제 갱신과 관련\n",
    "        - insert, delete, update로 시작되는 sql 문\n",
    "    - 검색 sql문 : select로 시작되는 sql문 (반환데이터가 있음)\n",
    "    \n",
    "4. cursor 객체를 이용해서 3번 작성한 sql문을 실행\n",
    "    - cursor.execute(sql문)\n",
    "    \n",
    "5. 검색과 관련된 sql문인 경우\n",
    "    - cursor.fetchXXX() 를 이용해서 데이터 반환\n",
    "    - cursor.fetchall() : 반환된 모든 데이터 한번에 전달받기\n",
    "    - cursor.fetchone() : 반환된 모든 데이터를 한개씩 전달받기"
   ]
  },
  {
   "cell_type": "code",
   "execution_count": 41,
   "id": "ad65862b",
   "metadata": {},
   "outputs": [],
   "source": [
    "# connect 객체 생성\n",
    "db = pymysql.connect(host='localhost', port=3306, user='root', passwd='root', charset='utf8')\n",
    "# cursor 객체\n",
    "cursor = db.cursor()"
   ]
  },
  {
   "cell_type": "code",
   "execution_count": 42,
   "id": "0b1db239",
   "metadata": {},
   "outputs": [],
   "source": [
    "sql = \"drop database beauty_shop\"  # beauty_shop db 삭제할 것\n",
    "# cursor.execute(sql)"
   ]
  },
  {
   "cell_type": "code",
   "execution_count": 43,
   "id": "645ecd6b",
   "metadata": {},
   "outputs": [],
   "source": [
    "# db 없어서 에러 발생\n",
    "OperationalError: (1008, \"Can't drop database 'beauty_shop'; database doesn't exist\")"
   ]
  },
  {
   "cell_type": "markdown",
   "id": "46cb8989",
   "metadata": {},
   "source": [
    "### dbms 구조\n",
    "- 제일 넓은 구조 : database\n",
    "    - 생성 : create database db 명 단, db 명은 중복되면 안됨\n",
    "    - 삭제 : drop database db 명 단, db명은 기존에 생성되어 있었어야 함\n",
    "- database 내에 실제 data 저장 구조 : table\n",
    "    - 생성 : create table\n",
    "    - 삭제 : drop table\n",
    "    - 수정 : alter table"
   ]
  },
  {
   "cell_type": "code",
   "execution_count": 44,
   "id": "8210ed6e",
   "metadata": {},
   "outputs": [
    {
     "data": {
      "text/plain": [
       "1"
      ]
     },
     "execution_count": 44,
     "metadata": {},
     "output_type": "execute_result"
    }
   ],
   "source": [
    "# db 생성\n",
    "sql = 'create database beauty_shop'\n",
    "cursor.execute(sql)"
   ]
  },
  {
   "cell_type": "code",
   "execution_count": 45,
   "id": "51f60ee8",
   "metadata": {},
   "outputs": [
    {
     "data": {
      "text/plain": [
       "(('beauty_shop',),\n",
       " ('information_schema',),\n",
       " ('mysql',),\n",
       " ('performance_schema',),\n",
       " ('sys',))"
      ]
     },
     "execution_count": 45,
     "metadata": {},
     "output_type": "execute_result"
    }
   ],
   "source": [
    "# 생성된 db 확인\n",
    "sql = 'show databases' # 반환결과가 있는 구문\n",
    "cursor.execute(sql)\n",
    "result = cursor.fetchall() # dbmas의 db 명 모두 반환\n",
    "result"
   ]
  },
  {
   "cell_type": "code",
   "execution_count": 46,
   "id": "43cdd118",
   "metadata": {},
   "outputs": [
    {
     "data": {
      "text/plain": [
       "0"
      ]
     },
     "execution_count": 46,
     "metadata": {},
     "output_type": "execute_result"
    }
   ],
   "source": [
    "# 사용할 db를 결정해서 명령\n",
    "# use db 명\n",
    "sql = \"use beauty_shop\"\n",
    "cursor.execute(sql)"
   ]
  },
  {
   "cell_type": "code",
   "execution_count": 47,
   "id": "8bc682bb",
   "metadata": {},
   "outputs": [
    {
     "data": {
      "text/plain": [
       "('beauty_shop',)"
      ]
     },
     "execution_count": 47,
     "metadata": {},
     "output_type": "execute_result"
    }
   ],
   "source": [
    "# 현재 사용 db 반환\n",
    "sql = 'select database()'  # 현재 설정된 db 명 반환\n",
    "cursor.execute(sql)  # dbms로 sql 명령문 전달 후 결과 반환\n",
    "result = cursor.fetchone()\n",
    "result"
   ]
  },
  {
   "cell_type": "code",
   "execution_count": 48,
   "id": "09361aaf",
   "metadata": {},
   "outputs": [],
   "source": [
    "# 쇼핑몰 크롤링 data를 저장할 table 생성(dbms에 생성-sql문 사용)\n",
    "sql = '''\n",
    "    CREATE TABLE product (\n",
    "        PRODUCT_CODE int AUTO_INCREMENT NOT NULL,\n",
    "        TITLE VARCHAR(200) NOT NULL,\n",
    "        ORI_PRICE FLOAT,\n",
    "        DISCOUNT_PRICE FLOAT,\n",
    "        link VARCHAR(200),\n",
    "        PRIMARY KEY(PRODUCT_CODE)\n",
    "    );\n",
    "'''"
   ]
  },
  {
   "cell_type": "code",
   "execution_count": 18,
   "id": "87c95c74",
   "metadata": {},
   "outputs": [],
   "source": [
    "# 테이블 생성 sql문(쿼리문)실행하기\n",
    "cursor.execute(sql)\n",
    "\n",
    "# 외부에서 연결해서 사용할 경우 dbms(마리아db)는 연결을 지속시킬 수 없기 때문에\n",
    "# 명령을 클라이언트 단에서 먼저 진행하고 나중에 dbms에 반영한다(create table insert 같은 명령)\n",
    "# 테이블 같은 경우 생성하고 바로 명시적 반영 하는게 좋음\n",
    "# connenct객체 함수 commit()을 사용\n",
    "\n",
    "db.commit() # dbms에 완전 반영"
   ]
  },
  {
   "cell_type": "code",
   "execution_count": 19,
   "id": "1c479156",
   "metadata": {},
   "outputs": [
    {
     "data": {
      "text/plain": [
       "(('product',),)"
      ]
     },
     "execution_count": 19,
     "metadata": {},
     "output_type": "execute_result"
    }
   ],
   "source": [
    "# 테이블 생성 여부 확인\n",
    "sql = \"show tables\"\n",
    "cursor.execute(sql)\n",
    "result=cursor.fetchall()\n",
    "result"
   ]
  },
  {
   "cell_type": "code",
   "execution_count": 20,
   "id": "c9664122",
   "metadata": {},
   "outputs": [
    {
     "data": {
      "text/plain": [
       "(('PRODUCT_CODE', 'int(11)', 'NO', 'PRI', None, 'auto_increment'),\n",
       " ('TITLE', 'varchar(200)', 'NO', '', None, ''),\n",
       " ('ORI_PRICE', 'float', 'YES', '', None, ''),\n",
       " ('DISCOUNT_PRICE', 'float', 'YES', '', None, ''),\n",
       " ('link', 'varchar(200)', 'YES', '', None, ''))"
      ]
     },
     "execution_count": 20,
     "metadata": {},
     "output_type": "execute_result"
    }
   ],
   "source": [
    "sql = \"desc product\"  # desc 테이블명 : 테이블 컬럼 구조 반환\n",
    "cursor.execute(sql)\n",
    "result=cursor.fetchall()  # 여러 컬럼이므로 fetchall() 사용\n",
    "result"
   ]
  },
  {
   "cell_type": "markdown",
   "id": "1ba9f2ee",
   "metadata": {},
   "source": [
    "### 제품 1개에 대한 정보 추출 후 db table에 저장"
   ]
  },
  {
   "cell_type": "code",
   "execution_count": 21,
   "id": "0e4dcef3",
   "metadata": {},
   "outputs": [
    {
     "data": {
      "text/html": [
       "<div>\n",
       "<style scoped>\n",
       "    .dataframe tbody tr th:only-of-type {\n",
       "        vertical-align: middle;\n",
       "    }\n",
       "\n",
       "    .dataframe tbody tr th {\n",
       "        vertical-align: top;\n",
       "    }\n",
       "\n",
       "    .dataframe thead th {\n",
       "        text-align: right;\n",
       "    }\n",
       "</style>\n",
       "<table border=\"1\" class=\"dataframe\">\n",
       "  <thead>\n",
       "    <tr style=\"text-align: right;\">\n",
       "      <th></th>\n",
       "      <th>품목</th>\n",
       "      <th>가격</th>\n",
       "      <th>세일가격</th>\n",
       "      <th>제품경로</th>\n",
       "    </tr>\n",
       "  </thead>\n",
       "  <tbody>\n",
       "  </tbody>\n",
       "</table>\n",
       "</div>"
      ],
      "text/plain": [
       "Empty DataFrame\n",
       "Columns: [품목, 가격, 세일가격, 제품경로]\n",
       "Index: []"
      ]
     },
     "execution_count": 21,
     "metadata": {},
     "output_type": "execute_result"
    }
   ],
   "source": [
    "# df 생성\n",
    "prd_dict = {'품목':[], '가격':[], '세일가격':[],'제품경로':[]}\n",
    "prd_df = pd.DataFrame(prd_dict)\n",
    "prd_df"
   ]
  },
  {
   "cell_type": "code",
   "execution_count": 22,
   "id": "350deb78",
   "metadata": {},
   "outputs": [],
   "source": [
    "# 각 제품 정보 추출하는 함수\n",
    "# box 는 class 값이 description인 div 태그 1개가 전달\n",
    "def get_product_info(box) :\n",
    "    try : \n",
    "        strong = box.find('strong',{'class':'name'})\n",
    "        title= strong.text.split(\":\")[1].strip()\n",
    "        link = strong.a['href']\n",
    "        lis = box.find('ul').findAll('li')\n",
    "        price=(lis[0].text.split(' ')[2])\n",
    "        sale_price=(lis[1].text.split(' ')[2])\n",
    "        return {'품목':title, '가격':price, '세일가격':sale_price,'제품경로':link}\n",
    "    except : \n",
    "        print('에러')"
   ]
  },
  {
   "cell_type": "code",
   "execution_count": 23,
   "id": "31cd33d8",
   "metadata": {},
   "outputs": [],
   "source": [
    "# 전역변수 df 활용해서 제품 정보 저장\n",
    "# 최초 호출함수\n",
    "def get_page_product(url) :\n",
    "    global prd_df \n",
    "    # global 변수를 함수 내부가 아닌 외부에서 찾을 것\n",
    "    # global은 전역변수(함수내/외부에서 모두 사용)로 생성\n",
    "    bs_obj = get_request_product(url)\n",
    "    # 페이지 내에 전체 제품 정보 추출\n",
    "    boxes = bs_obj.findAll('div',{'class':'description'})\n",
    "    # 각 제품에 대한 정보 추출후 df에 저장\n",
    "    for box in boxes[2:] : # best 제외\n",
    "        prd = get_product_info(box)\n",
    "        save_data(prd) # db에 저장하는 함수호출(사용자정의함수)\n",
    "#         res = pd.DataFrame(get_product_info(box),index=range(1,2))\n",
    "#         prd_df = pd.concat([prd_df,res],axis=0,ignore_index=True)"
   ]
  },
  {
   "cell_type": "markdown",
   "id": "81cede3b",
   "metadata": {},
   "source": [
    "### db table에 data 저장\n",
    "- Insert into 구문 사용\n",
    "- insert into 테이블명(컬럼명1, 컬럼명2,...,컬럼명n) values (컬럼값1, 컬럼값2,... 컬럼값)\n",
    "- 문자열값은 ''로 표현\n",
    "- insert into product(title, ori_price, discount_price, link) values ('toner',22.0,17.0,'http://a.b.c')"
   ]
  },
  {
   "cell_type": "code",
   "execution_count": 24,
   "id": "ebbface2",
   "metadata": {},
   "outputs": [
    {
     "ename": "SyntaxError",
     "evalue": "invalid syntax (1632826842.py, line 1)",
     "output_type": "error",
     "traceback": [
      "\u001b[1;36m  Cell \u001b[1;32mIn[24], line 1\u001b[1;36m\u001b[0m\n\u001b[1;33m    insert into product(title, ori_price, discount_price, link) values\u001b[0m\n\u001b[1;37m           ^\u001b[0m\n\u001b[1;31mSyntaxError\u001b[0m\u001b[1;31m:\u001b[0m invalid syntax\n"
     ]
    }
   ],
   "source": [
    "insert into product(title, ori_price, discount_price, link) values \n",
    "('SKINFOOD Yuja C Dark Spot Clear Toner 200ml',39.00,35.10,'/product/skinfood-yuja-c-dark-spot-clear-toner-200ml/62935/category/1019/display/1/')"
   ]
  },
  {
   "cell_type": "code",
   "execution_count": 25,
   "id": "8d1c8fd2",
   "metadata": {},
   "outputs": [],
   "source": [
    "# insert 구문을 이용해서 save_data 함수 생성\n",
    "# prd_info 라는 제품 1개의 정보가 딕셔너리로 전달 됨\n",
    "def save_data(prd_info) :\n",
    "    sql = \"insert into product(title, ori_price, discount_price, link) values ('\"\n",
    "    sql +=  prd_info['품목'] + \"',\" \n",
    "    sql += prd_info['가격'] + \",\" \n",
    "    sql += prd_info['세일가격'] + \",'\"\n",
    "    sql += prd_info['제품경로'] + \"')\"\n",
    "    print(sql)\n",
    "    cursor.execute(sql)   "
   ]
  },
  {
   "cell_type": "code",
   "execution_count": 26,
   "id": "a3bd806a",
   "metadata": {},
   "outputs": [],
   "source": [
    "def get_request_product(url) : \n",
    "    # 요청 후 코드 추출\n",
    "    url = url\n",
    "    context = ssl._create_unverified_context()\n",
    "    htmls = urlopen(url, context=context)\n",
    "    htmls = htmls.read()\n",
    "    # bs4 객체 생성\n",
    "    bs_obj = BeautifulSoup(htmls,'html.parser')\n",
    "    return bs_obj"
   ]
  },
  {
   "cell_type": "code",
   "execution_count": 27,
   "id": "1e5eda08",
   "metadata": {},
   "outputs": [],
   "source": [
    "url = 'https://jolse.com/category/toners-mists/1019?page=4'"
   ]
  },
  {
   "cell_type": "code",
   "execution_count": 28,
   "id": "8e9c66da",
   "metadata": {},
   "outputs": [
    {
     "name": "stdout",
     "output_type": "stream",
     "text": [
      "insert into product(title, ori_price, discount_price, link) values ('COSRX Hydrium Watery Toner 150ml',28.00,16.80,'/product/cosrx-hydrium-watery-toner-150ml/30829/category/1019/display/1/')\n",
      "insert into product(title, ori_price, discount_price, link) values ('Nature Republic Soothing & Moisture Aloe Vera 92% Soothing Gel Mist 155ml',10.50,7.87,'/product/nature-republic-soothing-moisture-aloe-vera-92-soothing-gel-mist-155ml/43720/category/1019/display/1/')\n",
      "insert into product(title, ori_price, discount_price, link) values ('ONE THING Artemisia Capillaris Extract 300ml',30.58,27.52,'/product/one-thing-artemisia-capillaris-extract-300ml/40703/category/1019/display/1/')\n",
      "insert into product(title, ori_price, discount_price, link) values ('iUNIK Vitamin Hyaluronic Acid Vitalizing Toner 200ml',21.99,19.79,'/product/iunik-vitamin-hyaluronic-acid-vitalizing-toner-200ml/18489/category/1019/display/1/')\n",
      "insert into product(title, ori_price, discount_price, link) values ('ETUDE Moistfull Collagen Facial Toner 200ml',19.23,17.31,'/product/etude-moistfull-collagen-facial-toner-200ml/23478/category/1019/display/1/')\n",
      "insert into product(title, ori_price, discount_price, link) values ('MANYO FACTORY Bifida Cica Herb Toner 210ml',22.00,19.80,'/product/manyo-factory-bifida-cica-herb-toner-210ml/42278/category/1019/display/1/')\n",
      "insert into product(title, ori_price, discount_price, link) values ('MANYO FACTORY Galac Whitening Vita Toner 210ml',19.00,17.10,'/product/manyo-factory-galac-whitening-vita-toner-210ml/42276/category/1019/display/1/')\n",
      "insert into product(title, ori_price, discount_price, link) values ('celimax The Real Noni Moisture Balancing Toner 150ml',25.00,22.50,'/product/celimax-the-real-noni-moisture-balancing-toner-150ml/27616/category/1019/display/1/')\n",
      "insert into product(title, ori_price, discount_price, link) values ('SKIN1004 Madagascar Centella Toning Toner 400ml',33.00,14.85,'/product/skin1004-madagascar-centella-toning-toner-400ml/37078/category/1019/display/1/')\n",
      "insert into product(title, ori_price, discount_price, link) values ('Abib Heartleaf Calming Toner Skin Booster 200ml',20.00,17.00,'/product/abib-heartleaf-calming-toner-skin-booster-200ml/43661/category/1019/display/1/')\n",
      "insert into product(title, ori_price, discount_price, link) values ('A'PIEU Raspberry Vinegar Hair Mist 105ml',16.07,14.46,'/product/apieu-raspberry-vinegar-hair-mist-105ml/15720/category/1019/display/1/')\n"
     ]
    },
    {
     "ename": "ProgrammingError",
     "evalue": "(1064, \"You have an error in your SQL syntax; check the manual that corresponds to your MariaDB server version for the right syntax to use near 'PIEU Raspberry Vinegar Hair Mist 105ml',16.07,14.46,'/product/apieu-raspberry...' at line 1\")",
     "output_type": "error",
     "traceback": [
      "\u001b[1;31m---------------------------------------------------------------------------\u001b[0m",
      "\u001b[1;31mProgrammingError\u001b[0m                          Traceback (most recent call last)",
      "Cell \u001b[1;32mIn[28], line 2\u001b[0m\n\u001b[0;32m      1\u001b[0m \u001b[38;5;66;03m# db 저장 진생 후 확인\u001b[39;00m\n\u001b[1;32m----> 2\u001b[0m \u001b[43mget_page_product\u001b[49m\u001b[43m(\u001b[49m\u001b[43murl\u001b[49m\u001b[43m)\u001b[49m\n",
      "Cell \u001b[1;32mIn[23], line 13\u001b[0m, in \u001b[0;36mget_page_product\u001b[1;34m(url)\u001b[0m\n\u001b[0;32m     11\u001b[0m \u001b[38;5;28;01mfor\u001b[39;00m box \u001b[38;5;129;01min\u001b[39;00m boxes[\u001b[38;5;241m2\u001b[39m:] : \u001b[38;5;66;03m# best 제외\u001b[39;00m\n\u001b[0;32m     12\u001b[0m     prd \u001b[38;5;241m=\u001b[39m get_product_info(box)\n\u001b[1;32m---> 13\u001b[0m     \u001b[43msave_data\u001b[49m\u001b[43m(\u001b[49m\u001b[43mprd\u001b[49m\u001b[43m)\u001b[49m\n",
      "Cell \u001b[1;32mIn[25], line 10\u001b[0m, in \u001b[0;36msave_data\u001b[1;34m(prd_info)\u001b[0m\n\u001b[0;32m      8\u001b[0m sql \u001b[38;5;241m+\u001b[39m\u001b[38;5;241m=\u001b[39m prd_info[\u001b[38;5;124m'\u001b[39m\u001b[38;5;124m제품경로\u001b[39m\u001b[38;5;124m'\u001b[39m] \u001b[38;5;241m+\u001b[39m \u001b[38;5;124m\"\u001b[39m\u001b[38;5;124m'\u001b[39m\u001b[38;5;124m)\u001b[39m\u001b[38;5;124m\"\u001b[39m\n\u001b[0;32m      9\u001b[0m \u001b[38;5;28mprint\u001b[39m(sql)\n\u001b[1;32m---> 10\u001b[0m \u001b[43mcursor\u001b[49m\u001b[38;5;241;43m.\u001b[39;49m\u001b[43mexecute\u001b[49m\u001b[43m(\u001b[49m\u001b[43msql\u001b[49m\u001b[43m)\u001b[49m\n",
      "File \u001b[1;32m~\\AppData\\Local\\Programs\\Python\\Python310\\lib\\site-packages\\pymysql\\cursors.py:153\u001b[0m, in \u001b[0;36mCursor.execute\u001b[1;34m(self, query, args)\u001b[0m\n\u001b[0;32m    149\u001b[0m     \u001b[38;5;28;01mpass\u001b[39;00m\n\u001b[0;32m    151\u001b[0m query \u001b[38;5;241m=\u001b[39m \u001b[38;5;28mself\u001b[39m\u001b[38;5;241m.\u001b[39mmogrify(query, args)\n\u001b[1;32m--> 153\u001b[0m result \u001b[38;5;241m=\u001b[39m \u001b[38;5;28;43mself\u001b[39;49m\u001b[38;5;241;43m.\u001b[39;49m\u001b[43m_query\u001b[49m\u001b[43m(\u001b[49m\u001b[43mquery\u001b[49m\u001b[43m)\u001b[49m\n\u001b[0;32m    154\u001b[0m \u001b[38;5;28mself\u001b[39m\u001b[38;5;241m.\u001b[39m_executed \u001b[38;5;241m=\u001b[39m query\n\u001b[0;32m    155\u001b[0m \u001b[38;5;28;01mreturn\u001b[39;00m result\n",
      "File \u001b[1;32m~\\AppData\\Local\\Programs\\Python\\Python310\\lib\\site-packages\\pymysql\\cursors.py:322\u001b[0m, in \u001b[0;36mCursor._query\u001b[1;34m(self, q)\u001b[0m\n\u001b[0;32m    320\u001b[0m conn \u001b[38;5;241m=\u001b[39m \u001b[38;5;28mself\u001b[39m\u001b[38;5;241m.\u001b[39m_get_db()\n\u001b[0;32m    321\u001b[0m \u001b[38;5;28mself\u001b[39m\u001b[38;5;241m.\u001b[39m_clear_result()\n\u001b[1;32m--> 322\u001b[0m \u001b[43mconn\u001b[49m\u001b[38;5;241;43m.\u001b[39;49m\u001b[43mquery\u001b[49m\u001b[43m(\u001b[49m\u001b[43mq\u001b[49m\u001b[43m)\u001b[49m\n\u001b[0;32m    323\u001b[0m \u001b[38;5;28mself\u001b[39m\u001b[38;5;241m.\u001b[39m_do_get_result()\n\u001b[0;32m    324\u001b[0m \u001b[38;5;28;01mreturn\u001b[39;00m \u001b[38;5;28mself\u001b[39m\u001b[38;5;241m.\u001b[39mrowcount\n",
      "File \u001b[1;32m~\\AppData\\Local\\Programs\\Python\\Python310\\lib\\site-packages\\pymysql\\connections.py:558\u001b[0m, in \u001b[0;36mConnection.query\u001b[1;34m(self, sql, unbuffered)\u001b[0m\n\u001b[0;32m    556\u001b[0m     sql \u001b[38;5;241m=\u001b[39m sql\u001b[38;5;241m.\u001b[39mencode(\u001b[38;5;28mself\u001b[39m\u001b[38;5;241m.\u001b[39mencoding, \u001b[38;5;124m\"\u001b[39m\u001b[38;5;124msurrogateescape\u001b[39m\u001b[38;5;124m\"\u001b[39m)\n\u001b[0;32m    557\u001b[0m \u001b[38;5;28mself\u001b[39m\u001b[38;5;241m.\u001b[39m_execute_command(COMMAND\u001b[38;5;241m.\u001b[39mCOM_QUERY, sql)\n\u001b[1;32m--> 558\u001b[0m \u001b[38;5;28mself\u001b[39m\u001b[38;5;241m.\u001b[39m_affected_rows \u001b[38;5;241m=\u001b[39m \u001b[38;5;28;43mself\u001b[39;49m\u001b[38;5;241;43m.\u001b[39;49m\u001b[43m_read_query_result\u001b[49m\u001b[43m(\u001b[49m\u001b[43munbuffered\u001b[49m\u001b[38;5;241;43m=\u001b[39;49m\u001b[43munbuffered\u001b[49m\u001b[43m)\u001b[49m\n\u001b[0;32m    559\u001b[0m \u001b[38;5;28;01mreturn\u001b[39;00m \u001b[38;5;28mself\u001b[39m\u001b[38;5;241m.\u001b[39m_affected_rows\n",
      "File \u001b[1;32m~\\AppData\\Local\\Programs\\Python\\Python310\\lib\\site-packages\\pymysql\\connections.py:822\u001b[0m, in \u001b[0;36mConnection._read_query_result\u001b[1;34m(self, unbuffered)\u001b[0m\n\u001b[0;32m    820\u001b[0m \u001b[38;5;28;01melse\u001b[39;00m:\n\u001b[0;32m    821\u001b[0m     result \u001b[38;5;241m=\u001b[39m MySQLResult(\u001b[38;5;28mself\u001b[39m)\n\u001b[1;32m--> 822\u001b[0m     \u001b[43mresult\u001b[49m\u001b[38;5;241;43m.\u001b[39;49m\u001b[43mread\u001b[49m\u001b[43m(\u001b[49m\u001b[43m)\u001b[49m\n\u001b[0;32m    823\u001b[0m \u001b[38;5;28mself\u001b[39m\u001b[38;5;241m.\u001b[39m_result \u001b[38;5;241m=\u001b[39m result\n\u001b[0;32m    824\u001b[0m \u001b[38;5;28;01mif\u001b[39;00m result\u001b[38;5;241m.\u001b[39mserver_status \u001b[38;5;129;01mis\u001b[39;00m \u001b[38;5;129;01mnot\u001b[39;00m \u001b[38;5;28;01mNone\u001b[39;00m:\n",
      "File \u001b[1;32m~\\AppData\\Local\\Programs\\Python\\Python310\\lib\\site-packages\\pymysql\\connections.py:1200\u001b[0m, in \u001b[0;36mMySQLResult.read\u001b[1;34m(self)\u001b[0m\n\u001b[0;32m   1198\u001b[0m \u001b[38;5;28;01mdef\u001b[39;00m \u001b[38;5;21mread\u001b[39m(\u001b[38;5;28mself\u001b[39m):\n\u001b[0;32m   1199\u001b[0m     \u001b[38;5;28;01mtry\u001b[39;00m:\n\u001b[1;32m-> 1200\u001b[0m         first_packet \u001b[38;5;241m=\u001b[39m \u001b[38;5;28;43mself\u001b[39;49m\u001b[38;5;241;43m.\u001b[39;49m\u001b[43mconnection\u001b[49m\u001b[38;5;241;43m.\u001b[39;49m\u001b[43m_read_packet\u001b[49m\u001b[43m(\u001b[49m\u001b[43m)\u001b[49m\n\u001b[0;32m   1202\u001b[0m         \u001b[38;5;28;01mif\u001b[39;00m first_packet\u001b[38;5;241m.\u001b[39mis_ok_packet():\n\u001b[0;32m   1203\u001b[0m             \u001b[38;5;28mself\u001b[39m\u001b[38;5;241m.\u001b[39m_read_ok_packet(first_packet)\n",
      "File \u001b[1;32m~\\AppData\\Local\\Programs\\Python\\Python310\\lib\\site-packages\\pymysql\\connections.py:772\u001b[0m, in \u001b[0;36mConnection._read_packet\u001b[1;34m(self, packet_type)\u001b[0m\n\u001b[0;32m    770\u001b[0m     \u001b[38;5;28;01mif\u001b[39;00m \u001b[38;5;28mself\u001b[39m\u001b[38;5;241m.\u001b[39m_result \u001b[38;5;129;01mis\u001b[39;00m \u001b[38;5;129;01mnot\u001b[39;00m \u001b[38;5;28;01mNone\u001b[39;00m \u001b[38;5;129;01mand\u001b[39;00m \u001b[38;5;28mself\u001b[39m\u001b[38;5;241m.\u001b[39m_result\u001b[38;5;241m.\u001b[39munbuffered_active \u001b[38;5;129;01mis\u001b[39;00m \u001b[38;5;28;01mTrue\u001b[39;00m:\n\u001b[0;32m    771\u001b[0m         \u001b[38;5;28mself\u001b[39m\u001b[38;5;241m.\u001b[39m_result\u001b[38;5;241m.\u001b[39munbuffered_active \u001b[38;5;241m=\u001b[39m \u001b[38;5;28;01mFalse\u001b[39;00m\n\u001b[1;32m--> 772\u001b[0m     \u001b[43mpacket\u001b[49m\u001b[38;5;241;43m.\u001b[39;49m\u001b[43mraise_for_error\u001b[49m\u001b[43m(\u001b[49m\u001b[43m)\u001b[49m\n\u001b[0;32m    773\u001b[0m \u001b[38;5;28;01mreturn\u001b[39;00m packet\n",
      "File \u001b[1;32m~\\AppData\\Local\\Programs\\Python\\Python310\\lib\\site-packages\\pymysql\\protocol.py:221\u001b[0m, in \u001b[0;36mMysqlPacket.raise_for_error\u001b[1;34m(self)\u001b[0m\n\u001b[0;32m    219\u001b[0m \u001b[38;5;28;01mif\u001b[39;00m DEBUG:\n\u001b[0;32m    220\u001b[0m     \u001b[38;5;28mprint\u001b[39m(\u001b[38;5;124m\"\u001b[39m\u001b[38;5;124merrno =\u001b[39m\u001b[38;5;124m\"\u001b[39m, errno)\n\u001b[1;32m--> 221\u001b[0m \u001b[43merr\u001b[49m\u001b[38;5;241;43m.\u001b[39;49m\u001b[43mraise_mysql_exception\u001b[49m\u001b[43m(\u001b[49m\u001b[38;5;28;43mself\u001b[39;49m\u001b[38;5;241;43m.\u001b[39;49m\u001b[43m_data\u001b[49m\u001b[43m)\u001b[49m\n",
      "File \u001b[1;32m~\\AppData\\Local\\Programs\\Python\\Python310\\lib\\site-packages\\pymysql\\err.py:143\u001b[0m, in \u001b[0;36mraise_mysql_exception\u001b[1;34m(data)\u001b[0m\n\u001b[0;32m    141\u001b[0m \u001b[38;5;28;01mif\u001b[39;00m errorclass \u001b[38;5;129;01mis\u001b[39;00m \u001b[38;5;28;01mNone\u001b[39;00m:\n\u001b[0;32m    142\u001b[0m     errorclass \u001b[38;5;241m=\u001b[39m InternalError \u001b[38;5;28;01mif\u001b[39;00m errno \u001b[38;5;241m<\u001b[39m \u001b[38;5;241m1000\u001b[39m \u001b[38;5;28;01melse\u001b[39;00m OperationalError\n\u001b[1;32m--> 143\u001b[0m \u001b[38;5;28;01mraise\u001b[39;00m errorclass(errno, errval)\n",
      "\u001b[1;31mProgrammingError\u001b[0m: (1064, \"You have an error in your SQL syntax; check the manual that corresponds to your MariaDB server version for the right syntax to use near 'PIEU Raspberry Vinegar Hair Mist 105ml',16.07,14.46,'/product/apieu-raspberry...' at line 1\")"
     ]
    }
   ],
   "source": [
    "# db 저장 진생 후 확인\n",
    "get_page_product(url)"
   ]
  },
  {
   "cell_type": "code",
   "execution_count": 29,
   "id": "a706fd1c",
   "metadata": {},
   "outputs": [],
   "source": [
    "db.commit() # dbms 반영"
   ]
  },
  {
   "cell_type": "code",
   "execution_count": 30,
   "id": "6a2ce8ee",
   "metadata": {},
   "outputs": [
    {
     "data": {
      "text/plain": [
       "((1,\n",
       "  'COSRX Hydrium Watery Toner 150ml',\n",
       "  28.0,\n",
       "  16.8,\n",
       "  '/product/cosrx-hydrium-watery-toner-150ml/30829/category/1019/display/1/'),\n",
       " (2,\n",
       "  'Nature Republic Soothing & Moisture Aloe Vera 92% Soothing Gel Mist 155ml',\n",
       "  10.5,\n",
       "  7.87,\n",
       "  '/product/nature-republic-soothing-moisture-aloe-vera-92-soothing-gel-mist-155ml/43720/category/1019/display/1/'),\n",
       " (3,\n",
       "  'ONE THING Artemisia Capillaris Extract 300ml',\n",
       "  30.58,\n",
       "  27.52,\n",
       "  '/product/one-thing-artemisia-capillaris-extract-300ml/40703/category/1019/display/1/'),\n",
       " (4,\n",
       "  'iUNIK Vitamin Hyaluronic Acid Vitalizing Toner 200ml',\n",
       "  21.99,\n",
       "  19.79,\n",
       "  '/product/iunik-vitamin-hyaluronic-acid-vitalizing-toner-200ml/18489/category/1019/display/1/'),\n",
       " (5,\n",
       "  'ETUDE Moistfull Collagen Facial Toner 200ml',\n",
       "  19.23,\n",
       "  17.31,\n",
       "  '/product/etude-moistfull-collagen-facial-toner-200ml/23478/category/1019/display/1/'),\n",
       " (6,\n",
       "  'MANYO FACTORY Bifida Cica Herb Toner 210ml',\n",
       "  22.0,\n",
       "  19.8,\n",
       "  '/product/manyo-factory-bifida-cica-herb-toner-210ml/42278/category/1019/display/1/'),\n",
       " (7,\n",
       "  'MANYO FACTORY Galac Whitening Vita Toner 210ml',\n",
       "  19.0,\n",
       "  17.1,\n",
       "  '/product/manyo-factory-galac-whitening-vita-toner-210ml/42276/category/1019/display/1/'),\n",
       " (8,\n",
       "  'celimax The Real Noni Moisture Balancing Toner 150ml',\n",
       "  25.0,\n",
       "  22.5,\n",
       "  '/product/celimax-the-real-noni-moisture-balancing-toner-150ml/27616/category/1019/display/1/'),\n",
       " (9,\n",
       "  'SKIN1004 Madagascar Centella Toning Toner 400ml',\n",
       "  33.0,\n",
       "  14.85,\n",
       "  '/product/skin1004-madagascar-centella-toning-toner-400ml/37078/category/1019/display/1/'),\n",
       " (10,\n",
       "  'Abib Heartleaf Calming Toner Skin Booster 200ml',\n",
       "  20.0,\n",
       "  17.0,\n",
       "  '/product/abib-heartleaf-calming-toner-skin-booster-200ml/43661/category/1019/display/1/'))"
      ]
     },
     "execution_count": 30,
     "metadata": {},
     "output_type": "execute_result"
    }
   ],
   "source": [
    "# db에서 data 조회 후 확인\n",
    "sql = \"select * from product\" # product 테이블의 모든(*) data 반환\n",
    "cursor.execute(sql)\n",
    "result = cursor.fetchall()\n",
    "result"
   ]
  },
  {
   "cell_type": "code",
   "execution_count": 31,
   "id": "266f87e3",
   "metadata": {},
   "outputs": [],
   "source": [
    "# 사용 완료 후 db 닫기\n",
    "db.close()"
   ]
  },
  {
   "cell_type": "markdown",
   "id": "a02a6079",
   "metadata": {},
   "source": [
    "### 판다스 패키지 사용해서 db에 있는 data df로 load 하기\n",
    "- pd.read_sql(sql문장, db connect 객체)"
   ]
  },
  {
   "cell_type": "code",
   "execution_count": 49,
   "id": "a320fb0b",
   "metadata": {},
   "outputs": [],
   "source": [
    "# connect 객체 생성\n",
    "db = pymysql.connect(host='localhost',port=3306, user='root',passwd='root', charset='utf8')\n",
    "# cursor 객체\n",
    "cursor = db.cursor()"
   ]
  },
  {
   "cell_type": "code",
   "execution_count": 50,
   "id": "354b0d04",
   "metadata": {},
   "outputs": [
    {
     "data": {
      "text/plain": [
       "0"
      ]
     },
     "execution_count": 50,
     "metadata": {},
     "output_type": "execute_result"
    }
   ],
   "source": [
    "sql = \"use beauty_shop\"\n",
    "cursor.execute(sql)"
   ]
  },
  {
   "cell_type": "code",
   "execution_count": 51,
   "id": "6e35f05c",
   "metadata": {},
   "outputs": [
    {
     "name": "stderr",
     "output_type": "stream",
     "text": [
      "C:\\Users\\사용자\\AppData\\Local\\Temp\\ipykernel_22396\\1301940393.py:2: UserWarning: pandas only supports SQLAlchemy connectable (engine/connection) or database string URI or sqlite3 DBAPI2 connection. Other DBAPI2 objects are not tested. Please consider using SQLAlchemy.\n",
      "  df = pd.read_sql(sql, db)\n"
     ]
    },
    {
     "ename": "DatabaseError",
     "evalue": "Execution failed on sql 'select * from product': (1146, \"Table 'beauty_shop.product' doesn't exist\")",
     "output_type": "error",
     "traceback": [
      "\u001b[1;31m---------------------------------------------------------------------------\u001b[0m",
      "\u001b[1;31mProgrammingError\u001b[0m                          Traceback (most recent call last)",
      "File \u001b[1;32m~\\AppData\\Local\\Programs\\Python\\Python310\\lib\\site-packages\\pandas\\io\\sql.py:2202\u001b[0m, in \u001b[0;36mSQLiteDatabase.execute\u001b[1;34m(self, sql, params)\u001b[0m\n\u001b[0;32m   2201\u001b[0m \u001b[38;5;28;01mtry\u001b[39;00m:\n\u001b[1;32m-> 2202\u001b[0m     \u001b[43mcur\u001b[49m\u001b[38;5;241;43m.\u001b[39;49m\u001b[43mexecute\u001b[49m\u001b[43m(\u001b[49m\u001b[43msql\u001b[49m\u001b[43m,\u001b[49m\u001b[43m \u001b[49m\u001b[38;5;241;43m*\u001b[39;49m\u001b[43margs\u001b[49m\u001b[43m)\u001b[49m\n\u001b[0;32m   2203\u001b[0m     \u001b[38;5;28;01mreturn\u001b[39;00m cur\n",
      "File \u001b[1;32m~\\AppData\\Local\\Programs\\Python\\Python310\\lib\\site-packages\\pymysql\\cursors.py:153\u001b[0m, in \u001b[0;36mCursor.execute\u001b[1;34m(self, query, args)\u001b[0m\n\u001b[0;32m    151\u001b[0m query \u001b[38;5;241m=\u001b[39m \u001b[38;5;28mself\u001b[39m\u001b[38;5;241m.\u001b[39mmogrify(query, args)\n\u001b[1;32m--> 153\u001b[0m result \u001b[38;5;241m=\u001b[39m \u001b[38;5;28;43mself\u001b[39;49m\u001b[38;5;241;43m.\u001b[39;49m\u001b[43m_query\u001b[49m\u001b[43m(\u001b[49m\u001b[43mquery\u001b[49m\u001b[43m)\u001b[49m\n\u001b[0;32m    154\u001b[0m \u001b[38;5;28mself\u001b[39m\u001b[38;5;241m.\u001b[39m_executed \u001b[38;5;241m=\u001b[39m query\n",
      "File \u001b[1;32m~\\AppData\\Local\\Programs\\Python\\Python310\\lib\\site-packages\\pymysql\\cursors.py:322\u001b[0m, in \u001b[0;36mCursor._query\u001b[1;34m(self, q)\u001b[0m\n\u001b[0;32m    321\u001b[0m \u001b[38;5;28mself\u001b[39m\u001b[38;5;241m.\u001b[39m_clear_result()\n\u001b[1;32m--> 322\u001b[0m \u001b[43mconn\u001b[49m\u001b[38;5;241;43m.\u001b[39;49m\u001b[43mquery\u001b[49m\u001b[43m(\u001b[49m\u001b[43mq\u001b[49m\u001b[43m)\u001b[49m\n\u001b[0;32m    323\u001b[0m \u001b[38;5;28mself\u001b[39m\u001b[38;5;241m.\u001b[39m_do_get_result()\n",
      "File \u001b[1;32m~\\AppData\\Local\\Programs\\Python\\Python310\\lib\\site-packages\\pymysql\\connections.py:558\u001b[0m, in \u001b[0;36mConnection.query\u001b[1;34m(self, sql, unbuffered)\u001b[0m\n\u001b[0;32m    557\u001b[0m \u001b[38;5;28mself\u001b[39m\u001b[38;5;241m.\u001b[39m_execute_command(COMMAND\u001b[38;5;241m.\u001b[39mCOM_QUERY, sql)\n\u001b[1;32m--> 558\u001b[0m \u001b[38;5;28mself\u001b[39m\u001b[38;5;241m.\u001b[39m_affected_rows \u001b[38;5;241m=\u001b[39m \u001b[38;5;28;43mself\u001b[39;49m\u001b[38;5;241;43m.\u001b[39;49m\u001b[43m_read_query_result\u001b[49m\u001b[43m(\u001b[49m\u001b[43munbuffered\u001b[49m\u001b[38;5;241;43m=\u001b[39;49m\u001b[43munbuffered\u001b[49m\u001b[43m)\u001b[49m\n\u001b[0;32m    559\u001b[0m \u001b[38;5;28;01mreturn\u001b[39;00m \u001b[38;5;28mself\u001b[39m\u001b[38;5;241m.\u001b[39m_affected_rows\n",
      "File \u001b[1;32m~\\AppData\\Local\\Programs\\Python\\Python310\\lib\\site-packages\\pymysql\\connections.py:822\u001b[0m, in \u001b[0;36mConnection._read_query_result\u001b[1;34m(self, unbuffered)\u001b[0m\n\u001b[0;32m    821\u001b[0m     result \u001b[38;5;241m=\u001b[39m MySQLResult(\u001b[38;5;28mself\u001b[39m)\n\u001b[1;32m--> 822\u001b[0m     \u001b[43mresult\u001b[49m\u001b[38;5;241;43m.\u001b[39;49m\u001b[43mread\u001b[49m\u001b[43m(\u001b[49m\u001b[43m)\u001b[49m\n\u001b[0;32m    823\u001b[0m \u001b[38;5;28mself\u001b[39m\u001b[38;5;241m.\u001b[39m_result \u001b[38;5;241m=\u001b[39m result\n",
      "File \u001b[1;32m~\\AppData\\Local\\Programs\\Python\\Python310\\lib\\site-packages\\pymysql\\connections.py:1200\u001b[0m, in \u001b[0;36mMySQLResult.read\u001b[1;34m(self)\u001b[0m\n\u001b[0;32m   1199\u001b[0m \u001b[38;5;28;01mtry\u001b[39;00m:\n\u001b[1;32m-> 1200\u001b[0m     first_packet \u001b[38;5;241m=\u001b[39m \u001b[38;5;28;43mself\u001b[39;49m\u001b[38;5;241;43m.\u001b[39;49m\u001b[43mconnection\u001b[49m\u001b[38;5;241;43m.\u001b[39;49m\u001b[43m_read_packet\u001b[49m\u001b[43m(\u001b[49m\u001b[43m)\u001b[49m\n\u001b[0;32m   1202\u001b[0m     \u001b[38;5;28;01mif\u001b[39;00m first_packet\u001b[38;5;241m.\u001b[39mis_ok_packet():\n",
      "File \u001b[1;32m~\\AppData\\Local\\Programs\\Python\\Python310\\lib\\site-packages\\pymysql\\connections.py:772\u001b[0m, in \u001b[0;36mConnection._read_packet\u001b[1;34m(self, packet_type)\u001b[0m\n\u001b[0;32m    771\u001b[0m         \u001b[38;5;28mself\u001b[39m\u001b[38;5;241m.\u001b[39m_result\u001b[38;5;241m.\u001b[39munbuffered_active \u001b[38;5;241m=\u001b[39m \u001b[38;5;28;01mFalse\u001b[39;00m\n\u001b[1;32m--> 772\u001b[0m     \u001b[43mpacket\u001b[49m\u001b[38;5;241;43m.\u001b[39;49m\u001b[43mraise_for_error\u001b[49m\u001b[43m(\u001b[49m\u001b[43m)\u001b[49m\n\u001b[0;32m    773\u001b[0m \u001b[38;5;28;01mreturn\u001b[39;00m packet\n",
      "File \u001b[1;32m~\\AppData\\Local\\Programs\\Python\\Python310\\lib\\site-packages\\pymysql\\protocol.py:221\u001b[0m, in \u001b[0;36mMysqlPacket.raise_for_error\u001b[1;34m(self)\u001b[0m\n\u001b[0;32m    220\u001b[0m     \u001b[38;5;28mprint\u001b[39m(\u001b[38;5;124m\"\u001b[39m\u001b[38;5;124merrno =\u001b[39m\u001b[38;5;124m\"\u001b[39m, errno)\n\u001b[1;32m--> 221\u001b[0m \u001b[43merr\u001b[49m\u001b[38;5;241;43m.\u001b[39;49m\u001b[43mraise_mysql_exception\u001b[49m\u001b[43m(\u001b[49m\u001b[38;5;28;43mself\u001b[39;49m\u001b[38;5;241;43m.\u001b[39;49m\u001b[43m_data\u001b[49m\u001b[43m)\u001b[49m\n",
      "File \u001b[1;32m~\\AppData\\Local\\Programs\\Python\\Python310\\lib\\site-packages\\pymysql\\err.py:143\u001b[0m, in \u001b[0;36mraise_mysql_exception\u001b[1;34m(data)\u001b[0m\n\u001b[0;32m    142\u001b[0m     errorclass \u001b[38;5;241m=\u001b[39m InternalError \u001b[38;5;28;01mif\u001b[39;00m errno \u001b[38;5;241m<\u001b[39m \u001b[38;5;241m1000\u001b[39m \u001b[38;5;28;01melse\u001b[39;00m OperationalError\n\u001b[1;32m--> 143\u001b[0m \u001b[38;5;28;01mraise\u001b[39;00m errorclass(errno, errval)\n",
      "\u001b[1;31mProgrammingError\u001b[0m: (1146, \"Table 'beauty_shop.product' doesn't exist\")",
      "\nThe above exception was the direct cause of the following exception:\n",
      "\u001b[1;31mDatabaseError\u001b[0m                             Traceback (most recent call last)",
      "Cell \u001b[1;32mIn[51], line 2\u001b[0m\n\u001b[0;32m      1\u001b[0m sql \u001b[38;5;241m=\u001b[39m \u001b[38;5;124m\"\u001b[39m\u001b[38;5;124mselect * from product\u001b[39m\u001b[38;5;124m\"\u001b[39m\n\u001b[1;32m----> 2\u001b[0m df \u001b[38;5;241m=\u001b[39m \u001b[43mpd\u001b[49m\u001b[38;5;241;43m.\u001b[39;49m\u001b[43mread_sql\u001b[49m\u001b[43m(\u001b[49m\u001b[43msql\u001b[49m\u001b[43m,\u001b[49m\u001b[43m \u001b[49m\u001b[43mdb\u001b[49m\u001b[43m)\u001b[49m\n\u001b[0;32m      3\u001b[0m df\u001b[38;5;241m.\u001b[39mhead()\n",
      "File \u001b[1;32m~\\AppData\\Local\\Programs\\Python\\Python310\\lib\\site-packages\\pandas\\io\\sql.py:635\u001b[0m, in \u001b[0;36mread_sql\u001b[1;34m(sql, con, index_col, coerce_float, params, parse_dates, columns, chunksize, dtype_backend, dtype)\u001b[0m\n\u001b[0;32m    633\u001b[0m \u001b[38;5;28;01mwith\u001b[39;00m pandasSQL_builder(con) \u001b[38;5;28;01mas\u001b[39;00m pandas_sql:\n\u001b[0;32m    634\u001b[0m     \u001b[38;5;28;01mif\u001b[39;00m \u001b[38;5;28misinstance\u001b[39m(pandas_sql, SQLiteDatabase):\n\u001b[1;32m--> 635\u001b[0m         \u001b[38;5;28;01mreturn\u001b[39;00m \u001b[43mpandas_sql\u001b[49m\u001b[38;5;241;43m.\u001b[39;49m\u001b[43mread_query\u001b[49m\u001b[43m(\u001b[49m\n\u001b[0;32m    636\u001b[0m \u001b[43m            \u001b[49m\u001b[43msql\u001b[49m\u001b[43m,\u001b[49m\n\u001b[0;32m    637\u001b[0m \u001b[43m            \u001b[49m\u001b[43mindex_col\u001b[49m\u001b[38;5;241;43m=\u001b[39;49m\u001b[43mindex_col\u001b[49m\u001b[43m,\u001b[49m\n\u001b[0;32m    638\u001b[0m \u001b[43m            \u001b[49m\u001b[43mparams\u001b[49m\u001b[38;5;241;43m=\u001b[39;49m\u001b[43mparams\u001b[49m\u001b[43m,\u001b[49m\n\u001b[0;32m    639\u001b[0m \u001b[43m            \u001b[49m\u001b[43mcoerce_float\u001b[49m\u001b[38;5;241;43m=\u001b[39;49m\u001b[43mcoerce_float\u001b[49m\u001b[43m,\u001b[49m\n\u001b[0;32m    640\u001b[0m \u001b[43m            \u001b[49m\u001b[43mparse_dates\u001b[49m\u001b[38;5;241;43m=\u001b[39;49m\u001b[43mparse_dates\u001b[49m\u001b[43m,\u001b[49m\n\u001b[0;32m    641\u001b[0m \u001b[43m            \u001b[49m\u001b[43mchunksize\u001b[49m\u001b[38;5;241;43m=\u001b[39;49m\u001b[43mchunksize\u001b[49m\u001b[43m,\u001b[49m\n\u001b[0;32m    642\u001b[0m \u001b[43m            \u001b[49m\u001b[43mdtype_backend\u001b[49m\u001b[38;5;241;43m=\u001b[39;49m\u001b[43mdtype_backend\u001b[49m\u001b[43m,\u001b[49m\u001b[43m  \u001b[49m\u001b[38;5;66;43;03m# type: ignore[arg-type]\u001b[39;49;00m\n\u001b[0;32m    643\u001b[0m \u001b[43m            \u001b[49m\u001b[43mdtype\u001b[49m\u001b[38;5;241;43m=\u001b[39;49m\u001b[43mdtype\u001b[49m\u001b[43m,\u001b[49m\n\u001b[0;32m    644\u001b[0m \u001b[43m        \u001b[49m\u001b[43m)\u001b[49m\n\u001b[0;32m    646\u001b[0m     \u001b[38;5;28;01mtry\u001b[39;00m:\n\u001b[0;32m    647\u001b[0m         _is_table_name \u001b[38;5;241m=\u001b[39m pandas_sql\u001b[38;5;241m.\u001b[39mhas_table(sql)\n",
      "File \u001b[1;32m~\\AppData\\Local\\Programs\\Python\\Python310\\lib\\site-packages\\pandas\\io\\sql.py:2266\u001b[0m, in \u001b[0;36mSQLiteDatabase.read_query\u001b[1;34m(self, sql, index_col, coerce_float, parse_dates, params, chunksize, dtype, dtype_backend)\u001b[0m\n\u001b[0;32m   2255\u001b[0m \u001b[38;5;28;01mdef\u001b[39;00m \u001b[38;5;21mread_query\u001b[39m(\n\u001b[0;32m   2256\u001b[0m     \u001b[38;5;28mself\u001b[39m,\n\u001b[0;32m   2257\u001b[0m     sql,\n\u001b[1;32m   (...)\u001b[0m\n\u001b[0;32m   2264\u001b[0m     dtype_backend: DtypeBackend \u001b[38;5;241m|\u001b[39m Literal[\u001b[38;5;124m\"\u001b[39m\u001b[38;5;124mnumpy\u001b[39m\u001b[38;5;124m\"\u001b[39m] \u001b[38;5;241m=\u001b[39m \u001b[38;5;124m\"\u001b[39m\u001b[38;5;124mnumpy\u001b[39m\u001b[38;5;124m\"\u001b[39m,\n\u001b[0;32m   2265\u001b[0m ) \u001b[38;5;241m-\u001b[39m\u001b[38;5;241m>\u001b[39m DataFrame \u001b[38;5;241m|\u001b[39m Iterator[DataFrame]:\n\u001b[1;32m-> 2266\u001b[0m     cursor \u001b[38;5;241m=\u001b[39m \u001b[38;5;28;43mself\u001b[39;49m\u001b[38;5;241;43m.\u001b[39;49m\u001b[43mexecute\u001b[49m\u001b[43m(\u001b[49m\u001b[43msql\u001b[49m\u001b[43m,\u001b[49m\u001b[43m \u001b[49m\u001b[43mparams\u001b[49m\u001b[43m)\u001b[49m\n\u001b[0;32m   2267\u001b[0m     columns \u001b[38;5;241m=\u001b[39m [col_desc[\u001b[38;5;241m0\u001b[39m] \u001b[38;5;28;01mfor\u001b[39;00m col_desc \u001b[38;5;129;01min\u001b[39;00m cursor\u001b[38;5;241m.\u001b[39mdescription]\n\u001b[0;32m   2269\u001b[0m     \u001b[38;5;28;01mif\u001b[39;00m chunksize \u001b[38;5;129;01mis\u001b[39;00m \u001b[38;5;129;01mnot\u001b[39;00m \u001b[38;5;28;01mNone\u001b[39;00m:\n",
      "File \u001b[1;32m~\\AppData\\Local\\Programs\\Python\\Python310\\lib\\site-packages\\pandas\\io\\sql.py:2214\u001b[0m, in \u001b[0;36mSQLiteDatabase.execute\u001b[1;34m(self, sql, params)\u001b[0m\n\u001b[0;32m   2211\u001b[0m     \u001b[38;5;28;01mraise\u001b[39;00m ex \u001b[38;5;28;01mfrom\u001b[39;00m \u001b[38;5;21;01minner_exc\u001b[39;00m\n\u001b[0;32m   2213\u001b[0m ex \u001b[38;5;241m=\u001b[39m DatabaseError(\u001b[38;5;124mf\u001b[39m\u001b[38;5;124m\"\u001b[39m\u001b[38;5;124mExecution failed on sql \u001b[39m\u001b[38;5;124m'\u001b[39m\u001b[38;5;132;01m{\u001b[39;00msql\u001b[38;5;132;01m}\u001b[39;00m\u001b[38;5;124m'\u001b[39m\u001b[38;5;124m: \u001b[39m\u001b[38;5;132;01m{\u001b[39;00mexc\u001b[38;5;132;01m}\u001b[39;00m\u001b[38;5;124m\"\u001b[39m)\n\u001b[1;32m-> 2214\u001b[0m \u001b[38;5;28;01mraise\u001b[39;00m ex \u001b[38;5;28;01mfrom\u001b[39;00m \u001b[38;5;21;01mexc\u001b[39;00m\n",
      "\u001b[1;31mDatabaseError\u001b[0m: Execution failed on sql 'select * from product': (1146, \"Table 'beauty_shop.product' doesn't exist\")"
     ]
    }
   ],
   "source": [
    "sql = \"select * from product\"\n",
    "df = pd.read_sql(sql, db)\n",
    "df.head()"
   ]
  }
 ],
 "metadata": {
  "kernelspec": {
   "display_name": "Python 3 (ipykernel)",
   "language": "python",
   "name": "python3"
  },
  "language_info": {
   "codemirror_mode": {
    "name": "ipython",
    "version": 3
   },
   "file_extension": ".py",
   "mimetype": "text/x-python",
   "name": "python",
   "nbconvert_exporter": "python",
   "pygments_lexer": "ipython3",
   "version": "3.10.10"
  }
 },
 "nbformat": 4,
 "nbformat_minor": 5
}
