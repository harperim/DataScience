{
 "cells": [
  {
   "cell_type": "markdown",
   "id": "d23cccd2",
   "metadata": {},
   "source": [
    "#### 웹 크롤링은 웹 브라우저를 통해 진행됨\n",
    "- 서버에서 전달된 정보(html, js, image, file 등등)는 클라이언트 컴퓨터에 임시저장\n",
    "    - 저장된 정보를 웹브라우저가 해석하고 실행해서 보여 줌\n",
    "    - 서버에서 클라이언트로 전달된 정보는 브라우저를 통해서 추출 정보를 얻을 수 있다\n",
    "- 웹브라우저 컨트롤 할 수 있어야 함\n",
    "    - 관련 패키지 : webbrowser"
   ]
  },
  {
   "cell_type": "code",
   "execution_count": 1,
   "id": "fe02f8db",
   "metadata": {},
   "outputs": [],
   "source": [
    "import webbrowser"
   ]
  },
  {
   "cell_type": "markdown",
   "id": "b32a23b1",
   "metadata": {},
   "source": [
    "### 브라우저 실행 : webbrowser.open('url')\n",
    "- 매개변수 : url을 전달(접속하고자 하는 웹 사이트)\n",
    "    - url은 파라미터를 포함 할 수 있음\n",
    "    - https://search.naver.com/search.naver?where=nexearch&sm=top_hty&fbm=0&ie=utf8&query=python\n",
    "    - https://search.naver.com/search.naver? -검색을 위한 필수 주소\n",
    "    - where=nexearch&sm=top_hty&fbm=0&ie=utf8&query=python - 서버에 전달되는 파라미터(query=검색어)\n",
    "- 반환값이 True면 브라우저 실행이 정상 완료"
   ]
  },
  {
   "cell_type": "code",
   "execution_count": 2,
   "id": "09a31274",
   "metadata": {},
   "outputs": [
    {
     "data": {
      "text/plain": [
       "True"
      ]
     },
     "execution_count": 2,
     "metadata": {},
     "output_type": "execute_result"
    }
   ],
   "source": [
    "# 네이버 사이트 브라우저 함수로 접속하기 \n",
    "# - 코드가 url을 브라우저로 전달해서 브라우저를 통해서 접속\n",
    "url = 'http://www.naver.com' # 네이버 도메인\n",
    "webbrowser.open(url)"
   ]
  },
  {
   "cell_type": "code",
   "execution_count": 3,
   "id": "86a97327",
   "metadata": {},
   "outputs": [
    {
     "data": {
      "text/plain": [
       "True"
      ]
     },
     "execution_count": 3,
     "metadata": {},
     "output_type": "execute_result"
    }
   ],
   "source": [
    "url = 'www.naver.com' # 네이버 도메인의 일부지만\n",
    "webbrowser.open(url) # 접속 성공 - 브라우저를 통하기 때문에 브라우저의 완성기능이 작동"
   ]
  },
  {
   "cell_type": "code",
   "execution_count": 4,
   "id": "fa78ba03",
   "metadata": {},
   "outputs": [
    {
     "data": {
      "text/plain": [
       "'https://search.naver.com/search.naver?query=python'"
      ]
     },
     "execution_count": 4,
     "metadata": {},
     "output_type": "execute_result"
    }
   ],
   "source": [
    "# 검색어 적용 \n",
    "# https://search.naver.com/search.naver?where=nexearch&sm=top_hty&fbm=0&ie=utf8&query=python\n",
    "search_url = 'https://search.naver.com/search.naver?'\n",
    "search = 'query=python'\n",
    "url = search_url + search\n",
    "url"
   ]
  },
  {
   "cell_type": "code",
   "execution_count": 5,
   "id": "f7c49ca9",
   "metadata": {},
   "outputs": [
    {
     "data": {
      "text/plain": [
       "True"
      ]
     },
     "execution_count": 5,
     "metadata": {},
     "output_type": "execute_result"
    }
   ],
   "source": [
    "webbrowser.open(url)"
   ]
  },
  {
   "cell_type": "markdown",
   "id": "3582a114",
   "metadata": {},
   "source": [
    "### 단, 검색어를  url에 적용시키는 방법은 site마다 다르다\n",
    "- 구글 검색 URL\n",
    "    - https://www.google.com/search?q=python&oq=python&aqs=chrome..69i57j69i59j0i131i433i512l8.1172j0j15&sourceid=chrome&ie=UTF-8\n",
    "    - 기본 url : https://www.google.com/search?\n",
    "    - 검색파라미터 : q=검색어\n",
    "    "
   ]
  },
  {
   "cell_type": "code",
   "execution_count": 6,
   "id": "e51977a9",
   "metadata": {},
   "outputs": [
    {
     "data": {
      "text/plain": [
       "'https://www.google.com/search?q=django'"
      ]
     },
     "execution_count": 6,
     "metadata": {},
     "output_type": "execute_result"
    }
   ],
   "source": [
    "g_url = 'https://www.google.com/search?'\n",
    "search = 'q=django'\n",
    "url = g_url + search\n",
    "url"
   ]
  },
  {
   "cell_type": "code",
   "execution_count": 7,
   "id": "b97bed1c",
   "metadata": {},
   "outputs": [
    {
     "data": {
      "text/plain": [
       "True"
      ]
     },
     "execution_count": 7,
     "metadata": {},
     "output_type": "execute_result"
    }
   ],
   "source": [
    "webbrowser.open(url)"
   ]
  },
  {
   "cell_type": "code",
   "execution_count": 8,
   "id": "59d32032",
   "metadata": {},
   "outputs": [],
   "source": [
    "# 여러 url에 접속\n",
    "urls = ['www.naver.com','www.daum.net','www.google.com']\n",
    "\n",
    "for url in urls  :\n",
    "    webbrowser.open(url)\n",
    "    \n",
    "# 내가 지정한 곳에서 브라우저인 것처럼 행동하도록 속이는 것\n",
    "# 서버에 요청해서 넘어오는 코드를 브라우저에 주지 않고, 내 코드 변수에 넣는 작업\n",
    "# 변수에 있는 코드를 가지고 내가 원하는 글자만 추출하는 코드 작성"
   ]
  }
 ],
 "metadata": {
  "kernelspec": {
   "display_name": "Python 3 (ipykernel)",
   "language": "python",
   "name": "python3"
  },
  "language_info": {
   "codemirror_mode": {
    "name": "ipython",
    "version": 3
   },
   "file_extension": ".py",
   "mimetype": "text/x-python",
   "name": "python",
   "nbconvert_exporter": "python",
   "pygments_lexer": "ipython3",
   "version": "3.10.10"
  }
 },
 "nbformat": 4,
 "nbformat_minor": 5
}
