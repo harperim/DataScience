{
 "cells": [
  {
   "cell_type": "code",
   "execution_count": 1,
   "id": "46490118",
   "metadata": {},
   "outputs": [
    {
     "data": {
      "text/plain": [
       "'%.2f'"
      ]
     },
     "execution_count": 1,
     "metadata": {},
     "output_type": "execute_result"
    }
   ],
   "source": [
    "import numpy as np\n",
    "from scipy.stats import *\n",
    "import pandas as pd\n",
    "import math\n",
    "\n",
    "# Jupyter Notebook의 출력을 소수점 이하 3자리로 제한\n",
    "%precision 2"
   ]
  },
  {
   "cell_type": "code",
   "execution_count": 2,
   "id": "07202e2a",
   "metadata": {},
   "outputs": [],
   "source": [
    "from IPython.core.interactiveshell import InteractiveShell\n",
    "InteractiveShell.ast_node_interactivity=\"all\""
   ]
  },
  {
   "cell_type": "code",
   "execution_count": 5,
   "id": "e65921ac",
   "metadata": {},
   "outputs": [],
   "source": [
    "import warnings\n",
    "warnings.filterwarnings(action='ignore')"
   ]
  },
  {
   "cell_type": "code",
   "execution_count": 6,
   "id": "59f3df5e",
   "metadata": {},
   "outputs": [],
   "source": [
    "scores = [41, 42, 48, 49, 56, 57, 58, 65, 65, 69]"
   ]
  },
  {
   "cell_type": "markdown",
   "id": "b877c426",
   "metadata": {},
   "source": [
    "### np.quantile()의 i,j 위치 \n",
    "- 위치계산 공식\n",
    "- N은 자료의 수, k는 사분위 중 특정 분위\n",
    "- (N-1) * k/4+1 -> R. R은 위치(i)"
   ]
  },
  {
   "cell_type": "code",
   "execution_count": 7,
   "id": "dc7488c5",
   "metadata": {},
   "outputs": [
    {
     "data": {
      "text/plain": [
       "41.00"
      ]
     },
     "execution_count": 7,
     "metadata": {},
     "output_type": "execute_result"
    },
    {
     "data": {
      "text/plain": [
       "1.00"
      ]
     },
     "execution_count": 7,
     "metadata": {},
     "output_type": "execute_result"
    }
   ],
   "source": [
    "np.quantile(scores, q=0.0, interpolation='linear')  # 선형보간법 (linear)\n",
    "q=0.0\n",
    "i = (len(scores)-1)*q + 1\n",
    "i  # 1번째 위치"
   ]
  },
  {
   "cell_type": "code",
   "execution_count": 8,
   "id": "c552e7fa",
   "metadata": {},
   "outputs": [
    {
     "data": {
      "text/plain": [
       "48.25"
      ]
     },
     "execution_count": 8,
     "metadata": {},
     "output_type": "execute_result"
    },
    {
     "data": {
      "text/plain": [
       "3.25"
      ]
     },
     "execution_count": 8,
     "metadata": {},
     "output_type": "execute_result"
    },
    {
     "data": {
      "text/plain": [
       "48.25"
      ]
     },
     "execution_count": 8,
     "metadata": {},
     "output_type": "execute_result"
    }
   ],
   "source": [
    "q=0.25\n",
    "np.quantile(scores, q, interpolation='linear')  # 선형보간법 (linear)\n",
    "\n",
    "# 3.25, 3번쨰 위치, j=i+1 4번째 위치\n",
    "i = (len(scores)-1)*q + 1\n",
    "i  \n",
    "\n",
    "# 0.25를 곱하는건 3.25에서 3번째 위치값 선택 후, 나머지 0.25를 반영하기 위해 i, j의 차이에 대해 비율로 추가\n",
    "48+(49-48)*0.25 "
   ]
  },
  {
   "cell_type": "code",
   "execution_count": 9,
   "id": "3fd7c401",
   "metadata": {},
   "outputs": [
    {
     "data": {
      "text/plain": [
       "63.25"
      ]
     },
     "execution_count": 9,
     "metadata": {},
     "output_type": "execute_result"
    },
    {
     "data": {
      "text/plain": [
       "7.75"
      ]
     },
     "execution_count": 9,
     "metadata": {},
     "output_type": "execute_result"
    },
    {
     "data": {
      "text/plain": [
       "63.25"
      ]
     },
     "execution_count": 9,
     "metadata": {},
     "output_type": "execute_result"
    }
   ],
   "source": [
    "q=0.75\n",
    "np.quantile(scores, q, interpolation='linear')\n",
    "\n",
    "i = (len(scores)-1)*q+1\n",
    "i\n",
    "\n",
    "58+(65-58)*q"
   ]
  },
  {
   "cell_type": "code",
   "execution_count": 10,
   "id": "f1da7ff7",
   "metadata": {},
   "outputs": [],
   "source": [
    "test = [24, 25, 26, 28, 37, 43, 45, 46, 47, 48, 49, 50, 51,56,67]"
   ]
  },
  {
   "cell_type": "code",
   "execution_count": 11,
   "id": "1581e32f",
   "metadata": {},
   "outputs": [
    {
     "data": {
      "text/plain": [
       "15"
      ]
     },
     "execution_count": 11,
     "metadata": {},
     "output_type": "execute_result"
    }
   ],
   "source": [
    "len(test)"
   ]
  },
  {
   "cell_type": "code",
   "execution_count": 12,
   "id": "7e9f6ad9",
   "metadata": {},
   "outputs": [
    {
     "data": {
      "text/plain": [
       "4.50"
      ]
     },
     "execution_count": 12,
     "metadata": {},
     "output_type": "execute_result"
    },
    {
     "data": {
      "text/plain": [
       "32.50"
      ]
     },
     "execution_count": 12,
     "metadata": {},
     "output_type": "execute_result"
    },
    {
     "data": {
      "text/plain": [
       "32.50"
      ]
     },
     "execution_count": 12,
     "metadata": {},
     "output_type": "execute_result"
    }
   ],
   "source": [
    "q=0.25\n",
    "i = (len(test)-1)*q+1\n",
    "i\n",
    "\n",
    "28+(37-28)*0.5\n",
    "\n",
    "np.quantile(test, q, interpolation='linear')"
   ]
  }
 ],
 "metadata": {
  "kernelspec": {
   "display_name": "Python 3 (ipykernel)",
   "language": "python",
   "name": "python3"
  },
  "language_info": {
   "codemirror_mode": {
    "name": "ipython",
    "version": 3
   },
   "file_extension": ".py",
   "mimetype": "text/x-python",
   "name": "python",
   "nbconvert_exporter": "python",
   "pygments_lexer": "ipython3",
   "version": "3.10.10"
  }
 },
 "nbformat": 4,
 "nbformat_minor": 5
}
