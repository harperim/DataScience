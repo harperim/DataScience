{
 "cells": [
  {
   "cell_type": "markdown",
   "id": "552b4cd4",
   "metadata": {},
   "source": [
    "### 서울시 서대문구에서 치킨집이 가장 많은 동은?\n",
    "\n",
    "#### 자료 출처\n",
    "- 데이터 다운로드 : LOCALDATA 웹 사이트 \n",
    "- http://www.localdata.kr/\n",
    "- 지방자치단체에서 인/허가한 업종별 데이터 제공\n",
    "- 문화, 체육, 관광, 식품 등 11가지 분야에 걸쳐 다양한 데이터 검색 가능\n",
    "- 회원 가입 절차를 별도로 거치지 않고도 공공데이터 다운로드 할 수 있음"
   ]
  },
  {
   "cell_type": "code",
   "execution_count": 1,
   "id": "f0d13169",
   "metadata": {},
   "outputs": [],
   "source": [
    "import pandas as pd\n",
    "import numpy as np\n",
    "import matplotlib.pyplot as plt\n",
    "%matplotlib inline"
   ]
  },
  {
   "cell_type": "code",
   "execution_count": 2,
   "id": "72bfea83",
   "metadata": {},
   "outputs": [],
   "source": [
    "# 한글 문제\n",
    "# matplotlit의 기본 폰트에서 한글 지원되지 않기 때문에\n",
    "# matplotlib의 폰트 변경 필요\n",
    "import platform\n",
    "\n",
    "from matplotlib import font_manager, rc\n",
    "plt.rcParams['axes.unicode_minus'] = False\n",
    "\n",
    "if platform.system() == 'Darwin':  # 맥OS \n",
    "    rc('font', family='AppleGothic')\n",
    "elif platform.system() == 'Windows':  # 윈도우\n",
    "    path = \"c:/Windows/Fonts/malgun.ttf\"\n",
    "    font_name = font_manager.FontProperties(fname=path).get_name()\n",
    "    rc('font', family=font_name)\n",
    "else:\n",
    "    print('Unknown system...  sorry~~~')"
   ]
  },
  {
   "cell_type": "code",
   "execution_count": 3,
   "id": "f508a75c",
   "metadata": {},
   "outputs": [],
   "source": [
    "# encoding error 발생\n",
    "# data=pd.read_csv('./data/data/서울특별시_일반음식점.csv')"
   ]
  },
  {
   "cell_type": "markdown",
   "id": "9f6b9565",
   "metadata": {},
   "source": [
    "- UnicodeDecodeError: 'utf-8' codec can't decode byte 0xb9 in position 1: invalid start byte\n",
    "    - 한글 encoding 방식이 utf-8이 아님\n",
    "- 한글 처리 (cp949) 방식 사용 : 윈도우 os에서 사용하는 한글 처리 방식\n",
    "- DtypeWarning: Columns (22,27,39,41,44,45) have mixed types. Specify dtype option on import or set low_memory=False."
   ]
  },
  {
   "cell_type": "code",
   "execution_count": 4,
   "id": "cc1f142b",
   "metadata": {},
   "outputs": [],
   "source": [
    "data=pd.read_csv('./data/data/서울특별시_일반음식점.csv',\n",
    "                encoding='cp949',\n",
    "                low_memory=False)"
   ]
  },
  {
   "cell_type": "code",
   "execution_count": 5,
   "id": "f0aecb3a",
   "metadata": {},
   "outputs": [
    {
     "data": {
      "text/html": [
       "<div>\n",
       "<style scoped>\n",
       "    .dataframe tbody tr th:only-of-type {\n",
       "        vertical-align: middle;\n",
       "    }\n",
       "\n",
       "    .dataframe tbody tr th {\n",
       "        vertical-align: top;\n",
       "    }\n",
       "\n",
       "    .dataframe thead th {\n",
       "        text-align: right;\n",
       "    }\n",
       "</style>\n",
       "<table border=\"1\" class=\"dataframe\">\n",
       "  <thead>\n",
       "    <tr style=\"text-align: right;\">\n",
       "      <th></th>\n",
       "      <th>번호</th>\n",
       "      <th>개방서비스명</th>\n",
       "      <th>개방서비스아이디</th>\n",
       "      <th>개방자치단체코드</th>\n",
       "      <th>관리번호</th>\n",
       "      <th>인허가일자</th>\n",
       "      <th>인허가취소일자</th>\n",
       "      <th>영업상태구분코드</th>\n",
       "      <th>영업상태명</th>\n",
       "      <th>상세영업상태코드</th>\n",
       "      <th>...</th>\n",
       "      <th>공장생산직종업원수</th>\n",
       "      <th>건물소유구분명</th>\n",
       "      <th>보증액</th>\n",
       "      <th>월세액</th>\n",
       "      <th>다중이용업소여부</th>\n",
       "      <th>시설총규모</th>\n",
       "      <th>전통업소지정번호</th>\n",
       "      <th>전통업소주된음식</th>\n",
       "      <th>홈페이지</th>\n",
       "      <th>Unnamed: 47</th>\n",
       "    </tr>\n",
       "  </thead>\n",
       "  <tbody>\n",
       "    <tr>\n",
       "      <th>472913</th>\n",
       "      <td>472914</td>\n",
       "      <td>일반음식점</td>\n",
       "      <td>07_24_04_P</td>\n",
       "      <td>3150000</td>\n",
       "      <td>3150000-101-2021-00072</td>\n",
       "      <td>20210203</td>\n",
       "      <td>NaN</td>\n",
       "      <td>3</td>\n",
       "      <td>폐업</td>\n",
       "      <td>2</td>\n",
       "      <td>...</td>\n",
       "      <td>0.0</td>\n",
       "      <td>NaN</td>\n",
       "      <td>0.0</td>\n",
       "      <td>0</td>\n",
       "      <td>N</td>\n",
       "      <td>75.60</td>\n",
       "      <td>NaN</td>\n",
       "      <td>NaN</td>\n",
       "      <td>NaN</td>\n",
       "      <td>NaN</td>\n",
       "    </tr>\n",
       "    <tr>\n",
       "      <th>472914</th>\n",
       "      <td>472915</td>\n",
       "      <td>일반음식점</td>\n",
       "      <td>07_24_04_P</td>\n",
       "      <td>3130000</td>\n",
       "      <td>3130000-101-2020-01013</td>\n",
       "      <td>20201208</td>\n",
       "      <td>NaN</td>\n",
       "      <td>3</td>\n",
       "      <td>폐업</td>\n",
       "      <td>2</td>\n",
       "      <td>...</td>\n",
       "      <td>0.0</td>\n",
       "      <td>NaN</td>\n",
       "      <td>0.0</td>\n",
       "      <td>0</td>\n",
       "      <td>N</td>\n",
       "      <td>22.75</td>\n",
       "      <td>NaN</td>\n",
       "      <td>NaN</td>\n",
       "      <td>NaN</td>\n",
       "      <td>NaN</td>\n",
       "    </tr>\n",
       "  </tbody>\n",
       "</table>\n",
       "<p>2 rows × 48 columns</p>\n",
       "</div>"
      ],
      "text/plain": [
       "            번호 개방서비스명    개방서비스아이디  개방자치단체코드                    관리번호     인허가일자  \\\n",
       "472913  472914  일반음식점  07_24_04_P   3150000  3150000-101-2021-00072  20210203   \n",
       "472914  472915  일반음식점  07_24_04_P   3130000  3130000-101-2020-01013  20201208   \n",
       "\n",
       "        인허가취소일자  영업상태구분코드 영업상태명  상세영업상태코드  ... 공장생산직종업원수  건물소유구분명  보증액  월세액  \\\n",
       "472913      NaN         3    폐업         2  ...       0.0      NaN  0.0    0   \n",
       "472914      NaN         3    폐업         2  ...       0.0      NaN  0.0    0   \n",
       "\n",
       "        다중이용업소여부  시설총규모 전통업소지정번호  전통업소주된음식 홈페이지 Unnamed: 47  \n",
       "472913         N  75.60      NaN       NaN  NaN         NaN  \n",
       "472914         N  22.75      NaN       NaN  NaN         NaN  \n",
       "\n",
       "[2 rows x 48 columns]"
      ]
     },
     "execution_count": 5,
     "metadata": {},
     "output_type": "execute_result"
    }
   ],
   "source": [
    "data.head(5)\n",
    "data.tail(2)"
   ]
  },
  {
   "cell_type": "code",
   "execution_count": 6,
   "id": "b1ff600f",
   "metadata": {},
   "outputs": [
    {
     "name": "stdout",
     "output_type": "stream",
     "text": [
      "<class 'pandas.core.frame.DataFrame'>\n",
      "RangeIndex: 472915 entries, 0 to 472914\n",
      "Data columns (total 48 columns):\n",
      " #   Column       Non-Null Count   Dtype  \n",
      "---  ------       --------------   -----  \n",
      " 0   번호           472915 non-null  int64  \n",
      " 1   개방서비스명       472915 non-null  object \n",
      " 2   개방서비스아이디     472915 non-null  object \n",
      " 3   개방자치단체코드     472915 non-null  int64  \n",
      " 4   관리번호         472915 non-null  object \n",
      " 5   인허가일자        472915 non-null  int64  \n",
      " 6   인허가취소일자      0 non-null       float64\n",
      " 7   영업상태구분코드     472915 non-null  int64  \n",
      " 8   영업상태명        472915 non-null  object \n",
      " 9   상세영업상태코드     472915 non-null  int64  \n",
      " 10  상세영업상태명      472915 non-null  object \n",
      " 11  폐업일자         348707 non-null  float64\n",
      " 12  휴업시작일자       0 non-null       float64\n",
      " 13  휴업종료일자       0 non-null       float64\n",
      " 14  재개업일자        0 non-null       float64\n",
      " 15  소재지전화        327325 non-null  object \n",
      " 16  소재지면적        439015 non-null  object \n",
      " 17  소재지우편번호      472670 non-null  float64\n",
      " 18  소재지전체주소      472678 non-null  object \n",
      " 19  도로명전체주소      223302 non-null  object \n",
      " 20  도로명우편번호      219658 non-null  float64\n",
      " 21  사업장명         472914 non-null  object \n",
      " 22  최종수정시점       472915 non-null  object \n",
      " 23  데이터갱신구분      472915 non-null  object \n",
      " 24  데이터갱신일자      472915 non-null  object \n",
      " 25  업태구분명        472894 non-null  object \n",
      " 26  좌표정보(x)      448086 non-null  float64\n",
      " 27  좌표정보(y)      448086 non-null  object \n",
      " 28  위생업태명        472887 non-null  object \n",
      " 29  남성종사자수       303104 non-null  float64\n",
      " 30  여성종사자수       305258 non-null  float64\n",
      " 31  영업장주변구분명     251574 non-null  object \n",
      " 32  등급구분명        241826 non-null  object \n",
      " 33  급수시설구분명      310208 non-null  object \n",
      " 34  총종업원수        45438 non-null   float64\n",
      " 35  본사종업원수       45531 non-null   float64\n",
      " 36  공장사무직종업원수    45530 non-null   float64\n",
      " 37  공장판매직종업원수    45530 non-null   float64\n",
      " 38  공장생산직종업원수    45530 non-null   float64\n",
      " 39  건물소유구분명      1 non-null       object \n",
      " 40  보증액          45531 non-null   float64\n",
      " 41  월세액          45532 non-null   object \n",
      " 42  다중이용업소여부     472908 non-null  object \n",
      " 43  시설총규모        472908 non-null  float64\n",
      " 44  전통업소지정번호     1729 non-null    object \n",
      " 45  전통업소주된음식     912 non-null     object \n",
      " 46  홈페이지         0 non-null       float64\n",
      " 47  Unnamed: 47  0 non-null       float64\n",
      "dtypes: float64(19), int64(5), object(24)\n",
      "memory usage: 173.2+ MB\n"
     ]
    }
   ],
   "source": [
    "# 데이터 개요 확인 (column 확인)\n",
    "data.info()  # 0 - 46개의 컬럼 사용 가능\n",
    "\n",
    "# 치킨집과 관련된 데이터만 추출\n",
    "# 폐업일자가 들어가 있지 않고 주소가 서대문구인 치킨집 필요\n",
    "\n",
    "# 25, 28 : 치킨과 관련된 업태 추출\n",
    "# 18, 19 : 서대문구에 위치한 업소"
   ]
  },
  {
   "cell_type": "markdown",
   "id": "b879747a",
   "metadata": {},
   "source": [
    "- 어떤 음식을 취급하는가? : 업태와 관련 (위생업태명, 업태구분명)\n",
    "- 현재 영업중인가? (영업상태)\n",
    "- 주소 (도로명전체주소/소재지전체주소)"
   ]
  },
  {
   "cell_type": "code",
   "execution_count": 7,
   "id": "8acba144",
   "metadata": {},
   "outputs": [
    {
     "data": {
      "text/plain": [
       "{nan,\n",
       " '간이주점',\n",
       " '감성주점',\n",
       " '경양식',\n",
       " '기타',\n",
       " '기타 휴게음식점',\n",
       " '김밥(도시락)',\n",
       " '까페',\n",
       " '냉면집',\n",
       " '다방',\n",
       " '라이브카페',\n",
       " '룸살롱',\n",
       " '복어취급',\n",
       " '분식',\n",
       " '뷔페식',\n",
       " '식육(숯불구이)',\n",
       " '식품등 수입판매업',\n",
       " '식품소분업',\n",
       " '외국음식전문점(인도,태국등)',\n",
       " '이동조리',\n",
       " '일반조리판매',\n",
       " '일식',\n",
       " '전통찻집',\n",
       " '정종/대포집/소주방',\n",
       " '제과점영업',\n",
       " '중국식',\n",
       " '출장조리',\n",
       " '커피숍',\n",
       " '키즈카페',\n",
       " '탕류(보신용)',\n",
       " '통닭(치킨)',\n",
       " '패밀리레스트랑',\n",
       " '패스트푸드',\n",
       " '한식',\n",
       " '호프/통닭',\n",
       " '횟집'}"
      ]
     },
     "execution_count": 7,
     "metadata": {},
     "output_type": "execute_result"
    }
   ],
   "source": [
    "# 어떤 음식을 취급하는가? : 업태와 관련 (위생업태명, 업태구분)\n",
    "# 현재 영업중인가? (영업상태)\n",
    "data.위생업태명  # 가장 상세한 구분\n",
    "data.업태구분명  # 위생업태명 상위 구분\n",
    "\n",
    "# 현재 데이터의 위생업태 종류 확인 - 중복 제거 후 한번씩만 표현\n",
    "# 파이썬 자료구조 set : 집합자료구조 (중복 X)\n",
    "# 중복제거 후 데이터 확인할 때 많이 사용됨\n",
    "set(data.위생업태명.values)\n",
    "\n",
    "# 치킨집에 해당하는 data만 필요하므로 치킨/통닭 두 단어 중 하나를 포함한 위생업태명"
   ]
  },
  {
   "cell_type": "code",
   "execution_count": 8,
   "id": "c27a9736",
   "metadata": {},
   "outputs": [
    {
     "data": {
      "text/plain": [
       "0         False\n",
       "1         False\n",
       "2         False\n",
       "3         False\n",
       "4         False\n",
       "          ...  \n",
       "472910    False\n",
       "472911    False\n",
       "472912    False\n",
       "472913    False\n",
       "472914    False\n",
       "Name: 위생업태명, Length: 472915, dtype: bool"
      ]
     },
     "execution_count": 8,
     "metadata": {},
     "output_type": "execute_result"
    }
   ],
   "source": [
    "# 문자열에 특정 단어가 포함되어 있는지 확인\n",
    "# 문자열.contains(문자열1) : 문자열 안에 문자열1 포함 여부\n",
    "# 확인할 문자열 집단에 nan이 있으면 에러 발생하므로 na=False parameter 설정\n",
    "# 문자열에 적용되는 함수이므로 형변환 후 사용하는게 일반적임\n",
    "data.위생업태명.str.contains('통닭|치킨', na=False)"
   ]
  },
  {
   "cell_type": "code",
   "execution_count": 9,
   "id": "6c842ed1",
   "metadata": {},
   "outputs": [
    {
     "data": {
      "text/plain": [
       "{'통닭(치킨)', '호프/통닭'}"
      ]
     },
     "execution_count": 9,
     "metadata": {},
     "output_type": "execute_result"
    }
   ],
   "source": [
    "# 위생업태 안에 통닭/치킨이 포함된 문자열을 반환\n",
    "set(data.위생업태명[data.위생업태명.str.contains('통닭|치킨', na=False)])  # 조건 인덱싱\n",
    "\n",
    "# 위생업태가 '통닭(치킨)', '호프/통닭'에 해당되는 업장 data가 필요"
   ]
  },
  {
   "cell_type": "code",
   "execution_count": 10,
   "id": "70f53602",
   "metadata": {},
   "outputs": [
    {
     "data": {
      "text/plain": [
       "{'영업/정상', '폐업'}"
      ]
     },
     "execution_count": 10,
     "metadata": {},
     "output_type": "execute_result"
    }
   ],
   "source": [
    "# 현재 영업중인 업장 : 영업상태 종류 확인\n",
    "set(data.영업상태명)\n",
    "\n",
    "# 영업상태명이 영업/정상인 업장 data 필요"
   ]
  },
  {
   "cell_type": "markdown",
   "id": "6468b438",
   "metadata": {},
   "source": [
    "- 영업 상태명이 영업/정상 이고(&) 위생업태명이 '통닭(치킨)'이거나 '호프/통닭'인 업장 data 추출"
   ]
  },
  {
   "cell_type": "code",
   "execution_count": 11,
   "id": "a1bf9e4c",
   "metadata": {},
   "outputs": [
    {
     "data": {
      "text/plain": [
       "0         False\n",
       "1         False\n",
       "2         False\n",
       "3         False\n",
       "4         False\n",
       "          ...  \n",
       "472910    False\n",
       "472911    False\n",
       "472912    False\n",
       "472913    False\n",
       "472914    False\n",
       "Length: 472915, dtype: bool"
      ]
     },
     "execution_count": 11,
     "metadata": {},
     "output_type": "execute_result"
    }
   ],
   "source": [
    "# 위 조건을 만족하는 조건식 생성\n",
    "# 시리즈.isin([데이터1, 데이터2, ...])\n",
    "# 시리즈 원소가 집합(list, tuple 등) 안의 데이터 1개와 일치하면 True를 반환해주는 함수\n",
    "(data.영업상태명=='영업/정상') & (data.위생업태명.isin(['통닭(치킨)', '호프/통닭']))"
   ]
  },
  {
   "cell_type": "code",
   "execution_count": 12,
   "id": "5b115c8a",
   "metadata": {},
   "outputs": [
    {
     "data": {
      "text/html": [
       "<div>\n",
       "<style scoped>\n",
       "    .dataframe tbody tr th:only-of-type {\n",
       "        vertical-align: middle;\n",
       "    }\n",
       "\n",
       "    .dataframe tbody tr th {\n",
       "        vertical-align: top;\n",
       "    }\n",
       "\n",
       "    .dataframe thead th {\n",
       "        text-align: right;\n",
       "    }\n",
       "</style>\n",
       "<table border=\"1\" class=\"dataframe\">\n",
       "  <thead>\n",
       "    <tr style=\"text-align: right;\">\n",
       "      <th></th>\n",
       "      <th>번호</th>\n",
       "      <th>개방서비스명</th>\n",
       "      <th>개방서비스아이디</th>\n",
       "      <th>개방자치단체코드</th>\n",
       "      <th>관리번호</th>\n",
       "      <th>인허가일자</th>\n",
       "      <th>인허가취소일자</th>\n",
       "      <th>영업상태구분코드</th>\n",
       "      <th>영업상태명</th>\n",
       "      <th>상세영업상태코드</th>\n",
       "      <th>...</th>\n",
       "      <th>공장생산직종업원수</th>\n",
       "      <th>건물소유구분명</th>\n",
       "      <th>보증액</th>\n",
       "      <th>월세액</th>\n",
       "      <th>다중이용업소여부</th>\n",
       "      <th>시설총규모</th>\n",
       "      <th>전통업소지정번호</th>\n",
       "      <th>전통업소주된음식</th>\n",
       "      <th>홈페이지</th>\n",
       "      <th>Unnamed: 47</th>\n",
       "    </tr>\n",
       "  </thead>\n",
       "  <tbody>\n",
       "    <tr>\n",
       "      <th>124130</th>\n",
       "      <td>124131</td>\n",
       "      <td>일반음식점</td>\n",
       "      <td>07_24_04_P</td>\n",
       "      <td>3120000</td>\n",
       "      <td>3120000-101-2021-00031</td>\n",
       "      <td>20210122</td>\n",
       "      <td>NaN</td>\n",
       "      <td>1</td>\n",
       "      <td>영업/정상</td>\n",
       "      <td>1</td>\n",
       "      <td>...</td>\n",
       "      <td>NaN</td>\n",
       "      <td>NaN</td>\n",
       "      <td>NaN</td>\n",
       "      <td>NaN</td>\n",
       "      <td>N</td>\n",
       "      <td>49.34</td>\n",
       "      <td>NaN</td>\n",
       "      <td>NaN</td>\n",
       "      <td>NaN</td>\n",
       "      <td>NaN</td>\n",
       "    </tr>\n",
       "    <tr>\n",
       "      <th>124151</th>\n",
       "      <td>124152</td>\n",
       "      <td>일반음식점</td>\n",
       "      <td>07_24_04_P</td>\n",
       "      <td>3160000</td>\n",
       "      <td>3160000-101-2020-00384</td>\n",
       "      <td>20201208</td>\n",
       "      <td>NaN</td>\n",
       "      <td>1</td>\n",
       "      <td>영업/정상</td>\n",
       "      <td>1</td>\n",
       "      <td>...</td>\n",
       "      <td>NaN</td>\n",
       "      <td>NaN</td>\n",
       "      <td>NaN</td>\n",
       "      <td>NaN</td>\n",
       "      <td>N</td>\n",
       "      <td>33.00</td>\n",
       "      <td>NaN</td>\n",
       "      <td>NaN</td>\n",
       "      <td>NaN</td>\n",
       "      <td>NaN</td>\n",
       "    </tr>\n",
       "    <tr>\n",
       "      <th>124171</th>\n",
       "      <td>124172</td>\n",
       "      <td>일반음식점</td>\n",
       "      <td>07_24_04_P</td>\n",
       "      <td>3200000</td>\n",
       "      <td>3200000-101-2020-00626</td>\n",
       "      <td>20201209</td>\n",
       "      <td>NaN</td>\n",
       "      <td>1</td>\n",
       "      <td>영업/정상</td>\n",
       "      <td>1</td>\n",
       "      <td>...</td>\n",
       "      <td>NaN</td>\n",
       "      <td>NaN</td>\n",
       "      <td>NaN</td>\n",
       "      <td>NaN</td>\n",
       "      <td>N</td>\n",
       "      <td>62.80</td>\n",
       "      <td>NaN</td>\n",
       "      <td>NaN</td>\n",
       "      <td>NaN</td>\n",
       "      <td>NaN</td>\n",
       "    </tr>\n",
       "    <tr>\n",
       "      <th>124193</th>\n",
       "      <td>124194</td>\n",
       "      <td>일반음식점</td>\n",
       "      <td>07_24_04_P</td>\n",
       "      <td>3060000</td>\n",
       "      <td>3060000-101-2021-00028</td>\n",
       "      <td>20210203</td>\n",
       "      <td>NaN</td>\n",
       "      <td>1</td>\n",
       "      <td>영업/정상</td>\n",
       "      <td>1</td>\n",
       "      <td>...</td>\n",
       "      <td>NaN</td>\n",
       "      <td>NaN</td>\n",
       "      <td>NaN</td>\n",
       "      <td>NaN</td>\n",
       "      <td>N</td>\n",
       "      <td>53.84</td>\n",
       "      <td>NaN</td>\n",
       "      <td>NaN</td>\n",
       "      <td>NaN</td>\n",
       "      <td>NaN</td>\n",
       "    </tr>\n",
       "    <tr>\n",
       "      <th>124203</th>\n",
       "      <td>124204</td>\n",
       "      <td>일반음식점</td>\n",
       "      <td>07_24_04_P</td>\n",
       "      <td>3080000</td>\n",
       "      <td>3080000-101-2021-00015</td>\n",
       "      <td>20210122</td>\n",
       "      <td>NaN</td>\n",
       "      <td>1</td>\n",
       "      <td>영업/정상</td>\n",
       "      <td>1</td>\n",
       "      <td>...</td>\n",
       "      <td>NaN</td>\n",
       "      <td>NaN</td>\n",
       "      <td>NaN</td>\n",
       "      <td>NaN</td>\n",
       "      <td>N</td>\n",
       "      <td>40.00</td>\n",
       "      <td>NaN</td>\n",
       "      <td>NaN</td>\n",
       "      <td>NaN</td>\n",
       "      <td>NaN</td>\n",
       "    </tr>\n",
       "  </tbody>\n",
       "</table>\n",
       "<p>5 rows × 48 columns</p>\n",
       "</div>"
      ],
      "text/plain": [
       "            번호 개방서비스명    개방서비스아이디  개방자치단체코드                    관리번호     인허가일자  \\\n",
       "124130  124131  일반음식점  07_24_04_P   3120000  3120000-101-2021-00031  20210122   \n",
       "124151  124152  일반음식점  07_24_04_P   3160000  3160000-101-2020-00384  20201208   \n",
       "124171  124172  일반음식점  07_24_04_P   3200000  3200000-101-2020-00626  20201209   \n",
       "124193  124194  일반음식점  07_24_04_P   3060000  3060000-101-2021-00028  20210203   \n",
       "124203  124204  일반음식점  07_24_04_P   3080000  3080000-101-2021-00015  20210122   \n",
       "\n",
       "        인허가취소일자  영업상태구분코드  영업상태명  상세영업상태코드  ... 공장생산직종업원수  건물소유구분명  보증액  월세액  \\\n",
       "124130      NaN         1  영업/정상         1  ...       NaN      NaN  NaN  NaN   \n",
       "124151      NaN         1  영업/정상         1  ...       NaN      NaN  NaN  NaN   \n",
       "124171      NaN         1  영업/정상         1  ...       NaN      NaN  NaN  NaN   \n",
       "124193      NaN         1  영업/정상         1  ...       NaN      NaN  NaN  NaN   \n",
       "124203      NaN         1  영업/정상         1  ...       NaN      NaN  NaN  NaN   \n",
       "\n",
       "        다중이용업소여부  시설총규모 전통업소지정번호  전통업소주된음식 홈페이지 Unnamed: 47  \n",
       "124130         N  49.34      NaN       NaN  NaN         NaN  \n",
       "124151         N  33.00      NaN       NaN  NaN         NaN  \n",
       "124171         N  62.80      NaN       NaN  NaN         NaN  \n",
       "124193         N  53.84      NaN       NaN  NaN         NaN  \n",
       "124203         N  40.00      NaN       NaN  NaN         NaN  \n",
       "\n",
       "[5 rows x 48 columns]"
      ]
     },
     "execution_count": 12,
     "metadata": {},
     "output_type": "execute_result"
    }
   ],
   "source": [
    "data_final = data[(data.영업상태명=='영업/정상') & (data.위생업태명.isin(['통닭(치킨)', '호프/통닭']))]\n",
    "data_final.head()\n",
    "data_final.tail()"
   ]
  },
  {
   "cell_type": "code",
   "execution_count": 13,
   "id": "faeae138",
   "metadata": {},
   "outputs": [
    {
     "name": "stdout",
     "output_type": "stream",
     "text": [
      "<class 'pandas.core.frame.DataFrame'>\n",
      "Index: 13110 entries, 30 to 124203\n",
      "Data columns (total 48 columns):\n",
      " #   Column       Non-Null Count  Dtype  \n",
      "---  ------       --------------  -----  \n",
      " 0   번호           13110 non-null  int64  \n",
      " 1   개방서비스명       13110 non-null  object \n",
      " 2   개방서비스아이디     13110 non-null  object \n",
      " 3   개방자치단체코드     13110 non-null  int64  \n",
      " 4   관리번호         13110 non-null  object \n",
      " 5   인허가일자        13110 non-null  int64  \n",
      " 6   인허가취소일자      0 non-null      float64\n",
      " 7   영업상태구분코드     13110 non-null  int64  \n",
      " 8   영업상태명        13110 non-null  object \n",
      " 9   상세영업상태코드     13110 non-null  int64  \n",
      " 10  상세영업상태명      13110 non-null  object \n",
      " 11  폐업일자         0 non-null      float64\n",
      " 12  휴업시작일자       0 non-null      float64\n",
      " 13  휴업종료일자       0 non-null      float64\n",
      " 14  재개업일자        0 non-null      float64\n",
      " 15  소재지전화        6536 non-null   object \n",
      " 16  소재지면적        12677 non-null  object \n",
      " 17  소재지우편번호      13103 non-null  float64\n",
      " 18  소재지전체주소      13103 non-null  object \n",
      " 19  도로명전체주소      12970 non-null  object \n",
      " 20  도로명우편번호      12884 non-null  float64\n",
      " 21  사업장명         13110 non-null  object \n",
      " 22  최종수정시점       13110 non-null  object \n",
      " 23  데이터갱신구분      13110 non-null  object \n",
      " 24  데이터갱신일자      13110 non-null  object \n",
      " 25  업태구분명        13110 non-null  object \n",
      " 26  좌표정보(x)      13020 non-null  float64\n",
      " 27  좌표정보(y)      13020 non-null  object \n",
      " 28  위생업태명        13110 non-null  object \n",
      " 29  남성종사자수       5733 non-null   float64\n",
      " 30  여성종사자수       5750 non-null   float64\n",
      " 31  영업장주변구분명     3363 non-null   object \n",
      " 32  등급구분명        3005 non-null   object \n",
      " 33  급수시설구분명      6287 non-null   object \n",
      " 34  총종업원수        1773 non-null   float64\n",
      " 35  본사종업원수       1777 non-null   float64\n",
      " 36  공장사무직종업원수    1777 non-null   float64\n",
      " 37  공장판매직종업원수    1777 non-null   float64\n",
      " 38  공장생산직종업원수    1777 non-null   float64\n",
      " 39  건물소유구분명      1 non-null      object \n",
      " 40  보증액          1777 non-null   float64\n",
      " 41  월세액          1777 non-null   object \n",
      " 42  다중이용업소여부     13110 non-null  object \n",
      " 43  시설총규모        13110 non-null  float64\n",
      " 44  전통업소지정번호     6 non-null      object \n",
      " 45  전통업소주된음식     2 non-null      object \n",
      " 46  홈페이지         0 non-null      float64\n",
      " 47  Unnamed: 47  0 non-null      float64\n",
      "dtypes: float64(19), int64(5), object(24)\n",
      "memory usage: 4.9+ MB\n"
     ]
    }
   ],
   "source": [
    "data_final.info()  # 서울시 전체 자치구에서 현재 영업중인 치킨집 수는 13,110개"
   ]
  },
  {
   "cell_type": "code",
   "execution_count": 14,
   "id": "23fae839",
   "metadata": {},
   "outputs": [
    {
     "data": {
      "text/plain": [
       "{'영업/정상'}"
      ]
     },
     "execution_count": 14,
     "metadata": {},
     "output_type": "execute_result"
    }
   ],
   "source": [
    "# indexing 조건의 유효성 검사 - 필요한 조건만 추출된 결과 확인\n",
    "set(data_final.위생업태명)\n",
    "set(data_final.영업상태명)"
   ]
  },
  {
   "cell_type": "markdown",
   "id": "c8581fd8",
   "metadata": {},
   "source": [
    "- data_final df는 현재 영업 중인 서울시 전체 자치구의 치킨집 정보"
   ]
  },
  {
   "cell_type": "code",
   "execution_count": 15,
   "id": "c6dd2431",
   "metadata": {},
   "outputs": [
    {
     "data": {
      "text/html": [
       "<div>\n",
       "<style scoped>\n",
       "    .dataframe tbody tr th:only-of-type {\n",
       "        vertical-align: middle;\n",
       "    }\n",
       "\n",
       "    .dataframe tbody tr th {\n",
       "        vertical-align: top;\n",
       "    }\n",
       "\n",
       "    .dataframe thead th {\n",
       "        text-align: right;\n",
       "    }\n",
       "</style>\n",
       "<table border=\"1\" class=\"dataframe\">\n",
       "  <thead>\n",
       "    <tr style=\"text-align: right;\">\n",
       "      <th></th>\n",
       "      <th>소재지전체주소</th>\n",
       "      <th>위생업태명</th>\n",
       "    </tr>\n",
       "  </thead>\n",
       "  <tbody>\n",
       "    <tr>\n",
       "      <th>30</th>\n",
       "      <td>서울특별시 은평구 갈현동 400-9번지 (지하1층)</td>\n",
       "      <td>호프/통닭</td>\n",
       "    </tr>\n",
       "    <tr>\n",
       "      <th>43</th>\n",
       "      <td>서울특별시 영등포구 양평동3가 101번지 현대아파트 상가내 1층 102호</td>\n",
       "      <td>호프/통닭</td>\n",
       "    </tr>\n",
       "    <tr>\n",
       "      <th>44</th>\n",
       "      <td>서울특별시 중구 필동2가 32-24번지 1층</td>\n",
       "      <td>호프/통닭</td>\n",
       "    </tr>\n",
       "    <tr>\n",
       "      <th>66</th>\n",
       "      <td>서울특별시 종로구 당주동 128-17번지 (지상1층)</td>\n",
       "      <td>호프/통닭</td>\n",
       "    </tr>\n",
       "    <tr>\n",
       "      <th>67</th>\n",
       "      <td>서울특별시 서초구 우면동 59번지 105호</td>\n",
       "      <td>호프/통닭</td>\n",
       "    </tr>\n",
       "  </tbody>\n",
       "</table>\n",
       "</div>"
      ],
      "text/plain": [
       "                                     소재지전체주소  위생업태명\n",
       "30              서울특별시 은평구 갈현동 400-9번지 (지하1층)  호프/통닭\n",
       "43  서울특별시 영등포구 양평동3가 101번지 현대아파트 상가내 1층 102호  호프/통닭\n",
       "44                  서울특별시 중구 필동2가 32-24번지 1층  호프/통닭\n",
       "66             서울특별시 종로구 당주동 128-17번지 (지상1층)  호프/통닭\n",
       "67                   서울특별시 서초구 우면동 59번지 105호  호프/통닭"
      ]
     },
     "execution_count": 15,
     "metadata": {},
     "output_type": "execute_result"
    }
   ],
   "source": [
    "# 서대문구 데이터만 필요 : 서대문구 각 동에 위치한 치킨집의 개수\n",
    "# 소재지 전체 주소, 위생업태명\n",
    "data_final = data_final[['소재지전체주소', '위생업태명']]\n",
    "data_final.head()  # 현재 영업 중인 치킨집의 주소, 업태명"
   ]
  },
  {
   "cell_type": "code",
   "execution_count": 16,
   "id": "0919716f",
   "metadata": {},
   "outputs": [
    {
     "data": {
      "text/html": [
       "<div>\n",
       "<style scoped>\n",
       "    .dataframe tbody tr th:only-of-type {\n",
       "        vertical-align: middle;\n",
       "    }\n",
       "\n",
       "    .dataframe tbody tr th {\n",
       "        vertical-align: top;\n",
       "    }\n",
       "\n",
       "    .dataframe thead th {\n",
       "        text-align: right;\n",
       "    }\n",
       "</style>\n",
       "<table border=\"1\" class=\"dataframe\">\n",
       "  <thead>\n",
       "    <tr style=\"text-align: right;\">\n",
       "      <th></th>\n",
       "      <th>소재지전체주소</th>\n",
       "      <th>위생업태명</th>\n",
       "    </tr>\n",
       "  </thead>\n",
       "  <tbody>\n",
       "    <tr>\n",
       "      <th>178</th>\n",
       "      <td>서울특별시 서대문구 창천동 33-25번지</td>\n",
       "      <td>통닭(치킨)</td>\n",
       "    </tr>\n",
       "    <tr>\n",
       "      <th>698</th>\n",
       "      <td>서울특별시 서대문구 홍제동 459 현대종합상가</td>\n",
       "      <td>호프/통닭</td>\n",
       "    </tr>\n",
       "    <tr>\n",
       "      <th>724</th>\n",
       "      <td>서울특별시 서대문구 남가좌동 347-20번지</td>\n",
       "      <td>호프/통닭</td>\n",
       "    </tr>\n",
       "    <tr>\n",
       "      <th>1200</th>\n",
       "      <td>서울특별시 서대문구 연희동 131-1번지 사러가쇼핑</td>\n",
       "      <td>호프/통닭</td>\n",
       "    </tr>\n",
       "    <tr>\n",
       "      <th>1405</th>\n",
       "      <td>서울특별시 서대문구 창천동 52-14</td>\n",
       "      <td>호프/통닭</td>\n",
       "    </tr>\n",
       "  </tbody>\n",
       "</table>\n",
       "</div>"
      ],
      "text/plain": [
       "                           소재지전체주소   위생업태명\n",
       "178         서울특별시 서대문구 창천동 33-25번지  통닭(치킨)\n",
       "698      서울특별시 서대문구 홍제동 459 현대종합상가   호프/통닭\n",
       "724       서울특별시 서대문구 남가좌동 347-20번지   호프/통닭\n",
       "1200  서울특별시 서대문구 연희동 131-1번지 사러가쇼핑   호프/통닭\n",
       "1405          서울특별시 서대문구 창천동 52-14   호프/통닭"
      ]
     },
     "execution_count": 16,
     "metadata": {},
     "output_type": "execute_result"
    }
   ],
   "source": [
    "# 주소컬럼을 이용해 서대문구 data만 추출\n",
    "# 주소에 서대문구가 포함된 행만 추출\n",
    "res = data_final.소재지전체주소.str.contains('서대문구', na=False)\n",
    "data_seo = data_final[res]\n",
    "data_seo.head()"
   ]
  },
  {
   "cell_type": "markdown",
   "id": "1dafa70f",
   "metadata": {},
   "source": [
    "- data_seo df는 서대문구 치킨집 data"
   ]
  },
  {
   "cell_type": "markdown",
   "id": "19985f08",
   "metadata": {},
   "source": [
    "### 서대문구 각 동의 치킨집 수 연산\n",
    "- 동 정보는 주소에 위치 (주소는 정형화 되어 있음)\n",
    "    - ex. 서울특별시 서대문구 연희동 131-1번지 사러가쇼핑\n",
    "        - 앞 5글자 : 광역시도\n",
    "        - 공백\n",
    "        - 4글자 : 자치구\n",
    "        - 공백\n",
    "        - 11글자 skip하면 동 정보가 나옴\n",
    "        - 동 데이터로 5글자 추출 후 불필요한 문자 제거 후 사용 (문자열 전처리)\n",
    "        - 주소 문자열의 11번 인덱스부터 16 인덱스 위치까지 추출\n",
    "- 문자열 함수 slice(start=시작인덱스, stop=끝인덱스+1)  "
   ]
  },
  {
   "cell_type": "code",
   "execution_count": 17,
   "id": "a39da539",
   "metadata": {},
   "outputs": [
    {
     "data": {
      "text/plain": [
       "178       창천동 33\n",
       "698       홍제동 45\n",
       "724       남가좌동 3\n",
       "1200      연희동 13\n",
       "1405      창천동 52\n",
       "           ...  \n",
       "122500    남가좌동 3\n",
       "123490    홍제동 30\n",
       "123548    홍제동 96\n",
       "123724    북아현동 1\n",
       "124130    남가좌동 3\n",
       "Name: 소재지전체주소, Length: 400, dtype: object"
      ]
     },
     "execution_count": 17,
     "metadata": {},
     "output_type": "execute_result"
    }
   ],
   "source": [
    "addr = data_seo.소재지전체주소.str.slice(start=11, stop=17)\n",
    "addr"
   ]
  },
  {
   "cell_type": "markdown",
   "id": "d9e2bbf3",
   "metadata": {},
   "source": [
    "- addr : 서대문구 치킨집의 동 정보\n",
    "    - 동명 이외에 더 많은 문자가 들어와 있으므로 전처리\n",
    "    - xxx동 xxx번지 형태이므로 동 이름과 번지의 숫자 일부분이 추출된다.\n",
    "    - 숫자 제거, 공백제거"
   ]
  },
  {
   "cell_type": "code",
   "execution_count": 18,
   "id": "2e4a661b",
   "metadata": {},
   "outputs": [
    {
     "data": {
      "text/plain": [
       "'창천동'"
      ]
     },
     "execution_count": 18,
     "metadata": {},
     "output_type": "execute_result"
    }
   ],
   "source": [
    "# 숫자 제거 : 정규식 활용\n",
    "# 정규식 : 일련의 정해진 연산기호를 이용해서 문자열 안에서 필요한 문자만 추출하는 연산\n",
    "# 정규식 사용 용도 : 형식문자 검증 시 (이메일, url 주소, 주민등록번호)\n",
    "\n",
    "import re  # 정규식 패키지\n",
    "\n",
    "# re.sub(정규식, 대체문자, 원문자) : replace와 같은 역할\n",
    "# 원문자에서 정규식이 의미하는 문자를 찾아서 대체문자로 변환\n",
    "# 한 개의 원소의 대해서만 작업\n",
    "# [0-9]+ 0-9 사이의 숫자가 1번 이상 반복되는 패턴\n",
    "re.sub(r'[0-9]+', '', '창천동 35').replace(' ', '')"
   ]
  },
  {
   "cell_type": "code",
   "execution_count": 19,
   "id": "b83db6a0",
   "metadata": {},
   "outputs": [],
   "source": [
    "# addr data의 숫자, 공백 제거\n",
    "i = 0\n",
    "addr_final = pd.Series()  # 빈 시리즈 생성\n",
    "\n",
    "for string in addr:\n",
    "    newstring = re.sub(r'[0-9]+', '', string.replace(' ', ''))\n",
    "    addr_final[i] = newstring\n",
    "    i += 1"
   ]
  },
  {
   "cell_type": "code",
   "execution_count": 20,
   "id": "40314ef8",
   "metadata": {},
   "outputs": [
    {
     "data": {
      "text/plain": [
       "0       창천동\n",
       "1       홍제동\n",
       "2      남가좌동\n",
       "3       연희동\n",
       "4       창천동\n",
       "       ... \n",
       "395    남가좌동\n",
       "396     홍제동\n",
       "397     홍제동\n",
       "398    북아현동\n",
       "399    남가좌동\n",
       "Length: 400, dtype: object"
      ]
     },
     "execution_count": 20,
     "metadata": {},
     "output_type": "execute_result"
    }
   ],
   "source": [
    "# 숫자와 공백이 제거된 동 data\n",
    "addr_final  # 서대문구의 치킨집 주소 중 동명만 추출"
   ]
  },
  {
   "cell_type": "code",
   "execution_count": 21,
   "id": "0db452df",
   "metadata": {},
   "outputs": [
    {
     "data": {
      "text/plain": [
       "창천동     87\n",
       "홍제동     48\n",
       "북가좌동    48\n",
       "남가좌동    47\n",
       "연희동     40\n",
       "홍은동     34\n",
       "충정로가    21\n",
       "북아현동    20\n",
       "대현동     15\n",
       "냉천동     10\n",
       "홍은동-     9\n",
       "미근동      6\n",
       "창천동-     4\n",
       "옥천동      2\n",
       "영천동      2\n",
       "천연동      2\n",
       "옥천동번     1\n",
       "대신동      1\n",
       "합동       1\n",
       "합동-      1\n",
       "연희동-     1\n",
       "Name: count, dtype: int64"
      ]
     },
     "execution_count": 21,
     "metadata": {},
     "output_type": "execute_result"
    }
   ],
   "source": [
    "# 각 동의 치킨집 개수\n",
    "addr_final_v = addr_final.value_counts()\n",
    "addr_final_v"
   ]
  },
  {
   "cell_type": "code",
   "execution_count": 22,
   "id": "75b17b57",
   "metadata": {},
   "outputs": [
    {
     "data": {
      "text/plain": [
       "0       창천동\n",
       "1       홍제동\n",
       "2      남가좌동\n",
       "3       연희동\n",
       "4       창천동\n",
       "       ... \n",
       "395    남가좌동\n",
       "396     홍제동\n",
       "397     홍제동\n",
       "398    북아현동\n",
       "399    남가좌동\n",
       "Length: 400, dtype: object"
      ]
     },
     "execution_count": 22,
     "metadata": {},
     "output_type": "execute_result"
    }
   ],
   "source": [
    "addr_final = addr_final.str.replace('-', '').str.replace('옥천동번', '옥천동')\n",
    "addr_final"
   ]
  },
  {
   "cell_type": "code",
   "execution_count": 23,
   "id": "e6ab4b51",
   "metadata": {},
   "outputs": [
    {
     "data": {
      "text/plain": [
       "창천동     91\n",
       "홍제동     48\n",
       "북가좌동    48\n",
       "남가좌동    47\n",
       "홍은동     43\n",
       "연희동     41\n",
       "충정로가    21\n",
       "북아현동    20\n",
       "대현동     15\n",
       "냉천동     10\n",
       "미근동      6\n",
       "옥천동      3\n",
       "영천동      2\n",
       "합동       2\n",
       "천연동      2\n",
       "대신동      1\n",
       "Name: count, dtype: int64"
      ]
     },
     "execution_count": 23,
     "metadata": {},
     "output_type": "execute_result"
    }
   ],
   "source": [
    "# 전처리가 종료된 최종 data 이용해서 동별로 개수 세기\n",
    "ck_cnt = addr_final.value_counts()\n",
    "\n",
    "# 서울시 서대문구의 각 동별 치킨집 수(치킨집 분포)\n",
    "ck_cnt"
   ]
  },
  {
   "cell_type": "markdown",
   "id": "88acdb67",
   "metadata": {},
   "source": [
    "### tree map 그래프를 활용한 시각화\n",
    "- heatmap과 비슷, heatmap이 data의 크기를 색상으로 규정하는데 반해\n",
    "    - treemap은 사각형의 내부 조각의 크기를 이용해 data의 크기 표현\n",
    "    - heatmap : 동일한 크기의 조각을 색상으로 분류\n",
    "    - treemap : 서로 다른 크기의 조각으로 data 표현\n",
    "    - python treemap : squarify (install해서 사용)"
   ]
  },
  {
   "cell_type": "code",
   "execution_count": 24,
   "id": "137bbefd",
   "metadata": {},
   "outputs": [
    {
     "name": "stdout",
     "output_type": "stream",
     "text": [
      "Requirement already satisfied: pip in c:\\users\\사용자\\appdata\\local\\programs\\python\\python310\\lib\\site-packages (23.2.1)\n",
      "Requirement already satisfied: squarify in c:\\users\\사용자\\appdata\\local\\programs\\python\\python310\\lib\\site-packages (0.4.3)\n"
     ]
    }
   ],
   "source": [
    "!python.exe -m pip install --upgrade pip\n",
    "!pip install squarify"
   ]
  },
  {
   "cell_type": "markdown",
   "id": "f47b210b",
   "metadata": {},
   "source": [
    "### pip 사용시 주의사항\n",
    "- pip로 설치되지 않는 패키지는 wheel 파일을 다운 받아서 설치해야 함\n",
    "- 권한 문제로 설치가 안되는 경우 : pip install --user 패키지명\n",
    "- 설치되어 있는 패키지의 업그레이드 : pip install --user --upgrade 패키지명==버전\n",
    "- 패키지 삭제 : pip uninstall --user 패키지명"
   ]
  },
  {
   "cell_type": "code",
   "execution_count": 25,
   "id": "11871998",
   "metadata": {},
   "outputs": [],
   "source": [
    "import squarify  # 트리맵 작도 패키지"
   ]
  },
  {
   "cell_type": "markdown",
   "id": "f0b49c2e",
   "metadata": {},
   "source": [
    "- squarify.plot(데이터, label=표시할 라벨 data)"
   ]
  },
  {
   "cell_type": "code",
   "execution_count": 26,
   "id": "1a1d7bb8",
   "metadata": {},
   "outputs": [
    {
     "data": {
      "text/plain": [
       "<Axes: >"
      ]
     },
     "execution_count": 26,
     "metadata": {},
     "output_type": "execute_result"
    },
    {
     "data": {
      "image/png": "[encoded data removed]",
      "text/plain": [
       "<Figure size 640x480 with 1 Axes>"
      ]
     },
     "metadata": {},
     "output_type": "display_data"
    }
   ],
   "source": [
    "ck_cnt.index\n",
    "ck_cnt.values\n",
    "\n",
    "squarify.plot(ck_cnt, label=ck_cnt.index)"
   ]
  },
  {
   "cell_type": "markdown",
   "id": "011e2a46",
   "metadata": {},
   "source": [
    "### 연습\n",
    "- 정상영업/폐업 상관없이 현 시점(파일 기준) 치킨집의 인허가 분포도 (25개 자치구별)\n",
    "- 영업상태가 폐업인 업장의 자치구별 분포도 (업종 일반음식점인 업장)\n",
    "- 강남구의 읍면동별 중국집 분포도 (전체 인허가/정상영업/폐업 각각에 대해 시각화)"
   ]
  },
  {
   "cell_type": "code",
   "execution_count": 27,
   "id": "99e63dbf",
   "metadata": {},
   "outputs": [],
   "source": [
    "# 치킨집"
   ]
  },
  {
   "cell_type": "code",
   "execution_count": 28,
   "id": "a9d1ff21",
   "metadata": {},
   "outputs": [],
   "source": [
    "# 업종 일반 음식점"
   ]
  },
  {
   "cell_type": "code",
   "execution_count": 29,
   "id": "ada20635",
   "metadata": {},
   "outputs": [],
   "source": [
    "# 업태 중국집"
   ]
  }
 ],
 "metadata": {
  "kernelspec": {
   "display_name": "Python 3 (ipykernel)",
   "language": "python",
   "name": "python3"
  },
  "language_info": {
   "codemirror_mode": {
    "name": "ipython",
    "version": 3
   },
   "file_extension": ".py",
   "mimetype": "text/x-python",
   "name": "python",
   "nbconvert_exporter": "python",
   "pygments_lexer": "ipython3",
   "version": "3.10.10"
  }
 },
 "nbformat": 4,
 "nbformat_minor": 5
}
