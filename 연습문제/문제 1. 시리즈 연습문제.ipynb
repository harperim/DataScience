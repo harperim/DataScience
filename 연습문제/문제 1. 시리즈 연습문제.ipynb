{
 "cells": [
  {
   "cell_type": "code",
   "execution_count": 1,
   "metadata": {},
   "outputs": [],
   "source": [
    "#필요한 패키지(판다스, 넘파이를 import 하고 pd,np로 별명을 만드시오)\n",
    "import pandas as pd\n",
    "import numpy as np"
   ]
  },
  {
   "cell_type": "markdown",
   "metadata": {},
   "source": [
    "#### 시리즈  문제 "
   ]
  },
  {
   "cell_type": "code",
   "execution_count": 2,
   "metadata": {},
   "outputs": [
    {
     "data": {
      "text/plain": [
       "8"
      ]
     },
     "execution_count": 2,
     "metadata": {},
     "output_type": "execute_result"
    }
   ],
   "source": [
    "# 연습문제 1\n",
    "# 임의로 두개의 시리즈 객체를 만든다.\n",
    "# 모두 문자열 인덱스를 가져야 하며 두 시리즈에 공통적으로 포함되지 않는 인덱스(라벨)가 있어야 한다.\n",
    "# 값과 시리즈 원소 개수도 임의 설정할 것\n",
    "\n",
    "pd.Series([1, 2, 3], index = ['a', 'b', 'c'])  # 인덱스\n",
    "s = pd.Series({'b': 5, 'c': 7, 'd': 8}, index=['d', 'c', 'b'])  # 딕셔너리 (인덱스 따로 생성하지 않아도 됨)\n",
    "s[0]"
   ]
  },
  {
   "cell_type": "code",
   "execution_count": 3,
   "metadata": {},
   "outputs": [],
   "source": [
    "# 연습문제 2 : 아래 시리즈 객체를 이용하여 사칙연산을 수행하고 결과를 출력하시오.\n",
    "ex_s1 = pd.Series({'국어':95,'영어':80,'수학':75})\n",
    "ex_s2 = pd.Series({'국어':95,'영어':80,'수학':75})"
   ]
  },
  {
   "cell_type": "code",
   "execution_count": 4,
   "metadata": {},
   "outputs": [
    {
     "data": {
      "text/plain": [
       "국어    190\n",
       "영어    160\n",
       "수학    150\n",
       "dtype: int64"
      ]
     },
     "execution_count": 4,
     "metadata": {},
     "output_type": "execute_result"
    }
   ],
   "source": [
    "ex_s1 + ex_s2"
   ]
  },
  {
   "cell_type": "code",
   "execution_count": 5,
   "metadata": {},
   "outputs": [
    {
     "data": {
      "text/plain": [
       "국어    0\n",
       "영어    0\n",
       "수학    0\n",
       "dtype: int64"
      ]
     },
     "execution_count": 5,
     "metadata": {},
     "output_type": "execute_result"
    }
   ],
   "source": [
    "ex_s1 - ex_s2"
   ]
  },
  {
   "cell_type": "code",
   "execution_count": 6,
   "metadata": {},
   "outputs": [
    {
     "data": {
      "text/plain": [
       "국어    9025\n",
       "영어    6400\n",
       "수학    5625\n",
       "dtype: int64"
      ]
     },
     "execution_count": 6,
     "metadata": {},
     "output_type": "execute_result"
    }
   ],
   "source": [
    "ex_s1 * ex_s2"
   ]
  },
  {
   "cell_type": "code",
   "execution_count": 7,
   "metadata": {},
   "outputs": [
    {
     "data": {
      "text/plain": [
       "국어    1.0\n",
       "영어    1.0\n",
       "수학    1.0\n",
       "dtype: float64"
      ]
     },
     "execution_count": 7,
     "metadata": {},
     "output_type": "execute_result"
    }
   ],
   "source": [
    "ex_s1 / ex_s2"
   ]
  },
  {
   "cell_type": "code",
   "execution_count": 8,
   "metadata": {},
   "outputs": [],
   "source": [
    "#연습문제 3 : 아래 두 객체에 대하여 아래 제시된 연산을 수행하시오.\n",
    "ex_s1 = pd.Series({'국어':95,'영어':80,'수학':75})\n",
    "ex_s2 = pd.Series({'국어':95,'과학':80,'논술':75})"
   ]
  },
  {
   "cell_type": "code",
   "execution_count": 9,
   "metadata": {},
   "outputs": [
    {
     "data": {
      "text/plain": [
       "과학    NaN\n",
       "국어    0.0\n",
       "논술    NaN\n",
       "수학    NaN\n",
       "영어    NaN\n",
       "dtype: float64"
      ]
     },
     "execution_count": 9,
     "metadata": {},
     "output_type": "execute_result"
    }
   ],
   "source": [
    "# - 연산을 수행하고 결과를 설명하시오\n",
    "ex_s1 - ex_s2"
   ]
  },
  {
   "cell_type": "code",
   "execution_count": 10,
   "metadata": {},
   "outputs": [
    {
     "data": {
      "text/plain": [
       "array([0, 0, 0], dtype=int64)"
      ]
     },
     "execution_count": 10,
     "metadata": {},
     "output_type": "execute_result"
    }
   ],
   "source": [
    "# 아래의 연산을 수행했을 때 출력되는 결과를 설명하시오\n",
    "ex_s1.values - ex_s2.values\n",
    "\n",
    "# .values 속성으로 시리즈의 값을 접근하면 반환값이 array이므로 시리즈의 인덱스 특성 사라짐\n",
    "# array의 연산은 위치가 같은 data들끼리의 연산을 진행함"
   ]
  },
  {
   "cell_type": "code",
   "execution_count": 11,
   "metadata": {},
   "outputs": [
    {
     "data": {
      "text/plain": [
       "서울    9904312\n",
       "부산    3448737\n",
       "인천    2890451\n",
       "대구    2466052\n",
       "dtype: int64"
      ]
     },
     "execution_count": 11,
     "metadata": {},
     "output_type": "execute_result"
    }
   ],
   "source": [
    "# 연습문제 4\n",
    "# 아래 데이터를 이용해서 시리즈 s를 생성하시오\n",
    "# 서울 : 9904312, 부산 : 3448737, 인천 : 2890451, 대구 : 2466052    \n",
    "s = pd.Series([9904312, 3448737, 2890451, 2466052],\n",
    "             index = ['서울', '부산', '인천', '대구'])\n",
    "s = pd.Series({'서울': 9904312, '부산': 3448737, '인천': 2890451, '대구': 2466052})\n",
    "s"
   ]
  },
  {
   "cell_type": "code",
   "execution_count": 12,
   "metadata": {},
   "outputs": [
    {
     "name": "stdout",
     "output_type": "stream",
     "text": [
      "Index(['서울', '부산', '인천', '대구'], dtype='object')\n"
     ]
    },
    {
     "data": {
      "text/plain": [
       "2890451"
      ]
     },
     "execution_count": 12,
     "metadata": {},
     "output_type": "execute_result"
    }
   ],
   "source": [
    "# 연습문제 5\n",
    "# 시리즈 s 변수의 인덱스를 출력해서 확인하고, 세번째 인덱스의 값을 라벨 인덱스로 접근 후 출력하시오.\n",
    "print(s.index)\n",
    "s.index[2]\n",
    "s.인천\n",
    "s[s.index[2]]"
   ]
  },
  {
   "cell_type": "code",
   "execution_count": 13,
   "metadata": {},
   "outputs": [
    {
     "data": {
      "text/plain": [
       "부산    3448737\n",
       "인천    2890451\n",
       "대구    2466052\n",
       "dtype: int64"
      ]
     },
     "execution_count": 13,
     "metadata": {},
     "output_type": "execute_result"
    }
   ],
   "source": [
    "# 연습문제 6\n",
    "# 시리즈 s에 대하여 라벨(문자)인덱싱을 이용하고 부산, 인천, 대구의 값을 추출하시오.\n",
    "s[['부산', '인천', '대구']]  # 시리즈 반환\n",
    "s['부산':'대구']"
   ]
  },
  {
   "cell_type": "code",
   "execution_count": 14,
   "metadata": {},
   "outputs": [
    {
     "data": {
      "text/plain": [
       "서울    9631482\n",
       "부산    3393191\n",
       "인천    2632035\n",
       "대전    1490158\n",
       "dtype: int64"
      ]
     },
     "execution_count": 14,
     "metadata": {},
     "output_type": "execute_result"
    }
   ],
   "source": [
    "# 연습문제 7\n",
    "# 아래 데이터를 이용하여 시리즈를 생성하고 데이터 순서를 서울, 부산, 인천, 대전 으로 설정하시오-딕셔너리 활용\n",
    "# 서울 9631482, 부산 3393191, 인천 2632035, 대전 1490158\n",
    "\n",
    "city = {'서울': 9631482, '부산': 3393191, '인천': 2632035, '대전': 1490158}\n",
    "s = pd.Series(city)\n",
    "s"
   ]
  },
  {
   "cell_type": "code",
   "execution_count": 15,
   "metadata": {},
   "outputs": [
    {
     "data": {
      "text/plain": [
       "서울    9631482\n",
       "부산    3393191\n",
       "인천    2632035\n",
       "대전    1490158\n",
       "Name: 인구, dtype: int64"
      ]
     },
     "execution_count": 15,
     "metadata": {},
     "output_type": "execute_result"
    }
   ],
   "source": [
    "# 연습문제 8\n",
    "# 위에서 생성한 시리즈에 인구 라는 이름을 설정하시오\n",
    "s.name = '인구'\n",
    "s"
   ]
  },
  {
   "cell_type": "code",
   "execution_count": 16,
   "metadata": {},
   "outputs": [
    {
     "data": {
      "text/plain": [
       "서울    9631482\n",
       "부산    3393191\n",
       "Name: 인구, dtype: int64"
      ]
     },
     "execution_count": 16,
     "metadata": {},
     "output_type": "execute_result"
    }
   ],
   "source": [
    "# 연습문제 9\n",
    "# 위에서 생성한 시리즈의 인구수가 3000000 이상인 도시를 출력하시오\n",
    "s[s>=3000000]"
   ]
  },
  {
   "cell_type": "code",
   "execution_count": 17,
   "metadata": {},
   "outputs": [
    {
     "data": {
      "text/plain": [
       "서울    11000000\n",
       "부산     3393191\n",
       "인천     2632035\n",
       "대전     1490158\n",
       "Name: 인구, dtype: int64"
      ]
     },
     "execution_count": 17,
     "metadata": {},
     "output_type": "execute_result"
    }
   ],
   "source": [
    "# 연습문제 10\n",
    "# 위에서 생성한 시리즈의 서울 데이터를 11000000 으로 변경하세요\n",
    "s['서울'] = 11000000\n",
    "s"
   ]
  },
  {
   "cell_type": "code",
   "execution_count": 18,
   "metadata": {},
   "outputs": [
    {
     "data": {
      "text/plain": [
       "서울    11000000\n",
       "부산     3393191\n",
       "인천     2632035\n",
       "Name: 인구, dtype: int64"
      ]
     },
     "execution_count": 18,
     "metadata": {},
     "output_type": "execute_result"
    }
   ],
   "source": [
    "# 연습문제 11\n",
    "# 대전 데이터를 삭제하세요\n",
    "\n",
    "# 두 번 실행하면 에러 발생 - 원본에 반영 O\n",
    "del s['대전']\n",
    "s"
   ]
  },
  {
   "cell_type": "code",
   "execution_count": 19,
   "metadata": {},
   "outputs": [
    {
     "data": {
      "text/plain": [
       "True"
      ]
     },
     "execution_count": 19,
     "metadata": {},
     "output_type": "execute_result"
    }
   ],
   "source": [
    "# 연습문제 12 \n",
    "# 대구 데이터가 있는지 확인 하세요\n",
    "'대구' in s\n",
    "'대구' not in s"
   ]
  }
 ],
 "metadata": {
  "kernelspec": {
   "display_name": "Python 3 (ipykernel)",
   "language": "python",
   "name": "python3"
  },
  "language_info": {
   "codemirror_mode": {
    "name": "ipython",
    "version": 3
   },
   "file_extension": ".py",
   "mimetype": "text/x-python",
   "name": "python",
   "nbconvert_exporter": "python",
   "pygments_lexer": "ipython3",
   "version": "3.10.10"
  }
 },
 "nbformat": 4,
 "nbformat_minor": 4
}
