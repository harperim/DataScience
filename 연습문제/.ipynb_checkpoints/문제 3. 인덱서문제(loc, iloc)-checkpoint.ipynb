{
 "cells": [
  {
   "cell_type": "markdown",
   "id": "3f12c96d",
   "metadata": {},
   "source": [
    "### 연습문제\n",
    "1. 모든행과 열에 라벨을 가지는 5*5 이상 크기의 데이터 프레임을 만든다.  \n",
    "    - 최대한 간단한 코드로 작성-np의 난수 발생 함수 이용\n",
    "2. 10가지 이상의 방법으로 특정한 행과 열을 추출해 볼 것\n",
    "    - 2번 작업을 진행하면서 주석으로 추출하는 내용을 정리 할 것"
   ]
  },
  {
   "cell_type": "code",
   "execution_count": 1,
   "id": "5278d253",
   "metadata": {},
   "outputs": [],
   "source": [
    "# 패키지 import\n",
    "import pandas as pd\n",
    "import numpy as np"
   ]
  },
  {
   "cell_type": "code",
   "execution_count": 2,
   "id": "10f2150b",
   "metadata": {},
   "outputs": [
    {
     "data": {
      "text/html": [
       "<div>\n",
       "<style scoped>\n",
       "    .dataframe tbody tr th:only-of-type {\n",
       "        vertical-align: middle;\n",
       "    }\n",
       "\n",
       "    .dataframe tbody tr th {\n",
       "        vertical-align: top;\n",
       "    }\n",
       "\n",
       "    .dataframe thead th {\n",
       "        text-align: right;\n",
       "    }\n",
       "</style>\n",
       "<table border=\"1\" class=\"dataframe\">\n",
       "  <thead>\n",
       "    <tr style=\"text-align: right;\">\n",
       "      <th></th>\n",
       "      <th>A</th>\n",
       "      <th>B</th>\n",
       "      <th>C</th>\n",
       "      <th>D</th>\n",
       "      <th>E</th>\n",
       "    </tr>\n",
       "  </thead>\n",
       "  <tbody>\n",
       "    <tr>\n",
       "      <th>a</th>\n",
       "      <td>25</td>\n",
       "      <td>26</td>\n",
       "      <td>27</td>\n",
       "      <td>28</td>\n",
       "      <td>29</td>\n",
       "    </tr>\n",
       "    <tr>\n",
       "      <th>b</th>\n",
       "      <td>30</td>\n",
       "      <td>31</td>\n",
       "      <td>32</td>\n",
       "      <td>33</td>\n",
       "      <td>34</td>\n",
       "    </tr>\n",
       "    <tr>\n",
       "      <th>c</th>\n",
       "      <td>35</td>\n",
       "      <td>36</td>\n",
       "      <td>37</td>\n",
       "      <td>38</td>\n",
       "      <td>39</td>\n",
       "    </tr>\n",
       "    <tr>\n",
       "      <th>d</th>\n",
       "      <td>40</td>\n",
       "      <td>41</td>\n",
       "      <td>42</td>\n",
       "      <td>43</td>\n",
       "      <td>44</td>\n",
       "    </tr>\n",
       "    <tr>\n",
       "      <th>e</th>\n",
       "      <td>45</td>\n",
       "      <td>46</td>\n",
       "      <td>47</td>\n",
       "      <td>48</td>\n",
       "      <td>49</td>\n",
       "    </tr>\n",
       "  </tbody>\n",
       "</table>\n",
       "</div>"
      ],
      "text/plain": [
       "    A   B   C   D   E\n",
       "a  25  26  27  28  29\n",
       "b  30  31  32  33  34\n",
       "c  35  36  37  38  39\n",
       "d  40  41  42  43  44\n",
       "e  45  46  47  48  49"
      ]
     },
     "execution_count": 2,
     "metadata": {},
     "output_type": "execute_result"
    }
   ],
   "source": [
    "# 25,50 범위의 숫자를 생성 후 5행 5열로 배치\n",
    "df=pd.DataFrame(np.arange(25,50).reshape(5,5),\n",
    "               index = ['a','b','c','d','e'],\n",
    "               columns = [\"A\",\"B\",\"C\",\"D\",\"E\"])\n",
    "df"
   ]
  },
  {
   "cell_type": "code",
   "execution_count": 3,
   "id": "50a41e55",
   "metadata": {},
   "outputs": [],
   "source": [
    "# 위 df에 대하여 아래 내용을 인덱싱 하세요\n",
    "# (인덱싱 우선 사용)\n",
    "\n",
    "# 열 라벨 인덱싱, A열을 추출 - 시리즈\n",
    "\n",
    "# 0행부터 2행까지 추출-슬라이싱 사용(행인덱싱)\n",
    "\n",
    "# 열행 인덱싱 - 원소값 a행 A열-열우선인덱싱\n",
    "\n",
    "# 1행의 3,4열(D,E열)\n",
    "\n",
    "# df로 반환(행,열 모두 슬라이싱처리)\n",
    "\n",
    "# 끝에서 두번째 행부터 마지막행까지 - df로 반환\n",
    "\n",
    "# a행의 A부터 B열 - 시리즈로 반환\n",
    "\n",
    "# a행의 A부터 B열 df로 반환\n",
    "\n",
    "# 끝에서 두번째 행부터 마지막 행까지 끝에서 두번째 열부터 마지막 열까지\n",
    "\n",
    "# 위치 인덱스 사용(행,열 슬라이싱 처리) -df로 반환"
   ]
  },
  {
   "cell_type": "code",
   "execution_count": 4,
   "id": "c1f2b3f7",
   "metadata": {},
   "outputs": [
    {
     "data": {
      "text/plain": [
       "a    25\n",
       "b    30\n",
       "c    35\n",
       "d    40\n",
       "e    45\n",
       "Name: A, dtype: int32"
      ]
     },
     "execution_count": 4,
     "metadata": {},
     "output_type": "execute_result"
    }
   ],
   "source": [
    "# 1. 열 라벨 인덱싱, A열을 추출 - 시리즈\n",
    "df['A']"
   ]
  },
  {
   "cell_type": "code",
   "execution_count": 5,
   "id": "0f80830a",
   "metadata": {},
   "outputs": [
    {
     "data": {
      "text/html": [
       "<div>\n",
       "<style scoped>\n",
       "    .dataframe tbody tr th:only-of-type {\n",
       "        vertical-align: middle;\n",
       "    }\n",
       "\n",
       "    .dataframe tbody tr th {\n",
       "        vertical-align: top;\n",
       "    }\n",
       "\n",
       "    .dataframe thead th {\n",
       "        text-align: right;\n",
       "    }\n",
       "</style>\n",
       "<table border=\"1\" class=\"dataframe\">\n",
       "  <thead>\n",
       "    <tr style=\"text-align: right;\">\n",
       "      <th></th>\n",
       "      <th>A</th>\n",
       "      <th>B</th>\n",
       "      <th>C</th>\n",
       "      <th>D</th>\n",
       "      <th>E</th>\n",
       "    </tr>\n",
       "  </thead>\n",
       "  <tbody>\n",
       "    <tr>\n",
       "      <th>a</th>\n",
       "      <td>25</td>\n",
       "      <td>26</td>\n",
       "      <td>27</td>\n",
       "      <td>28</td>\n",
       "      <td>29</td>\n",
       "    </tr>\n",
       "    <tr>\n",
       "      <th>b</th>\n",
       "      <td>30</td>\n",
       "      <td>31</td>\n",
       "      <td>32</td>\n",
       "      <td>33</td>\n",
       "      <td>34</td>\n",
       "    </tr>\n",
       "    <tr>\n",
       "      <th>c</th>\n",
       "      <td>35</td>\n",
       "      <td>36</td>\n",
       "      <td>37</td>\n",
       "      <td>38</td>\n",
       "      <td>39</td>\n",
       "    </tr>\n",
       "  </tbody>\n",
       "</table>\n",
       "</div>"
      ],
      "text/plain": [
       "    A   B   C   D   E\n",
       "a  25  26  27  28  29\n",
       "b  30  31  32  33  34\n",
       "c  35  36  37  38  39"
      ]
     },
     "execution_count": 5,
     "metadata": {},
     "output_type": "execute_result"
    }
   ],
   "source": [
    "# 2. 0행부터 2행까지 추출 - 슬라이싱 사용 (행 인덱싱)\n",
    "\n",
    "# df[0:3]  # 강사님 답안\n",
    "df.iloc[0:3]  # 위치값만을 이용한 인덱서 iloc"
   ]
  },
  {
   "cell_type": "code",
   "execution_count": 6,
   "id": "ced51e43",
   "metadata": {},
   "outputs": [
    {
     "data": {
      "text/plain": [
       "25"
      ]
     },
     "execution_count": 6,
     "metadata": {},
     "output_type": "execute_result"
    }
   ],
   "source": [
    "# 3. 열행 인덱싱 - 원소값 a행 A열-열우선인덱싱\n",
    "df['A']['a']"
   ]
  },
  {
   "cell_type": "code",
   "execution_count": 7,
   "id": "81da0659",
   "metadata": {},
   "outputs": [
    {
     "data": {
      "text/plain": [
       "D    33\n",
       "E    34\n",
       "Name: b, dtype: int32"
      ]
     },
     "execution_count": 7,
     "metadata": {},
     "output_type": "execute_result"
    }
   ],
   "source": [
    "# 4. 1행의 3,4열(D,E열)\n",
    "df.iloc[1, 3:5]  # 5 생략 가능"
   ]
  },
  {
   "cell_type": "code",
   "execution_count": 8,
   "id": "d5f2e13d",
   "metadata": {},
   "outputs": [
    {
     "data": {
      "text/html": [
       "<div>\n",
       "<style scoped>\n",
       "    .dataframe tbody tr th:only-of-type {\n",
       "        vertical-align: middle;\n",
       "    }\n",
       "\n",
       "    .dataframe tbody tr th {\n",
       "        vertical-align: top;\n",
       "    }\n",
       "\n",
       "    .dataframe thead th {\n",
       "        text-align: right;\n",
       "    }\n",
       "</style>\n",
       "<table border=\"1\" class=\"dataframe\">\n",
       "  <thead>\n",
       "    <tr style=\"text-align: right;\">\n",
       "      <th></th>\n",
       "      <th>D</th>\n",
       "      <th>E</th>\n",
       "    </tr>\n",
       "  </thead>\n",
       "  <tbody>\n",
       "    <tr>\n",
       "      <th>b</th>\n",
       "      <td>33</td>\n",
       "      <td>34</td>\n",
       "    </tr>\n",
       "  </tbody>\n",
       "</table>\n",
       "</div>"
      ],
      "text/plain": [
       "    D   E\n",
       "b  33  34"
      ]
     },
     "execution_count": 8,
     "metadata": {},
     "output_type": "execute_result"
    }
   ],
   "source": [
    "# 5. df로 반환(행,열 모두 슬라이싱처리)\n",
    "\n",
    "# df.loc['b':'b', 'D':'E']  # 강사님 답안\n",
    "df.iloc[1:2, 3:5]"
   ]
  },
  {
   "cell_type": "code",
   "execution_count": 9,
   "id": "4261511f",
   "metadata": {},
   "outputs": [
    {
     "name": "stdout",
     "output_type": "stream",
     "text": [
      "    A   B   C   D   E\n",
      "a  25  26  27  28  29\n",
      "b  30  31  32  33  34\n",
      "c  35  36  37  38  39\n",
      "d  40  41  42  43  44\n",
      "e  45  46  47  48  49\n",
      "(5, 5)\n",
      "5\n"
     ]
    },
    {
     "data": {
      "text/html": [
       "<div>\n",
       "<style scoped>\n",
       "    .dataframe tbody tr th:only-of-type {\n",
       "        vertical-align: middle;\n",
       "    }\n",
       "\n",
       "    .dataframe tbody tr th {\n",
       "        vertical-align: top;\n",
       "    }\n",
       "\n",
       "    .dataframe thead th {\n",
       "        text-align: right;\n",
       "    }\n",
       "</style>\n",
       "<table border=\"1\" class=\"dataframe\">\n",
       "  <thead>\n",
       "    <tr style=\"text-align: right;\">\n",
       "      <th></th>\n",
       "      <th>A</th>\n",
       "      <th>B</th>\n",
       "      <th>C</th>\n",
       "      <th>D</th>\n",
       "      <th>E</th>\n",
       "    </tr>\n",
       "  </thead>\n",
       "  <tbody>\n",
       "    <tr>\n",
       "      <th>d</th>\n",
       "      <td>40</td>\n",
       "      <td>41</td>\n",
       "      <td>42</td>\n",
       "      <td>43</td>\n",
       "      <td>44</td>\n",
       "    </tr>\n",
       "    <tr>\n",
       "      <th>e</th>\n",
       "      <td>45</td>\n",
       "      <td>46</td>\n",
       "      <td>47</td>\n",
       "      <td>48</td>\n",
       "      <td>49</td>\n",
       "    </tr>\n",
       "  </tbody>\n",
       "</table>\n",
       "</div>"
      ],
      "text/plain": [
       "    A   B   C   D   E\n",
       "d  40  41  42  43  44\n",
       "e  45  46  47  48  49"
      ]
     },
     "execution_count": 9,
     "metadata": {},
     "output_type": "execute_result"
    }
   ],
   "source": [
    "# 6. 끝에서 두번째 행부터 마지막행까지 - df로 반환\n",
    "\n",
    "# df.iloc[-2:]  # 강사님 답안\n",
    "print(df)\n",
    "print(df.shape)\n",
    "print(df.shape[0])\n",
    "\n",
    "df.iloc[df.shape[0]-2:df.shape[0]+1]"
   ]
  },
  {
   "cell_type": "code",
   "execution_count": 10,
   "id": "8fed710b",
   "metadata": {},
   "outputs": [
    {
     "data": {
      "text/plain": [
       "A    25\n",
       "B    26\n",
       "Name: a, dtype: int32"
      ]
     },
     "execution_count": 10,
     "metadata": {},
     "output_type": "execute_result"
    }
   ],
   "source": [
    "# 7. a행의 A부터 B열 - 시리즈로 반환\n",
    "\n",
    "# df.loc[\"a\", \"A\":\"B\"]  # 강사님 답안\n",
    "df.iloc[0, :2]"
   ]
  },
  {
   "cell_type": "code",
   "execution_count": 11,
   "id": "dd9781a6",
   "metadata": {},
   "outputs": [
    {
     "data": {
      "text/html": [
       "<div>\n",
       "<style scoped>\n",
       "    .dataframe tbody tr th:only-of-type {\n",
       "        vertical-align: middle;\n",
       "    }\n",
       "\n",
       "    .dataframe tbody tr th {\n",
       "        vertical-align: top;\n",
       "    }\n",
       "\n",
       "    .dataframe thead th {\n",
       "        text-align: right;\n",
       "    }\n",
       "</style>\n",
       "<table border=\"1\" class=\"dataframe\">\n",
       "  <thead>\n",
       "    <tr style=\"text-align: right;\">\n",
       "      <th></th>\n",
       "      <th>A</th>\n",
       "      <th>B</th>\n",
       "    </tr>\n",
       "  </thead>\n",
       "  <tbody>\n",
       "    <tr>\n",
       "      <th>a</th>\n",
       "      <td>25</td>\n",
       "      <td>26</td>\n",
       "    </tr>\n",
       "  </tbody>\n",
       "</table>\n",
       "</div>"
      ],
      "text/plain": [
       "    A   B\n",
       "a  25  26"
      ]
     },
     "execution_count": 11,
     "metadata": {},
     "output_type": "execute_result"
    }
   ],
   "source": [
    "# 8. a행의 A부터 B열 df로 반환\n",
    "\n",
    "# df.loc[[\"a\"], \"A\":\"B\"]  # 강사님 답안\n",
    "# df.loc[\"a\":\"a\", \"A\":\"B\"]  # 강사님 답안\n",
    "df.iloc[0:1, 0:2]"
   ]
  },
  {
   "cell_type": "code",
   "execution_count": 12,
   "id": "e89ce653",
   "metadata": {},
   "outputs": [
    {
     "data": {
      "text/html": [
       "<div>\n",
       "<style scoped>\n",
       "    .dataframe tbody tr th:only-of-type {\n",
       "        vertical-align: middle;\n",
       "    }\n",
       "\n",
       "    .dataframe tbody tr th {\n",
       "        vertical-align: top;\n",
       "    }\n",
       "\n",
       "    .dataframe thead th {\n",
       "        text-align: right;\n",
       "    }\n",
       "</style>\n",
       "<table border=\"1\" class=\"dataframe\">\n",
       "  <thead>\n",
       "    <tr style=\"text-align: right;\">\n",
       "      <th></th>\n",
       "      <th>D</th>\n",
       "      <th>E</th>\n",
       "    </tr>\n",
       "  </thead>\n",
       "  <tbody>\n",
       "    <tr>\n",
       "      <th>d</th>\n",
       "      <td>43</td>\n",
       "      <td>44</td>\n",
       "    </tr>\n",
       "    <tr>\n",
       "      <th>e</th>\n",
       "      <td>48</td>\n",
       "      <td>49</td>\n",
       "    </tr>\n",
       "  </tbody>\n",
       "</table>\n",
       "</div>"
      ],
      "text/plain": [
       "    D   E\n",
       "d  43  44\n",
       "e  48  49"
      ]
     },
     "execution_count": 12,
     "metadata": {},
     "output_type": "execute_result"
    }
   ],
   "source": [
    "# 9. 끝에서 두번째 행부터 마지막 행까지 끝에서 두번째 열부터 마지막 열까지\n",
    "df.iloc[-2:, -2:]"
   ]
  },
  {
   "cell_type": "code",
   "execution_count": 13,
   "id": "f17d4984",
   "metadata": {},
   "outputs": [
    {
     "name": "stdout",
     "output_type": "stream",
     "text": [
      "    A   B   C   D   E\n",
      "a  25  26  27  28  29\n",
      "b  30  31  32  33  34\n",
      "c  35  36  37  38  39\n",
      "d  40  41  42  43  44\n",
      "e  45  46  47  48  49\n",
      "(5, 5)\n",
      "5\n",
      "5\n"
     ]
    },
    {
     "data": {
      "text/html": [
       "<div>\n",
       "<style scoped>\n",
       "    .dataframe tbody tr th:only-of-type {\n",
       "        vertical-align: middle;\n",
       "    }\n",
       "\n",
       "    .dataframe tbody tr th {\n",
       "        vertical-align: top;\n",
       "    }\n",
       "\n",
       "    .dataframe thead th {\n",
       "        text-align: right;\n",
       "    }\n",
       "</style>\n",
       "<table border=\"1\" class=\"dataframe\">\n",
       "  <thead>\n",
       "    <tr style=\"text-align: right;\">\n",
       "      <th></th>\n",
       "      <th>D</th>\n",
       "      <th>E</th>\n",
       "    </tr>\n",
       "  </thead>\n",
       "  <tbody>\n",
       "    <tr>\n",
       "      <th>d</th>\n",
       "      <td>43</td>\n",
       "      <td>44</td>\n",
       "    </tr>\n",
       "    <tr>\n",
       "      <th>e</th>\n",
       "      <td>48</td>\n",
       "      <td>49</td>\n",
       "    </tr>\n",
       "  </tbody>\n",
       "</table>\n",
       "</div>"
      ],
      "text/plain": [
       "    D   E\n",
       "d  43  44\n",
       "e  48  49"
      ]
     },
     "execution_count": 13,
     "metadata": {},
     "output_type": "execute_result"
    }
   ],
   "source": [
    "# 10. 위치 인덱스 사용(행,열 슬라이싱 처리) -df로 반환\n",
    "print(df)\n",
    "print(df.shape)\n",
    "print(df.shape[0])  # 행\n",
    "print(df.shape[1])  # 열\n",
    "\n",
    "df.iloc[-2:, -2:]\n",
    "df.iloc[df.shape[0]-2:df.shape[0]+1, df.shape[1]-2:df.shape[1]+1]"
   ]
  }
 ],
 "metadata": {
  "kernelspec": {
   "display_name": "Python 3 (ipykernel)",
   "language": "python",
   "name": "python3"
  },
  "language_info": {
   "codemirror_mode": {
    "name": "ipython",
    "version": 3
   },
   "file_extension": ".py",
   "mimetype": "text/x-python",
   "name": "python",
   "nbconvert_exporter": "python",
   "pygments_lexer": "ipython3",
   "version": "3.10.10"
  }
 },
 "nbformat": 4,
 "nbformat_minor": 5
}
