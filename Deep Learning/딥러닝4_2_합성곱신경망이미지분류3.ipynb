{
 "cells": [
  {
   "cell_type": "markdown",
   "id": "b2ac2a19",
   "metadata": {},
   "source": [
    "## 한국 음식 분류 모델"
   ]
  },
  {
   "cell_type": "markdown",
   "id": "7fc5cbad",
   "metadata": {},
   "source": [
    "### 데이터 준비"
   ]
  },
  {
   "cell_type": "code",
   "execution_count": 1,
   "id": "bba9c17f",
   "metadata": {},
   "outputs": [],
   "source": [
    "from sklearn import model_selection\n",
    "from sklearn.model_selection import train_test_split\n",
    "from PIL import Image  # 이미지 파일을 연결하고 변환가능한 객체 생성해주는 라이브러리\n",
    "import os, glob\n",
    "import numpy as np"
   ]
  },
  {
   "cell_type": "code",
   "execution_count": 2,
   "id": "9f898b10",
   "metadata": {},
   "outputs": [],
   "source": [
    "# 분류데이터 로딩을 위한 카테고리 지정\n",
    "# 데이터 저장 기본 폴더\n",
    "\n",
    "# 치킨 이미지는 ./Kfood/Chicken/*.jpg\n",
    "root_dir = \"./kfood/\"\n",
    "\n",
    "# 카테고리 명령 지정 (1)\n",
    "categories = [\"Chicken\", \"Dolsotbab\", \"Jeyugbokkeum\", \"Kimchi\", \n",
    "                \"Samgyeobsal\", \"SoybeanPasteStew\"]\n",
    "nb_classes = len(categories)"
   ]
  },
  {
   "cell_type": "code",
   "execution_count": 3,
   "id": "6144592f",
   "metadata": {},
   "outputs": [],
   "source": [
    "# 이미지 크기 지정 (2)\n",
    "image_width = 64\n",
    "image_height = 64"
   ]
  },
  {
   "cell_type": "code",
   "execution_count": 4,
   "id": "9261a800",
   "metadata": {},
   "outputs": [
    {
     "name": "stdout",
     "output_type": "stream",
     "text": [
      "./kfood/Chicken/*.jpg\n",
      "./kfood/Dolsotbab/*.jpg\n",
      "./kfood/Jeyugbokkeum/*.jpg\n",
      "./kfood/Kimchi/*.jpg\n",
      "./kfood/Samgyeobsal/*.jpg\n",
      "./kfood/SoybeanPasteStew/*.jpg\n"
     ]
    }
   ],
   "source": [
    "# 데이터 변수\n",
    "X = []  # 이미지 데이터\n",
    "Y = []  # 레이블 데이터\n",
    "\n",
    "for idx, category in enumerate(categories):\n",
    "    image_dir = root_dir + category\n",
    "    files = glob.glob(image_dir + \"/\" + \"*.jpg\")\n",
    "    print(image_dir + \"/\" +\"*.jpg\")\n",
    "\n",
    "    for i, f in enumerate(files):\n",
    "        # 이미지 로딩 (3)\n",
    "        # 이미지 전처리 코드\n",
    "        img = Image.open(f)\n",
    "        img = img.convert('RGB')\n",
    "        img = img.resize((image_width, image_height))  # 64x64\n",
    "        data = np.asarray(img)  # 이미지데이터 array로 변경\n",
    "        X.append(data)\n",
    "        Y.append(idx)"
   ]
  },
  {
   "cell_type": "code",
   "execution_count": 5,
   "id": "af0be4eb",
   "metadata": {},
   "outputs": [],
   "source": [
    "# 이미지 형태 변경 (전체 data array로 변경)\n",
    "X = np.array(X)\n",
    "Y = np.array(Y)"
   ]
  },
  {
   "cell_type": "code",
   "execution_count": 6,
   "id": "a90b36e3",
   "metadata": {},
   "outputs": [
    {
     "name": "stderr",
     "output_type": "stream",
     "text": [
      "/home/ubuntu/anaconda3/envs/tensorflow2_p38/lib/python3.8/site-packages/numpy/core/_asarray.py:171: VisibleDeprecationWarning: Creating an ndarray from ragged nested sequences (which is a list-or-tuple of lists-or-tuples-or ndarrays with different lengths or shapes) is deprecated. If you meant to do this, you must specify 'dtype=object' when creating the ndarray.\n",
      "  return array(a, dtype, copy=False, order=order, subok=True)\n"
     ]
    }
   ],
   "source": [
    "# 학습 데이터와 테스트 데이터 나누기 (4)\n",
    "X_train, X_test, Y_train, Y_test = train_test_split(X, Y)\n",
    "xy = (X_train, X_test, Y_train, Y_test)\n",
    "\n",
    "# 데이터 파일 저장 (5)\n",
    "# 전처리 완료된 data파일 저장 - npy 파일로 저장 (np array 파일로 저장)\n",
    "np.save(root_dir + 'kfood.npy', xy)\n",
    "\n",
    "# 대용량 이미지 처리하거나 자연어 처리를 진행할 경우 중간파일을 저장할 필요가 있음\n",
    "# 자연어 처리 같은 경우는 단어 사전을 저장했다가 서비스 등에 이용해야 함\n",
    "# 보통 numpy의 array 형식을 가장 많이 사용함\n",
    "# 딕셔너리 저장도 npy 형식으로 저장하면 훨씬 효울적"
   ]
  },
  {
   "cell_type": "markdown",
   "id": "a913eefc",
   "metadata": {},
   "source": [
    "### 모델 생성"
   ]
  },
  {
   "cell_type": "code",
   "execution_count": 7,
   "id": "f603fa0e",
   "metadata": {},
   "outputs": [],
   "source": [
    "## 사용할 모델 라이브러리 import\n",
    "import sys, os\n",
    "from keras.models import Sequential  # 모델 구조를 생성하는 라이브러리\n",
    "from keras.layers import Convolution2D  # 합성곱 층을 생성하는 라이브러리(2차원 처리)\n",
    "from keras.layers import MaxPooling2D  # 합성곱 층에서 생성된 특성맵을 단순화하는 층(2차원 처리)\n",
    "from keras.layers import Activation  # 활성화 함수 지정\n",
    "from keras.layers import Dropout  # 규제적용 층\n",
    "from keras.layers import Flatten  # 데이터를 1차원으로 변환시켜주는 층\n",
    "from keras.layers import Dense  # 밀집층\n",
    "from keras.utils import np_utils  \n",
    "import numpy as np"
   ]
  },
  {
   "cell_type": "code",
   "execution_count": 8,
   "id": "f3d0db17",
   "metadata": {},
   "outputs": [],
   "source": [
    "# 초기 설정\n",
    "root_dir = \"./kfood/\"\n",
    "categories = [\"Chicken\", \"Dolsotbab\", \"Jeyugbokk-eum\", \"Kimchi\", \n",
    "                \"Samgyeobsal\", \"SoybeanPasteStew\"]\n",
    "nb_classes = len(categories)\n",
    "image_size = 64"
   ]
  },
  {
   "cell_type": "code",
   "execution_count": 9,
   "id": "4fe94195",
   "metadata": {},
   "outputs": [],
   "source": [
    "# 저장해놓은 npy 파일 로드 후 최종 전처리 함수\n",
    "def load_dataset():\n",
    "    x_train, x_test, y_train, y_test = np.load(\"./kfood/kfood.npy\",allow_pickle=True)\n",
    "    \n",
    "    # 스케일링코드\n",
    "    x_train = x_train.astype('float') / 255\n",
    "    x_test = x_test.astype('float') / 255\n",
    "    \n",
    "    # 폴더별 카테고리화(label 생성)\n",
    "    y_train = np_utils.to_categorical(y_train, nb_classes)\n",
    "    y_test = np_utils.to_categorical(y_test, nb_classes)\n",
    "    \n",
    "    return  x_train, x_test, y_train, y_test"
   ]
  },
  {
   "cell_type": "code",
   "execution_count": 10,
   "id": "e8e5e8bb",
   "metadata": {},
   "outputs": [],
   "source": [
    "x, x1, y, y1 = load_dataset()"
   ]
  },
  {
   "cell_type": "code",
   "execution_count": 11,
   "id": "97a06df3",
   "metadata": {},
   "outputs": [
    {
     "data": {
      "text/plain": [
       "numpy.float32"
      ]
     },
     "execution_count": 11,
     "metadata": {},
     "output_type": "execute_result"
    }
   ],
   "source": [
    "type(y[0][0])"
   ]
  },
  {
   "cell_type": "code",
   "execution_count": 12,
   "id": "d04d02b4",
   "metadata": {},
   "outputs": [],
   "source": [
    "# 입력 이미지 크기에 따른 모델 구성 함수\n",
    "# 모델은 기본 cnn 모델이며 dropout으로 규제 설정 되어 있음\n",
    "def build_model(in_shape):\n",
    "    model = Sequential()\n",
    "    model.add(Convolution2D(32, 3, 3, padding='Same', \n",
    "                input_shape=in_shape))\n",
    "    model.add(Activation('relu'))\n",
    "    model.add(MaxPooling2D(pool_size=(2,2)))\n",
    "#     model.add(Dropout(0.25))  # 25% 필터 끄기\n",
    "    model.add(Convolution2D(64, 3, 3, padding='same'))\n",
    "    model.add(Activation('relu'))\n",
    "    model.add(Convolution2D(64, 3, 3))\n",
    "    model.add(MaxPooling2D(pool_size=(2,2),padding='same'))\n",
    "#     model.add(Dropout(0.25))\n",
    "    model.add(Flatten())\n",
    "    model.add(Dense(512))\n",
    "    model.add(Activation('relu'))\n",
    "    model.add(Dropout(0.3))\n",
    "    model.add(Dense(nb_classes))\n",
    "    model.add(Activation('softmax'))\n",
    "    model.compile(loss='categorical_crossentropy', \n",
    "                    optimizer='rmsprop', \n",
    "                    metrics=['accuracy'])\n",
    "\n",
    "    return model"
   ]
  },
  {
   "cell_type": "code",
   "execution_count": 13,
   "id": "e1ede81b",
   "metadata": {},
   "outputs": [],
   "source": [
    "# 모델 생성후 학습된 모델 반환하는 함수\n",
    "def model_train(x, y):\n",
    "    model = build_model(x.shape[1:])\n",
    "    model.fit(x, y, batch_size=32, epochs=30)  # batch_size=32 기본값\n",
    "    return model"
   ]
  },
  {
   "cell_type": "code",
   "execution_count": 14,
   "id": "5e9fc5ab",
   "metadata": {},
   "outputs": [],
   "source": [
    "# 모델 평가함수\n",
    "def model_eval(model, x, y):\n",
    "    score = model.evaluate(x, y)\n",
    "    print('loss=', score[0])\n",
    "    print('accuracy=', score[1])"
   ]
  },
  {
   "cell_type": "code",
   "execution_count": 15,
   "id": "131e0f73",
   "metadata": {
    "scrolled": true
   },
   "outputs": [
    {
     "name": "stdout",
     "output_type": "stream",
     "text": [
      "Epoch 1/30\n",
      "4/4 [==============================] - 3s 58ms/step - loss: 1.7385 - accuracy: 0.2661\n",
      "Epoch 2/30\n",
      "4/4 [==============================] - 0s 23ms/step - loss: 1.6322 - accuracy: 0.3486\n",
      "Epoch 3/30\n",
      "4/4 [==============================] - 0s 10ms/step - loss: 1.5700 - accuracy: 0.2661\n",
      "Epoch 4/30\n",
      "4/4 [==============================] - 0s 10ms/step - loss: 1.4577 - accuracy: 0.4037\n",
      "Epoch 5/30\n",
      "4/4 [==============================] - 0s 6ms/step - loss: 1.3508 - accuracy: 0.3394\n",
      "Epoch 6/30\n",
      "4/4 [==============================] - 0s 6ms/step - loss: 1.2348 - accuracy: 0.4037\n",
      "Epoch 7/30\n",
      "4/4 [==============================] - 0s 6ms/step - loss: 1.1560 - accuracy: 0.5046\n",
      "Epoch 8/30\n",
      "4/4 [==============================] - 0s 5ms/step - loss: 0.9823 - accuracy: 0.6055\n",
      "Epoch 9/30\n",
      "4/4 [==============================] - 0s 4ms/step - loss: 1.1370 - accuracy: 0.4404\n",
      "Epoch 10/30\n",
      "4/4 [==============================] - 0s 4ms/step - loss: 0.9338 - accuracy: 0.6055\n",
      "Epoch 11/30\n",
      "4/4 [==============================] - 0s 4ms/step - loss: 0.8739 - accuracy: 0.5780\n",
      "Epoch 12/30\n",
      "4/4 [==============================] - 0s 4ms/step - loss: 0.9638 - accuracy: 0.5688\n",
      "Epoch 13/30\n",
      "4/4 [==============================] - 0s 4ms/step - loss: 0.8448 - accuracy: 0.6239\n",
      "Epoch 14/30\n",
      "4/4 [==============================] - 0s 4ms/step - loss: 0.7316 - accuracy: 0.6972\n",
      "Epoch 15/30\n",
      "4/4 [==============================] - 0s 4ms/step - loss: 0.7073 - accuracy: 0.6514\n",
      "Epoch 16/30\n",
      "4/4 [==============================] - 0s 4ms/step - loss: 0.6684 - accuracy: 0.6972\n",
      "Epoch 17/30\n",
      "4/4 [==============================] - 0s 4ms/step - loss: 1.0131 - accuracy: 0.5321\n",
      "Epoch 18/30\n",
      "4/4 [==============================] - 0s 4ms/step - loss: 0.7507 - accuracy: 0.7248\n",
      "Epoch 19/30\n",
      "4/4 [==============================] - 0s 4ms/step - loss: 0.5893 - accuracy: 0.7615\n",
      "Epoch 20/30\n",
      "4/4 [==============================] - 0s 4ms/step - loss: 0.6944 - accuracy: 0.6697\n",
      "Epoch 21/30\n",
      "4/4 [==============================] - 0s 4ms/step - loss: 0.5206 - accuracy: 0.7890\n",
      "Epoch 22/30\n",
      "4/4 [==============================] - 0s 4ms/step - loss: 0.4213 - accuracy: 0.8899\n",
      "Epoch 23/30\n",
      "4/4 [==============================] - 0s 4ms/step - loss: 0.5197 - accuracy: 0.7798\n",
      "Epoch 24/30\n",
      "4/4 [==============================] - 0s 4ms/step - loss: 0.4217 - accuracy: 0.8165\n",
      "Epoch 25/30\n",
      "4/4 [==============================] - 0s 4ms/step - loss: 0.5541 - accuracy: 0.7890\n",
      "Epoch 26/30\n",
      "4/4 [==============================] - 0s 4ms/step - loss: 0.3699 - accuracy: 0.8349\n",
      "Epoch 27/30\n",
      "4/4 [==============================] - 0s 4ms/step - loss: 0.7282 - accuracy: 0.7890\n",
      "Epoch 28/30\n",
      "4/4 [==============================] - 0s 4ms/step - loss: 0.3001 - accuracy: 0.9358\n",
      "Epoch 29/30\n",
      "4/4 [==============================] - 0s 4ms/step - loss: 0.3503 - accuracy: 0.8807\n",
      "Epoch 30/30\n",
      "4/4 [==============================] - 0s 4ms/step - loss: 0.3720 - accuracy: 0.8440\n",
      "2/2 [==============================] - 0s 15ms/step - loss: 1.3633 - accuracy: 0.4595\n",
      "loss= 1.3633075952529907\n",
      "accuracy= 0.45945945382118225\n"
     ]
    }
   ],
   "source": [
    "# 모델 학습 및 평가\n",
    "x_train, x_test, y_train, y_test = load_dataset()\n",
    "model = model_train(x_train, y_train)\n",
    "model_eval(model, x_test, y_test)"
   ]
  },
  {
   "cell_type": "markdown",
   "id": "86abc6a8",
   "metadata": {},
   "source": [
    "### 1차 모델\n",
    "- 과소적합으로 보여짐\n",
    "    - 모델에 dropout을 통해 과한 규제\n",
    "        - dropout을 제거\n",
    "    - (146, 64, 64, 2)의 학습데이터를 사용 - 딥러닝에 사용하기에 data가 너무 적다.\n",
    "    - 위 두 문제가 아니면 층을 추가하고 필터 수를 늘림\n",
    "    - 에포크 수를 증가시킬 수 있음"
   ]
  },
  {
   "cell_type": "code",
   "execution_count": 16,
   "id": "422112d3",
   "metadata": {},
   "outputs": [],
   "source": [
    "# 모델 저장\n",
    "model.save(\"./kfood/kfood_model.h5\")"
   ]
  },
  {
   "cell_type": "markdown",
   "id": "88f90218",
   "metadata": {},
   "source": [
    "### 모델 로드하여 확인하기"
   ]
  },
  {
   "cell_type": "code",
   "execution_count": 17,
   "id": "4da36e7b",
   "metadata": {},
   "outputs": [],
   "source": [
    "import sys, os\n",
    "from keras.models import Sequential\n",
    "from keras.layers import Convolution2D, MaxPooling2D\n",
    "from keras.layers import Activation, Dropout, Flatten, Dense\n",
    "from keras.utils import np_utils\n",
    "from keras.models import load_model\n",
    "from PIL import Image\n",
    "import numpy as np"
   ]
  },
  {
   "cell_type": "code",
   "execution_count": 18,
   "id": "8b1225e6",
   "metadata": {},
   "outputs": [],
   "source": [
    "# 테스트 이미지 목록 (1)\n",
    "image_files = [\"kfood/Chicken/chicken_01.jpg\",\n",
    "               \"kfood/Chicken/chicken_02.jpg\",\n",
    "               \"kfood/Kimchi/kimchi15.jpg\",\n",
    "               \"kfood/Kimchi/kimchi07.jpg\",\n",
    "               \"kfood/Samgyeobsal/Samgyeobsal04.jpg\"]\n",
    "image_size = 64\n",
    "nb_classes = len(image_files)\n",
    "categories = [\"Chicken\", \"Dolsotbab\", \"Jeyugbokk-eum\", \"Kimchi\",\n",
    "              \"Samgyeobsal\", \"SoybeanPasteStew\"]"
   ]
  },
  {
   "cell_type": "code",
   "execution_count": 19,
   "id": "37b944e6",
   "metadata": {},
   "outputs": [],
   "source": [
    "image_size = 64\n",
    "X = []\n",
    "files = []\n",
    "\n",
    "# 테스트이미지 전처리\n",
    "for fname in image_files:\n",
    "    img = Image.open(fname)\n",
    "    img = img.convert('RGB')\n",
    "    img = img.resize((image_size, image_size))\n",
    "    in_data = np.asarray(img)\n",
    "    in_data = in_data.astype('float')/255\n",
    "    X.append(in_data)  # list\n",
    "    files.append(fname)\n",
    "\n",
    "X = np.array(X)  # array"
   ]
  },
  {
   "cell_type": "code",
   "execution_count": 20,
   "id": "3cad6c55",
   "metadata": {},
   "outputs": [
    {
     "data": {
      "text/plain": [
       "array([[[[0.56862745, 0.11372549, 0.05098039],\n",
       "         [0.6627451 , 0.18039216, 0.09803922],\n",
       "         [0.50980392, 0.14901961, 0.09019608],\n",
       "         ...,\n",
       "         [0.35294118, 0.30196078, 0.24313725],\n",
       "         [0.29803922, 0.24705882, 0.19607843],\n",
       "         [0.32156863, 0.24705882, 0.18431373]],\n",
       "\n",
       "        [[0.66666667, 0.10588235, 0.        ],\n",
       "         [0.58039216, 0.05490196, 0.        ],\n",
       "         [0.42352941, 0.04313725, 0.01960784],\n",
       "         ...,\n",
       "         [0.30980392, 0.23529412, 0.18431373],\n",
       "         [0.30980392, 0.25490196, 0.20784314],\n",
       "         [0.3254902 , 0.2627451 , 0.20784314]],\n",
       "\n",
       "        [[0.55686275, 0.22352941, 0.19215686],\n",
       "         [0.38431373, 0.01568627, 0.00392157],\n",
       "         [0.29411765, 0.01568627, 0.02352941],\n",
       "         ...,\n",
       "         [0.34509804, 0.29019608, 0.23529412],\n",
       "         [0.30588235, 0.24313725, 0.19607843],\n",
       "         [0.30980392, 0.25882353, 0.21568627]],\n",
       "\n",
       "        ...,\n",
       "\n",
       "        [[0.72156863, 0.61176471, 0.5372549 ],\n",
       "         [0.68235294, 0.55294118, 0.48235294],\n",
       "         [0.64705882, 0.51372549, 0.43921569],\n",
       "         ...,\n",
       "         [0.29411765, 0.21960784, 0.15686275],\n",
       "         [0.35294118, 0.23137255, 0.16078431],\n",
       "         [0.30196078, 0.2       , 0.14117647]],\n",
       "\n",
       "        [[0.69803922, 0.58039216, 0.51764706],\n",
       "         [0.72156863, 0.58039216, 0.50980392],\n",
       "         [0.57647059, 0.45098039, 0.39607843],\n",
       "         ...,\n",
       "         [0.30196078, 0.22352941, 0.16078431],\n",
       "         [0.31764706, 0.21568627, 0.15686275],\n",
       "         [0.29411765, 0.2       , 0.14117647]],\n",
       "\n",
       "        [[0.69019608, 0.56862745, 0.50588235],\n",
       "         [0.7372549 , 0.60392157, 0.54117647],\n",
       "         [0.61960784, 0.47843137, 0.35686275],\n",
       "         ...,\n",
       "         [0.31764706, 0.23529412, 0.16470588],\n",
       "         [0.32156863, 0.22352941, 0.16078431],\n",
       "         [0.31764706, 0.21176471, 0.14901961]]],\n",
       "\n",
       "\n",
       "       [[[0.87843137, 0.85882353, 0.8745098 ],\n",
       "         [0.88235294, 0.8627451 , 0.87843137],\n",
       "         [0.87843137, 0.85882353, 0.8745098 ],\n",
       "         ...,\n",
       "         [0.93333333, 0.89411765, 0.88627451],\n",
       "         [0.9254902 , 0.88627451, 0.87843137],\n",
       "         [0.91764706, 0.89411765, 0.87843137]],\n",
       "\n",
       "        [[0.89803922, 0.89411765, 0.90196078],\n",
       "         [0.89411765, 0.89019608, 0.90196078],\n",
       "         [0.88627451, 0.88235294, 0.89411765],\n",
       "         ...,\n",
       "         [0.92941176, 0.89019608, 0.88235294],\n",
       "         [0.92941176, 0.89019608, 0.88235294],\n",
       "         [0.92156863, 0.89803922, 0.88235294]],\n",
       "\n",
       "        [[0.89803922, 0.89803922, 0.90588235],\n",
       "         [0.89411765, 0.89803922, 0.90196078],\n",
       "         [0.88627451, 0.89019608, 0.89411765],\n",
       "         ...,\n",
       "         [0.9254902 , 0.89019608, 0.8745098 ],\n",
       "         [0.9372549 , 0.89803922, 0.88235294],\n",
       "         [0.92941176, 0.89411765, 0.88627451]],\n",
       "\n",
       "        ...,\n",
       "\n",
       "        [[0.42352941, 0.34509804, 0.29019608],\n",
       "         [0.4       , 0.33333333, 0.30196078],\n",
       "         [0.45882353, 0.38823529, 0.34509804],\n",
       "         ...,\n",
       "         [0.81960784, 0.78431373, 0.76078431],\n",
       "         [0.82352941, 0.78823529, 0.76862745],\n",
       "         [0.81960784, 0.78431373, 0.76470588]],\n",
       "\n",
       "        [[0.52156863, 0.36862745, 0.27843137],\n",
       "         [0.46666667, 0.3254902 , 0.24705882],\n",
       "         [0.39607843, 0.29803922, 0.24313725],\n",
       "         ...,\n",
       "         [0.8       , 0.76078431, 0.72941176],\n",
       "         [0.82745098, 0.78823529, 0.75686275],\n",
       "         [0.82352941, 0.79215686, 0.75686275]],\n",
       "\n",
       "        [[0.51372549, 0.36470588, 0.29019608],\n",
       "         [0.49803922, 0.3372549 , 0.24705882],\n",
       "         [0.48627451, 0.31764706, 0.21960784],\n",
       "         ...,\n",
       "         [0.80784314, 0.76862745, 0.73333333],\n",
       "         [0.81960784, 0.78039216, 0.74509804],\n",
       "         [0.82745098, 0.78431373, 0.74901961]]],\n",
       "\n",
       "\n",
       "       [[[1.        , 1.        , 1.        ],\n",
       "         [1.        , 1.        , 1.        ],\n",
       "         [1.        , 1.        , 1.        ],\n",
       "         ...,\n",
       "         [1.        , 1.        , 1.        ],\n",
       "         [1.        , 1.        , 1.        ],\n",
       "         [1.        , 1.        , 1.        ]],\n",
       "\n",
       "        [[1.        , 1.        , 1.        ],\n",
       "         [1.        , 1.        , 1.        ],\n",
       "         [1.        , 1.        , 1.        ],\n",
       "         ...,\n",
       "         [1.        , 1.        , 1.        ],\n",
       "         [1.        , 1.        , 1.        ],\n",
       "         [1.        , 1.        , 1.        ]],\n",
       "\n",
       "        [[1.        , 1.        , 1.        ],\n",
       "         [1.        , 1.        , 1.        ],\n",
       "         [1.        , 1.        , 1.        ],\n",
       "         ...,\n",
       "         [1.        , 1.        , 1.        ],\n",
       "         [1.        , 1.        , 1.        ],\n",
       "         [1.        , 1.        , 1.        ]],\n",
       "\n",
       "        ...,\n",
       "\n",
       "        [[1.        , 1.        , 1.        ],\n",
       "         [1.        , 1.        , 1.        ],\n",
       "         [1.        , 1.        , 1.        ],\n",
       "         ...,\n",
       "         [1.        , 1.        , 1.        ],\n",
       "         [1.        , 1.        , 1.        ],\n",
       "         [1.        , 1.        , 1.        ]],\n",
       "\n",
       "        [[1.        , 1.        , 1.        ],\n",
       "         [1.        , 1.        , 1.        ],\n",
       "         [1.        , 1.        , 1.        ],\n",
       "         ...,\n",
       "         [1.        , 1.        , 1.        ],\n",
       "         [1.        , 1.        , 1.        ],\n",
       "         [1.        , 1.        , 1.        ]],\n",
       "\n",
       "        [[1.        , 1.        , 1.        ],\n",
       "         [1.        , 1.        , 1.        ],\n",
       "         [1.        , 1.        , 1.        ],\n",
       "         ...,\n",
       "         [1.        , 1.        , 1.        ],\n",
       "         [1.        , 1.        , 1.        ],\n",
       "         [1.        , 1.        , 1.        ]]],\n",
       "\n",
       "\n",
       "       [[[0.91764706, 0.93333333, 0.95686275],\n",
       "         [0.91764706, 0.93333333, 0.96078431],\n",
       "         [0.9372549 , 0.94117647, 0.96078431],\n",
       "         ...,\n",
       "         [0.95686275, 0.96078431, 0.97647059],\n",
       "         [0.99215686, 0.99215686, 0.99607843],\n",
       "         [1.        , 1.        , 1.        ]],\n",
       "\n",
       "        [[0.9254902 , 0.93333333, 0.95294118],\n",
       "         [0.92941176, 0.9372549 , 0.96078431],\n",
       "         [0.94509804, 0.94901961, 0.96862745],\n",
       "         ...,\n",
       "         [0.96078431, 0.96078431, 0.97647059],\n",
       "         [0.99215686, 0.99215686, 0.99607843],\n",
       "         [1.        , 1.        , 1.        ]],\n",
       "\n",
       "        [[0.93333333, 0.9372549 , 0.95294118],\n",
       "         [0.9372549 , 0.9372549 , 0.95686275],\n",
       "         [0.94509804, 0.94901961, 0.96862745],\n",
       "         ...,\n",
       "         [0.96470588, 0.96862745, 0.98039216],\n",
       "         [0.99607843, 0.99607843, 0.99607843],\n",
       "         [1.        , 1.        , 1.        ]],\n",
       "\n",
       "        ...,\n",
       "\n",
       "        [[0.83529412, 0.86666667, 0.89803922],\n",
       "         [0.83137255, 0.8627451 , 0.89803922],\n",
       "         [0.82745098, 0.85882353, 0.89411765],\n",
       "         ...,\n",
       "         [0.99215686, 0.99215686, 0.99215686],\n",
       "         [1.        , 1.        , 1.        ],\n",
       "         [1.        , 1.        , 1.        ]],\n",
       "\n",
       "        [[0.83921569, 0.86666667, 0.90196078],\n",
       "         [0.82745098, 0.85882353, 0.89803922],\n",
       "         [0.82352941, 0.85882353, 0.89411765],\n",
       "         ...,\n",
       "         [0.99215686, 0.99215686, 0.99215686],\n",
       "         [1.        , 1.        , 1.        ],\n",
       "         [1.        , 1.        , 1.        ]],\n",
       "\n",
       "        [[0.85098039, 0.86666667, 0.90196078],\n",
       "         [0.83137255, 0.8627451 , 0.89803922],\n",
       "         [0.82745098, 0.85490196, 0.89019608],\n",
       "         ...,\n",
       "         [0.99215686, 0.99215686, 0.99215686],\n",
       "         [1.        , 1.        , 1.        ],\n",
       "         [1.        , 1.        , 1.        ]]],\n",
       "\n",
       "\n",
       "       [[[0.28235294, 0.28627451, 0.26666667],\n",
       "         [0.20784314, 0.20784314, 0.18039216],\n",
       "         [0.18823529, 0.19215686, 0.16862745],\n",
       "         ...,\n",
       "         [0.74117647, 0.2745098 , 0.14901961],\n",
       "         [0.7372549 , 0.28235294, 0.1372549 ],\n",
       "         [0.74901961, 0.41960784, 0.23529412]],\n",
       "\n",
       "        [[0.18823529, 0.18431373, 0.14117647],\n",
       "         [0.06666667, 0.06666667, 0.03921569],\n",
       "         [0.05882353, 0.05882353, 0.03529412],\n",
       "         ...,\n",
       "         [0.67843137, 0.1372549 , 0.01568627],\n",
       "         [0.68627451, 0.14117647, 0.        ],\n",
       "         [0.71764706, 0.23921569, 0.09019608]],\n",
       "\n",
       "        [[0.09803922, 0.09803922, 0.10196078],\n",
       "         [0.02352941, 0.02745098, 0.01960784],\n",
       "         [0.05098039, 0.05098039, 0.03921569],\n",
       "         ...,\n",
       "         [0.64313725, 0.11764706, 0.03137255],\n",
       "         [0.6627451 , 0.1254902 , 0.01960784],\n",
       "         [0.71764706, 0.21568627, 0.10196078]],\n",
       "\n",
       "        ...,\n",
       "\n",
       "        [[0.18823529, 0.17647059, 0.14117647],\n",
       "         [0.19607843, 0.16470588, 0.09019608],\n",
       "         [0.23529412, 0.21176471, 0.10588235],\n",
       "         ...,\n",
       "         [0.57647059, 0.19215686, 0.01176471],\n",
       "         [0.59607843, 0.25098039, 0.00392157],\n",
       "         [0.62745098, 0.30980392, 0.10196078]],\n",
       "\n",
       "        [[0.07843137, 0.07843137, 0.08235294],\n",
       "         [0.        , 0.        , 0.        ],\n",
       "         [0.01568627, 0.01176471, 0.00784314],\n",
       "         ...,\n",
       "         [0.5372549 , 0.19215686, 0.00392157],\n",
       "         [0.63137255, 0.26666667, 0.        ],\n",
       "         [0.65098039, 0.3372549 , 0.08627451]],\n",
       "\n",
       "        [[0.21568627, 0.21568627, 0.21960784],\n",
       "         [0.13333333, 0.13333333, 0.1372549 ],\n",
       "         [0.13333333, 0.13333333, 0.13333333],\n",
       "         ...,\n",
       "         [0.48235294, 0.2627451 , 0.15294118],\n",
       "         [0.6627451 , 0.3254902 , 0.14117647],\n",
       "         [0.73333333, 0.45882353, 0.22745098]]]])"
      ]
     },
     "execution_count": 20,
     "metadata": {},
     "output_type": "execute_result"
    }
   ],
   "source": [
    "X"
   ]
  },
  {
   "cell_type": "code",
   "execution_count": 21,
   "id": "0f1bc112",
   "metadata": {},
   "outputs": [],
   "source": [
    "# 모델 파일 읽어오기\n",
    "model = load_model('./kfood/kfood_model.h5')"
   ]
  },
  {
   "cell_type": "code",
   "execution_count": 22,
   "id": "7c4db53d",
   "metadata": {},
   "outputs": [],
   "source": [
    "# 예측 실행  (4)\n",
    "pre = model.predict(X)  # 예측에 대한 확률"
   ]
  },
  {
   "cell_type": "code",
   "execution_count": 23,
   "id": "2137995f",
   "metadata": {},
   "outputs": [
    {
     "name": "stdout",
     "output_type": "stream",
     "text": [
      "입력: kfood/Chicken/chicken_01.jpg\n",
      "예측: [ 3 ] Kimchi / Score 0.7255892\n",
      "입력: kfood/Chicken/chicken_02.jpg\n",
      "예측: [ 3 ] Kimchi / Score 0.7849758\n",
      "입력: kfood/Kimchi/kimchi15.jpg\n",
      "예측: [ 3 ] Kimchi / Score 0.71715957\n",
      "입력: kfood/Kimchi/kimchi07.jpg\n",
      "예측: [ 3 ] Kimchi / Score 0.96639687\n",
      "입력: kfood/Samgyeobsal/Samgyeobsal04.jpg\n",
      "예측: [ 4 ] Samgyeobsal / Score 0.6747752\n"
     ]
    }
   ],
   "source": [
    "# 예측 결과 출력 (5)\n",
    "for i, p in enumerate(pre):\n",
    "    y = p.argmax()  # 예측확률이 가장 큰 값의 index 호출코드\n",
    "    print(\"입력:\", files[i])\n",
    "    # 예측 결과 아래 예시와 같이 출력\n",
    "    print(\"예측:\", \"[\", y, \"]\", categories[y], \"/ Score\", p[y])\n",
    "    \n",
    "    # 실제로 그렇게 좋은 모델은 아니다."
   ]
  },
  {
   "cell_type": "markdown",
   "id": "659c2236",
   "metadata": {},
   "source": [
    "### 위 테스트 결과는 학습이미지를 이용해서 테스트 한 결과\n",
    "- 모델 성능보다 분류를 잘 할 수 있음"
   ]
  }
 ],
 "metadata": {
  "kernelspec": {
   "display_name": "Python 3 (ipykernel)",
   "language": "python",
   "name": "python3"
  },
  "language_info": {
   "codemirror_mode": {
    "name": "ipython",
    "version": 3
   },
   "file_extension": ".py",
   "mimetype": "text/x-python",
   "name": "python",
   "nbconvert_exporter": "python",
   "pygments_lexer": "ipython3",
   "version": "3.8.12"
  }
 },
 "nbformat": 4,
 "nbformat_minor": 5
}
